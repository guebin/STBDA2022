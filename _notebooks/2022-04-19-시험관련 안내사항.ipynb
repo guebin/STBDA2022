{
 "cells": [
  {
   "cell_type": "markdown",
   "id": "e42a7601-bace-4fdf-ac38-a6cf3e90e12d",
   "metadata": {
    "tags": []
   },
   "source": [
    "# 시험관련 안내사항\n",
    "> 시험유형, 시험시간, 시험실 입장, 시험문제 공개방식, 제출방식, 준비물, 준비사항, 유의사항\n",
    "\n",
    "- toc:true\n",
    "- branch: master\n",
    "- badges: true\n",
    "- comments: true\n",
    "- author: 최규빈"
   ]
  },
  {
   "cell_type": "markdown",
   "id": "96e1b28c-61e6-42a9-bad7-d54e567e10b0",
   "metadata": {
    "tags": []
   },
   "source": [
    "### 시험유형 \n"
   ]
  },
  {
   "cell_type": "markdown",
   "id": "94ddc9f9-b5c7-4406-b2ff-bca59d9c7a19",
   "metadata": {},
   "source": [
    "\n",
    "`-` 오픈북: 강의노트, 본인이 정리한 노트, 인터넷 검색 가능\n",
    "\n",
    "`-` 비대면: Zoom을 활용하여 응시"
   ]
  },
  {
   "cell_type": "markdown",
   "id": "f4a28b00-4112-4080-bdba-8f2805b7dbd5",
   "metadata": {},
   "source": [
    "### 시험시간 \n"
   ]
  },
  {
   "cell_type": "markdown",
   "id": "d55f0740-ae46-4b89-9100-2b1ba81bbeef",
   "metadata": {},
   "source": [
    "\n",
    "`-` 일시: LMS를 통해 공지한 날의 수업시간\n",
    "\n",
    "`-` 시험시간 중 처음 30분은 장비점검시간으로 활용함 (단, 모든 사람이 준비될 경우 30분을 기다리지 않고 시작) \n",
    "\n",
    "- 따라서 2시간 수업일 경우 실질적으로 문제를 풀고 답안을 제출할때 까지 쓸 수 있는 시간은 1시간30분입니다."
   ]
  },
  {
   "cell_type": "markdown",
   "id": "d1b02de7-b2e9-4951-918a-2927172654c7",
   "metadata": {},
   "source": [
    "### 시험실 입장 "
   ]
  },
  {
   "cell_type": "markdown",
   "id": "b93646ce-6621-4607-b8ac-dddb81d5a50b",
   "metadata": {},
   "source": [
    "`-` LMS $\\to$ 강의대화 $\\to$ Zoom 화상강의 바로 가기로 입장"
   ]
  },
  {
   "cell_type": "markdown",
   "id": "5178b6ce-656d-483f-8fa2-2c966c972b1c",
   "metadata": {},
   "source": [
    "### 시험문제 공개방식 \n",
    "\n"
   ]
  },
  {
   "cell_type": "markdown",
   "id": "4b23e424-b690-4093-bca7-39307c841ea3",
   "metadata": {},
   "source": [
    "`-` LMS에 주피터노트북 파일 업로드 + LMS 공지사항을 통하여 시험문제의 URL을 공개\n",
    "- 주피터파일의 장점: URL보다 LMS의 주피터노트북이 더 빠르게 공개됨. \n",
    "- URL의 장점: 시험문제의 오류가 있을 경우 수정이후 URL에 반영됨. "
   ]
  },
  {
   "cell_type": "markdown",
   "id": "938f7f9f-6871-43be-927a-3fe6f9ff1c40",
   "metadata": {},
   "source": [
    "### 제출 "
   ]
  },
  {
   "cell_type": "markdown",
   "id": "9fd7958e-f9b6-4893-a322-812caa5e8047",
   "metadata": {},
   "source": [
    "`-` 답안지: LMS의 레포트 메뉴를 활용하여 답안지를 제출 (종료시간 이전에 미리 제출가능) "
   ]
  },
  {
   "cell_type": "markdown",
   "id": "38bdad43-5973-4049-b843-a999ecf37366",
   "metadata": {},
   "source": [
    "`-` 동영상: 시험시간동안 컴퓨터전체화면 녹화후 제출 \n",
    "- 듀얼모니터의 경우 작업표시줄이 나타나는 모니터를 녹화\n",
    "- 아이패드와 동시사용시에는 아이패드도 함께 녹화 "
   ]
  },
  {
   "cell_type": "markdown",
   "id": "fa8e831c-123a-4052-8765-1a9b02867023",
   "metadata": {},
   "source": [
    "### 준비물 "
   ]
  },
  {
   "cell_type": "markdown",
   "id": "2fa2454e-570f-4caf-9609-8832e32cb78a",
   "metadata": {},
   "source": [
    "`-` 컴퓨터 및 노트북: 시험지 확인 및 문제풀이 용도 "
   ]
  },
  {
   "cell_type": "markdown",
   "id": "b74107a4-40ce-4729-92cb-9287fda6780f",
   "metadata": {},
   "source": [
    "`-` 핸드폰: Zoom을 통하여 주변상황을 및 컴퓨터 화면을 촬영하는 용도 \n",
    "\n",
    "- 중간에 핸드폰 및 노트북이 꺼지지 않도록 충전기를 준비한다. "
   ]
  },
  {
   "cell_type": "markdown",
   "id": "d8e45a02-c65b-4189-b09c-db290cbc998a",
   "metadata": {},
   "source": [
    "`-` 학생증 혹은 신분증 (본인확인용도)"
   ]
  },
  {
   "cell_type": "markdown",
   "id": "17130966-ce4b-4fb9-b990-0d8227993d44",
   "metadata": {},
   "source": [
    "### 시험전 준비사항"
   ]
  },
  {
   "cell_type": "markdown",
   "id": "f38d7f4c-8a8c-4d8e-a014-d9c06666735e",
   "metadata": {},
   "source": [
    "`-` 시험준비시간 동안 핸드폰을 아래와 같이 배치하여 학생의 컴퓨터 화면 및 주변상황이 보이도록 함\n",
    "\n",
    "![](https://github.com/guebin/2021IR/blob/master/_notebooks/img.png?raw=true)\n",
    "- 적절한 각도를 설정하기 어려운 경우 주변환경보다 컴퓨터의 화면이 잘 보이도록 설정할 것 "
   ]
  },
  {
   "cell_type": "markdown",
   "id": "e9781e44-83b4-4e62-aafc-d7a61fd698a8",
   "metadata": {},
   "source": [
    "`-` 학생증을 준비하여 시험 시작 직전에 본인의 얼굴과 학생증을 함께 촬영한다. (5초간) "
   ]
  },
  {
   "cell_type": "markdown",
   "id": "3e5b471d-d323-48fe-9690-70934a942820",
   "metadata": {},
   "source": [
    "### 유의사항"
   ]
  },
  {
   "cell_type": "markdown",
   "id": "ec6fbb8e-36e2-4ccd-8bf1-1b52207038c1",
   "metadata": {},
   "source": [
    "`-` 줌의 대화명은 이름과 학번을 모두 적는다. (예시: 최규빈_202143052)\n",
    "\n",
    "- 동명이인이 있을 수 있으므로 학번을 같이 적으세요"
   ]
  },
  {
   "cell_type": "markdown",
   "id": "e2b3a901-bb7a-4bef-99d2-21f7d39bec5b",
   "metadata": {},
   "source": [
    "`-` 질문은 카카오톡 채널 혹은 줌의 채팅기능을 이용한다.  "
   ]
  },
  {
   "cell_type": "markdown",
   "id": "129738bf-6201-4b2f-ae38-19098048dca1",
   "metadata": {},
   "source": [
    "`-` Zoom에서 스피커 음소거를 하지 않는다. (전체 공지사항등이 있을때 음성으로 공지함) "
   ]
  },
  {
   "cell_type": "markdown",
   "id": "690e866c-808e-4851-abaf-8d5e71c24bb2",
   "metadata": {},
   "source": [
    "`-` 핸드폰으로 Zoom참가 중 전화가 오면 거절하고 받지 않는다. (전화통화시 Zoom연결이 종료되므로 부정행위로 의심할 수 있음) "
   ]
  },
  {
   "cell_type": "markdown",
   "id": "4e044dda-3b37-49c2-b33f-daac2ccf1444",
   "metadata": {},
   "source": [
    "### 기타 참고사항"
   ]
  },
  {
   "cell_type": "markdown",
   "id": "9299e0f0-c3ad-4000-94ae-8f3a6f7ea2a9",
   "metadata": {},
   "source": [
    "`-` 핸드폰과 피씨를 이용하여 줌에 동시접속할 경우 \n",
    "- 최규빈_202143052_핸드폰\n",
    "- 최규빈_202143052_컴퓨터 \n",
    "\n",
    "와 같이 기기를 분리하여 적는다. "
   ]
  },
  {
   "cell_type": "markdown",
   "id": "c42fc3b4-871e-47d0-9dba-8823b1b12827",
   "metadata": {},
   "source": [
    "`-` 시험문제는 코랩으로 풀어도 무방하며 시험문제를 다운받아 개인 주피터노트북 등으로 풀어도 무방하다."
   ]
  },
  {
   "cell_type": "markdown",
   "id": "ec0bacdb-fd53-4acd-b8a5-1b66a3141bbf",
   "metadata": {},
   "source": [
    "`-` 답안지 제출형식은 주피터 노트북파일을 권장한다. 하지만 풀이 및 코드를 알아볼 수 있는 어떠한 형식으로 제출하여도 무방하다. (ex: txt, hwp, pdf, html..)"
   ]
  }
 ],
 "metadata": {
  "kernelspec": {
   "display_name": "Python 3 (ipykernel)",
   "language": "python",
   "name": "python3"
  },
  "language_info": {
   "codemirror_mode": {
    "name": "ipython",
    "version": 3
   },
   "file_extension": ".py",
   "mimetype": "text/x-python",
   "name": "python",
   "nbconvert_exporter": "python",
   "pygments_lexer": "ipython3",
   "version": "3.10.4"
  }
 },
 "nbformat": 4,
 "nbformat_minor": 5
}
