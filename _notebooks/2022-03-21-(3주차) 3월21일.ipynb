{
 "cells": [
  {
   "cell_type": "markdown",
   "id": "d05e006f-32fc-400c-b614-109185d0efff",
   "metadata": {},
   "source": [
    "# (3주차) 3월21일 -- draft\n",
    "\n",
    "- toc:true\n",
    "- branch: master\n",
    "- badges: true\n",
    "- comments: true\n",
    "- author: 최규빈"
   ]
  },
  {
   "cell_type": "markdown",
   "id": "0de6cb00-ad52-47b3-af21-18cb5960461a",
   "metadata": {},
   "source": [
    "### 강의영상 "
   ]
  },
  {
   "cell_type": "markdown",
   "id": "8bde31d7-a4d0-4995-ab3f-8a1b99809104",
   "metadata": {},
   "source": [
    "> youtube: "
   ]
  },
  {
   "cell_type": "markdown",
   "id": "0e40bace-c142-4155-83dc-cc562e5eb639",
   "metadata": {},
   "source": [
    "### imports "
   ]
  },
  {
   "cell_type": "code",
   "execution_count": 211,
   "id": "5e2d101b-f78f-43d8-9800-ca00451bc541",
   "metadata": {},
   "outputs": [],
   "source": [
    "import tensorflow as tf\n",
    "import numpy as np"
   ]
  },
  {
   "cell_type": "code",
   "execution_count": 212,
   "id": "080223e7-0bcf-4f4f-b01a-8f8b4419f5ba",
   "metadata": {},
   "outputs": [
    {
     "data": {
      "text/plain": [
       "[PhysicalDevice(name='/physical_device:GPU:0', device_type='GPU')]"
      ]
     },
     "execution_count": 212,
     "metadata": {},
     "output_type": "execute_result"
    }
   ],
   "source": [
    "tf.config.experimental.list_physical_devices('GPU')"
   ]
  },
  {
   "cell_type": "markdown",
   "id": "3ec05ea5-1f4b-4f87-b607-5a2875a9c098",
   "metadata": {},
   "source": [
    "### 지난강의 보충 "
   ]
  },
  {
   "cell_type": "markdown",
   "id": "510e813f-c3de-44e1-967a-317a0e03ce9d",
   "metadata": {},
   "source": [
    "#### concat, stack "
   ]
  },
  {
   "cell_type": "markdown",
   "id": "6bbceca4-6409-4b7c-8806-a81f7734d0ef",
   "metadata": {},
   "source": [
    "`-` max, min, sum, mean "
   ]
  },
  {
   "cell_type": "markdown",
   "id": "9d2de5c8-10c4-4abe-bba4-b32979cb0f22",
   "metadata": {},
   "source": [
    "`-` 예제: (2,3,4,5) stack (2,3,4,5) -> (?,?,?,?,?) "
   ]
  },
  {
   "cell_type": "markdown",
   "id": "3c4ad96d-4709-44cd-aa7f-de7d1dc14c5d",
   "metadata": {},
   "source": [
    "`-` 예제: (2,3,4), (2,3,4), (2,3,4)"
   ]
  },
  {
   "cell_type": "markdown",
   "id": "263897e2-be5f-4eab-8852-d1fc1e136608",
   "metadata": {},
   "source": [
    "(예시1) (2,3,4), (2,3,4), (2,3,4) $\\to$ (6,3,4)"
   ]
  },
  {
   "cell_type": "markdown",
   "id": "95f5ecd1-2f6a-4c15-ad44-4d5e8f8019eb",
   "metadata": {},
   "source": [
    "(예시2) (2,3,4), (2,3,4), (2,3,4) $\\to$ (2,9,4)"
   ]
  },
  {
   "cell_type": "markdown",
   "id": "a766b651-d3bd-41e7-af2f-0032b09e111b",
   "metadata": {},
   "source": [
    "(예시3) (2,3,4), (2,3,4), (2,3,4) $\\to$ (2,3,12)"
   ]
  },
  {
   "cell_type": "markdown",
   "id": "1e5cd1cf-3218-4ea3-b301-9a343bdf4c18",
   "metadata": {},
   "source": [
    "(예시4) (2,3,4), (2,3,4), (2,3,4) $\\to$ (3,2,3,4)\n"
   ]
  },
  {
   "cell_type": "markdown",
   "id": "a0a57709-7730-4719-8f60-6bc1f4d75e9c",
   "metadata": {},
   "source": [
    "(예시5) (2,3,4), (2,3,4), (2,3,4) $\\to$ (2,3,3,4)"
   ]
  },
  {
   "cell_type": "markdown",
   "id": "dacbc0ed-c2c5-4d75-a14d-4605c72ca672",
   "metadata": {},
   "source": [
    "(예시6) (2,3,4), (2,3,4), (2,3,4) $\\to$ (2,3,3,4) "
   ]
  },
  {
   "cell_type": "markdown",
   "id": "62e59896-b9b9-45d6-8c37-2a26d43ae6dd",
   "metadata": {},
   "source": [
    "(예시7) (2,3,4), (2,3,4), (2,3,4) $\\to$ (2,3,4,3) "
   ]
  },
  {
   "cell_type": "markdown",
   "id": "3f6939a1-c76b-4c03-b11e-7f76281a168a",
   "metadata": {},
   "source": [
    "`-` 예제: (2,3,4) (4,3,4) $\\to$ (6,3,4) "
   ]
  },
  {
   "cell_type": "markdown",
   "id": "1b5c6f53-0c20-4891-b4aa-f4f4ab5a28e5",
   "metadata": {},
   "source": [
    "`-` (2,2) @ (2,) 의 연산? "
   ]
  },
  {
   "cell_type": "markdown",
   "id": "7156cf5b-1691-4065-9eea-4330d59d415f",
   "metadata": {},
   "source": [
    "---"
   ]
  },
  {
   "cell_type": "markdown",
   "id": "b31b964e-b494-40bf-b801-7b8b4000c60c",
   "metadata": {},
   "source": [
    "### tf.Variable"
   ]
  },
  {
   "cell_type": "markdown",
   "id": "7a6cf761-8eeb-49ea-b7c0-4371f868ce2a",
   "metadata": {},
   "source": [
    "#### 선언 "
   ]
  },
  {
   "cell_type": "markdown",
   "id": "e6f92c5c-3f74-4e5b-98b2-8c7f915bc056",
   "metadata": {},
   "source": [
    "`-` tf.Variable()로 선언"
   ]
  },
  {
   "cell_type": "markdown",
   "id": "8aa59928-ab87-44af-820f-712aa05989a7",
   "metadata": {},
   "source": [
    "`-` tf.constant() 선언후 변환"
   ]
  },
  {
   "cell_type": "markdown",
   "id": "37274037-f857-4c9f-9c00-0805a1be7952",
   "metadata": {},
   "source": [
    "`-` np 등으로 선언후 변환 "
   ]
  },
  {
   "cell_type": "markdown",
   "id": "4fb4ad1b-af3f-4d1b-8482-e0cb3635a97f",
   "metadata": {},
   "source": [
    "#### 타입"
   ]
  },
  {
   "cell_type": "markdown",
   "id": "df878b16-0e9a-41e7-b2c0-5a23045958dd",
   "metadata": {},
   "source": [
    "#### 인덱싱 "
   ]
  },
  {
   "cell_type": "markdown",
   "id": "42dac5a0-e799-4edb-b620-646413aaaa0b",
   "metadata": {},
   "source": [
    "#### 연산가능 "
   ]
  },
  {
   "cell_type": "markdown",
   "id": "48cfd854-3043-4cad-b6c2-7f65f057e6ed",
   "metadata": {},
   "source": [
    "#### tf.Variable도 쓰기 불편함 "
   ]
  },
  {
   "cell_type": "markdown",
   "id": "046387c9-51af-4ed1-9a2e-46f46d2f422e",
   "metadata": {},
   "source": [
    "#### tnp의 은총도 일부만 가능 "
   ]
  },
  {
   "cell_type": "markdown",
   "id": "ad3ab170-eac6-4af4-aee3-4a555ed52748",
   "metadata": {},
   "source": [
    "`-` 알아서 형 변환 "
   ]
  },
  {
   "cell_type": "markdown",
   "id": "f693036e-611f-439c-9338-4d24c8359854",
   "metadata": {},
   "source": [
    "`-` .reshape 메소드 "
   ]
  },
  {
   "cell_type": "markdown",
   "id": "35d26c06-f0d7-4fb8-a2c7-2157f93320fd",
   "metadata": {},
   "source": [
    "#### 대부분의 동작은 tf.constant랑 큰 차이를 모르겠음 "
   ]
  },
  {
   "cell_type": "markdown",
   "id": "1e7a0d88-1530-4265-bf1b-9ed4649f8154",
   "metadata": {},
   "source": [
    "`-` tf.concat "
   ]
  },
  {
   "cell_type": "markdown",
   "id": "1e88e171-d011-4a6b-8df1-82b271e7c3e3",
   "metadata": {},
   "source": [
    "`-` tf.stack"
   ]
  },
  {
   "cell_type": "markdown",
   "id": "606c7880-74df-45b6-88ae-ca27e2f04058",
   "metadata": {
    "tags": []
   },
   "source": [
    "#### 변수값변경가능(?)"
   ]
  },
  {
   "cell_type": "markdown",
   "id": "264f0720-86d9-4adb-8b5c-c874c39f9070",
   "metadata": {},
   "source": [
    "#### 요약 "
   ]
  },
  {
   "cell_type": "markdown",
   "id": "0ca9f2f8-675d-487f-9dec-841526089ab8",
   "metadata": {},
   "source": [
    "`-` tf.Variable()로 만들어야 하는 뚜렷한 차이는 모르겠음. "
   ]
  },
  {
   "cell_type": "markdown",
   "id": "aa82b8fe-ad0c-4df7-b822-11c4377d404c",
   "metadata": {},
   "source": [
    "`-` 애써 tf.Variable()로 만들어도 간단한연산을 하면 그 결과는 tf.constant()로 만든 오브젝트와 동일해짐. "
   ]
  },
  {
   "cell_type": "markdown",
   "id": "1d4a3d56-1b55-48ee-8095-e33dc5911683",
   "metadata": {
    "tags": []
   },
   "source": [
    "### 미분 "
   ]
  },
  {
   "cell_type": "markdown",
   "id": "a0371156-ef78-4779-b141-3aaae848c1b1",
   "metadata": {},
   "source": [
    "#### 모티브"
   ]
  },
  {
   "cell_type": "markdown",
   "id": "1bae6965-67e9-4dba-9816-c73e5d3016fb",
   "metadata": {},
   "source": [
    "`-` 예제: 컴퓨터를 이용하여 $x=2$에서 $y=3x^2$의 접선의 기울기를 구해보자. "
   ]
  },
  {
   "cell_type": "markdown",
   "id": "375de602-d71a-43f7-abd0-97a03c17e329",
   "metadata": {},
   "source": [
    "#### tf.GradientTape() 사용방법 "
   ]
  },
  {
   "cell_type": "markdown",
   "id": "9e09137f-970b-4f0f-a706-7586cf507d4c",
   "metadata": {},
   "source": [
    "`-` 예제1: $x=2$에서 $y=3x^2$의 도함수값을 구하라. "
   ]
  },
  {
   "cell_type": "markdown",
   "id": "51a61b06-cf87-4943-903f-ba221d7f73d9",
   "metadata": {},
   "source": [
    "`-` 예제2: 조금 다른예제 "
   ]
  },
  {
   "cell_type": "markdown",
   "id": "cd618c28-6df3-42dd-84d2-2260a8338293",
   "metadata": {},
   "source": [
    "`-` 테이프의 개념 ($\\star$)"
   ]
  },
  {
   "cell_type": "markdown",
   "id": "1a3b10c6-2ce1-4161-ae1a-661d3da4b209",
   "metadata": {},
   "source": [
    "(상황) \n",
    "\n",
    "우리가 어려운 미분계산을 컴퓨터에게 부탁하는 상황임. (예를들면 $y=3x^2$) 컴퓨터에게 부탁을 하기 위해서는 연습장(=테이프)에 $y=3x^2$이라는 수식을 써서 보여줘야하는데 이때 컴퓨터에게 target이 무엇인지 그리고 무엇으로 미분하고 싶은 것인지를 명시해야함. \n",
    "\n",
    "(1) `mytape = tf.GradientTape()`: \n",
    "\n",
    "(2) `mytape.__enter__()`: \n",
    "\n",
    "(3) `a=x/2*3; y=a*x**2`: \n",
    "\n",
    "(4) `mytape.__exit__(None,None,None)`:\n",
    "\n",
    "(5) `mytape.gradient(y,x)`: "
   ]
  },
  {
   "cell_type": "markdown",
   "id": "e1f2ac28-a707-4128-90a8-d4b01019e86f",
   "metadata": {},
   "source": [
    "`-` 예제3: 연습장을 언제 열고 닫을지 결정하는건 중요하다. "
   ]
  },
  {
   "cell_type": "markdown",
   "id": "cb9efd6b-b591-44f2-b424-1689e2014181",
   "metadata": {},
   "source": [
    "`-` 예제4: with문과 함께 쓰는 tf.GradientTape()"
   ]
  },
  {
   "cell_type": "markdown",
   "id": "102bdfc3-3585-405d-bbd3-e46c15ed506e",
   "metadata": {},
   "source": [
    "`-` 예제5: 예제2를 with문과 함께 구현 "
   ]
  },
  {
   "cell_type": "markdown",
   "id": "5bbb104c-3369-486c-93a3-42972f942632",
   "metadata": {},
   "source": [
    "`-` 예제6: persistent = True"
   ]
  },
  {
   "cell_type": "markdown",
   "id": "2260fd24-e15c-4ebc-a69d-3d3b5aa4eb9e",
   "metadata": {},
   "source": [
    "`-` 예제7: watch"
   ]
  },
  {
   "cell_type": "markdown",
   "id": "9f986c92-cfb4-42ba-81f3-e01d89bb954f",
   "metadata": {},
   "source": [
    "`-` 예제9: 카페예제로 돌아오자. "
   ]
  },
  {
   "cell_type": "markdown",
   "id": "1d323f71-8b05-49a7-822f-bee6e15e2557",
   "metadata": {},
   "source": [
    "`-` 예제10: 카페예제의 매트릭스 버전 "
   ]
  },
  {
   "cell_type": "markdown",
   "id": "c0fe0673-8daa-4362-ae0d-51f93efd13d2",
   "metadata": {},
   "source": [
    "`-` 예제11: 위의 예제에서 이론적인 $\\boldsymbol{\\beta}$의 최적값을 찾아보고 (즉 $\\hat{\\boldsymbol{\\beta}}$을 찾고) 그곳에서 loss의 미분을 구하라. 구한결과가 $\\begin{bmatrix}0 \\\\ 0 \\end{bmatrix}$ 임을 확인하라. "
   ]
  }
 ],
 "metadata": {
  "kernelspec": {
   "display_name": "Python 3 (ipykernel)",
   "language": "python",
   "name": "python3"
  },
  "language_info": {
   "codemirror_mode": {
    "name": "ipython",
    "version": 3
   },
   "file_extension": ".py",
   "mimetype": "text/x-python",
   "name": "python",
   "nbconvert_exporter": "python",
   "pygments_lexer": "ipython3",
   "version": "3.10.0"
  }
 },
 "nbformat": 4,
 "nbformat_minor": 5
}
