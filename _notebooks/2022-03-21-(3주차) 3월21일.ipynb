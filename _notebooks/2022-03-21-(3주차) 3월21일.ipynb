{
 "cells": [
  {
   "cell_type": "markdown",
   "id": "d05e006f-32fc-400c-b614-109185d0efff",
   "metadata": {},
   "source": [
    "# (3주차) 3월21일 -- draft\n",
    "\n",
    "- toc:true\n",
    "- branch: master\n",
    "- badges: true\n",
    "- comments: true\n",
    "- author: 최규빈"
   ]
  },
  {
   "cell_type": "markdown",
   "id": "0de6cb00-ad52-47b3-af21-18cb5960461a",
   "metadata": {},
   "source": [
    "### 강의영상 "
   ]
  },
  {
   "cell_type": "markdown",
   "id": "8bde31d7-a4d0-4995-ab3f-8a1b99809104",
   "metadata": {},
   "source": [
    "> youtube: "
   ]
  },
  {
   "cell_type": "markdown",
   "id": "0e40bace-c142-4155-83dc-cc562e5eb639",
   "metadata": {},
   "source": [
    "### imports "
   ]
  },
  {
   "cell_type": "code",
   "execution_count": 1,
   "id": "5e2d101b-f78f-43d8-9800-ca00451bc541",
   "metadata": {},
   "outputs": [],
   "source": [
    "import tensorflow as tf\n",
    "import numpy as np"
   ]
  },
  {
   "cell_type": "code",
   "execution_count": 2,
   "id": "080223e7-0bcf-4f4f-b01a-8f8b4419f5ba",
   "metadata": {},
   "outputs": [
    {
     "name": "stderr",
     "output_type": "stream",
     "text": [
      "2022-03-21 13:59:52.470472: I tensorflow/stream_executor/cuda/cuda_gpu_executor.cc:939] successful NUMA node read from SysFS had negative value (-1), but there must be at least one NUMA node, so returning NUMA node zero\n"
     ]
    },
    {
     "data": {
      "text/plain": [
       "[PhysicalDevice(name='/physical_device:GPU:0', device_type='GPU')]"
      ]
     },
     "execution_count": 2,
     "metadata": {},
     "output_type": "execute_result"
    }
   ],
   "source": [
    "tf.config.experimental.list_physical_devices('GPU')"
   ]
  },
  {
   "cell_type": "markdown",
   "id": "3ec05ea5-1f4b-4f87-b607-5a2875a9c098",
   "metadata": {},
   "source": [
    "### 지난강의 보충 "
   ]
  },
  {
   "cell_type": "markdown",
   "id": "3c4ad96d-4709-44cd-aa7f-de7d1dc14c5d",
   "metadata": {},
   "source": [
    "`-` 예제: (2,3,4), (2,3,4), (2,3,4)"
   ]
  },
  {
   "cell_type": "markdown",
   "id": "263897e2-be5f-4eab-8852-d1fc1e136608",
   "metadata": {},
   "source": [
    "(예시1) (2,3,4), (2,3,4), (2,3,4) $\\to$ (6,3,4)"
   ]
  },
  {
   "cell_type": "code",
   "execution_count": 3,
   "id": "964e4604-d3fa-4e80-888f-e2afbf609441",
   "metadata": {},
   "outputs": [],
   "source": [
    "a=tf.reshape(tf.constant(range(2*3*4)),(2,3,4))\n",
    "b=-a\n",
    "c=2*a"
   ]
  },
  {
   "cell_type": "code",
   "execution_count": 4,
   "id": "dbfa2297-8754-435b-ac82-c56cdf1925e0",
   "metadata": {},
   "outputs": [
    {
     "data": {
      "text/plain": [
       "(<tf.Tensor: shape=(2, 3, 4), dtype=int32, numpy=\n",
       " array([[[ 0,  1,  2,  3],\n",
       "         [ 4,  5,  6,  7],\n",
       "         [ 8,  9, 10, 11]],\n",
       " \n",
       "        [[12, 13, 14, 15],\n",
       "         [16, 17, 18, 19],\n",
       "         [20, 21, 22, 23]]], dtype=int32)>,\n",
       " <tf.Tensor: shape=(2, 3, 4), dtype=int32, numpy=\n",
       " array([[[  0,  -1,  -2,  -3],\n",
       "         [ -4,  -5,  -6,  -7],\n",
       "         [ -8,  -9, -10, -11]],\n",
       " \n",
       "        [[-12, -13, -14, -15],\n",
       "         [-16, -17, -18, -19],\n",
       "         [-20, -21, -22, -23]]], dtype=int32)>,\n",
       " <tf.Tensor: shape=(2, 3, 4), dtype=int32, numpy=\n",
       " array([[[ 0,  2,  4,  6],\n",
       "         [ 8, 10, 12, 14],\n",
       "         [16, 18, 20, 22]],\n",
       " \n",
       "        [[24, 26, 28, 30],\n",
       "         [32, 34, 36, 38],\n",
       "         [40, 42, 44, 46]]], dtype=int32)>)"
      ]
     },
     "execution_count": 4,
     "metadata": {},
     "output_type": "execute_result"
    }
   ],
   "source": [
    "a,b,c"
   ]
  },
  {
   "cell_type": "code",
   "execution_count": 5,
   "id": "67aa2ed7-37dc-47bb-b982-a6e707d4fff7",
   "metadata": {},
   "outputs": [
    {
     "data": {
      "text/plain": [
       "<tf.Tensor: shape=(6, 3, 4), dtype=int32, numpy=\n",
       "array([[[  0,   1,   2,   3],\n",
       "        [  4,   5,   6,   7],\n",
       "        [  8,   9,  10,  11]],\n",
       "\n",
       "       [[ 12,  13,  14,  15],\n",
       "        [ 16,  17,  18,  19],\n",
       "        [ 20,  21,  22,  23]],\n",
       "\n",
       "       [[  0,  -1,  -2,  -3],\n",
       "        [ -4,  -5,  -6,  -7],\n",
       "        [ -8,  -9, -10, -11]],\n",
       "\n",
       "       [[-12, -13, -14, -15],\n",
       "        [-16, -17, -18, -19],\n",
       "        [-20, -21, -22, -23]],\n",
       "\n",
       "       [[  0,   2,   4,   6],\n",
       "        [  8,  10,  12,  14],\n",
       "        [ 16,  18,  20,  22]],\n",
       "\n",
       "       [[ 24,  26,  28,  30],\n",
       "        [ 32,  34,  36,  38],\n",
       "        [ 40,  42,  44,  46]]], dtype=int32)>"
      ]
     },
     "execution_count": 5,
     "metadata": {},
     "output_type": "execute_result"
    }
   ],
   "source": [
    "tf.concat([a,b,c],axis=0)"
   ]
  },
  {
   "cell_type": "markdown",
   "id": "95f5ecd1-2f6a-4c15-ad44-4d5e8f8019eb",
   "metadata": {},
   "source": [
    "(예시2) (2,3,4), (2,3,4), (2,3,4) $\\to$ (2,9,4)"
   ]
  },
  {
   "cell_type": "code",
   "execution_count": 6,
   "id": "5e142e77-1b3a-4af3-b751-9a95a49f73b1",
   "metadata": {},
   "outputs": [
    {
     "data": {
      "text/plain": [
       "<tf.Tensor: shape=(2, 9, 4), dtype=int32, numpy=\n",
       "array([[[  0,   1,   2,   3],\n",
       "        [  4,   5,   6,   7],\n",
       "        [  8,   9,  10,  11],\n",
       "        [  0,  -1,  -2,  -3],\n",
       "        [ -4,  -5,  -6,  -7],\n",
       "        [ -8,  -9, -10, -11],\n",
       "        [  0,   2,   4,   6],\n",
       "        [  8,  10,  12,  14],\n",
       "        [ 16,  18,  20,  22]],\n",
       "\n",
       "       [[ 12,  13,  14,  15],\n",
       "        [ 16,  17,  18,  19],\n",
       "        [ 20,  21,  22,  23],\n",
       "        [-12, -13, -14, -15],\n",
       "        [-16, -17, -18, -19],\n",
       "        [-20, -21, -22, -23],\n",
       "        [ 24,  26,  28,  30],\n",
       "        [ 32,  34,  36,  38],\n",
       "        [ 40,  42,  44,  46]]], dtype=int32)>"
      ]
     },
     "execution_count": 6,
     "metadata": {},
     "output_type": "execute_result"
    }
   ],
   "source": [
    "tf.concat([a,b,c],axis=1)"
   ]
  },
  {
   "cell_type": "markdown",
   "id": "a766b651-d3bd-41e7-af2f-0032b09e111b",
   "metadata": {},
   "source": [
    "(예시3) (2,3,4), (2,3,4), (2,3,4) $\\to$ (2,3,12)"
   ]
  },
  {
   "cell_type": "code",
   "execution_count": 7,
   "id": "d1da4c38-672f-45c4-84e2-a8cda069e839",
   "metadata": {},
   "outputs": [
    {
     "data": {
      "text/plain": [
       "<tf.Tensor: shape=(2, 3, 12), dtype=int32, numpy=\n",
       "array([[[  0,   1,   2,   3,   0,  -1,  -2,  -3,   0,   2,   4,   6],\n",
       "        [  4,   5,   6,   7,  -4,  -5,  -6,  -7,   8,  10,  12,  14],\n",
       "        [  8,   9,  10,  11,  -8,  -9, -10, -11,  16,  18,  20,  22]],\n",
       "\n",
       "       [[ 12,  13,  14,  15, -12, -13, -14, -15,  24,  26,  28,  30],\n",
       "        [ 16,  17,  18,  19, -16, -17, -18, -19,  32,  34,  36,  38],\n",
       "        [ 20,  21,  22,  23, -20, -21, -22, -23,  40,  42,  44,  46]]],\n",
       "      dtype=int32)>"
      ]
     },
     "execution_count": 7,
     "metadata": {},
     "output_type": "execute_result"
    }
   ],
   "source": [
    "tf.concat([a,b,c],axis=2)"
   ]
  },
  {
   "cell_type": "markdown",
   "id": "1e5cd1cf-3218-4ea3-b301-9a343bdf4c18",
   "metadata": {},
   "source": [
    "(예시4) (2,3,4), (2,3,4), (2,3,4) $\\to$ (3,2,3,4) # axis=0 \n"
   ]
  },
  {
   "cell_type": "code",
   "execution_count": 8,
   "id": "ad82346c-fbf9-4da9-b1a4-c6ef224a493f",
   "metadata": {},
   "outputs": [
    {
     "data": {
      "text/plain": [
       "<tf.Tensor: shape=(3, 2, 3, 4), dtype=int32, numpy=\n",
       "array([[[[  0,   1,   2,   3],\n",
       "         [  4,   5,   6,   7],\n",
       "         [  8,   9,  10,  11]],\n",
       "\n",
       "        [[ 12,  13,  14,  15],\n",
       "         [ 16,  17,  18,  19],\n",
       "         [ 20,  21,  22,  23]]],\n",
       "\n",
       "\n",
       "       [[[  0,  -1,  -2,  -3],\n",
       "         [ -4,  -5,  -6,  -7],\n",
       "         [ -8,  -9, -10, -11]],\n",
       "\n",
       "        [[-12, -13, -14, -15],\n",
       "         [-16, -17, -18, -19],\n",
       "         [-20, -21, -22, -23]]],\n",
       "\n",
       "\n",
       "       [[[  0,   2,   4,   6],\n",
       "         [  8,  10,  12,  14],\n",
       "         [ 16,  18,  20,  22]],\n",
       "\n",
       "        [[ 24,  26,  28,  30],\n",
       "         [ 32,  34,  36,  38],\n",
       "         [ 40,  42,  44,  46]]]], dtype=int32)>"
      ]
     },
     "execution_count": 8,
     "metadata": {},
     "output_type": "execute_result"
    }
   ],
   "source": [
    "tf.stack([a,b,c],axis=0)"
   ]
  },
  {
   "cell_type": "markdown",
   "id": "a0a57709-7730-4719-8f60-6bc1f4d75e9c",
   "metadata": {},
   "source": [
    "(예시5) (2,3,4), (2,3,4), (2,3,4) $\\to$ (2,3,3,4) # axis=1"
   ]
  },
  {
   "cell_type": "code",
   "execution_count": 9,
   "id": "695ff51c-bcbd-45e2-86dc-e7ada9067205",
   "metadata": {},
   "outputs": [
    {
     "data": {
      "text/plain": [
       "<tf.Tensor: shape=(2, 3, 3, 4), dtype=int32, numpy=\n",
       "array([[[[  0,   1,   2,   3],\n",
       "         [  4,   5,   6,   7],\n",
       "         [  8,   9,  10,  11]],\n",
       "\n",
       "        [[  0,  -1,  -2,  -3],\n",
       "         [ -4,  -5,  -6,  -7],\n",
       "         [ -8,  -9, -10, -11]],\n",
       "\n",
       "        [[  0,   2,   4,   6],\n",
       "         [  8,  10,  12,  14],\n",
       "         [ 16,  18,  20,  22]]],\n",
       "\n",
       "\n",
       "       [[[ 12,  13,  14,  15],\n",
       "         [ 16,  17,  18,  19],\n",
       "         [ 20,  21,  22,  23]],\n",
       "\n",
       "        [[-12, -13, -14, -15],\n",
       "         [-16, -17, -18, -19],\n",
       "         [-20, -21, -22, -23]],\n",
       "\n",
       "        [[ 24,  26,  28,  30],\n",
       "         [ 32,  34,  36,  38],\n",
       "         [ 40,  42,  44,  46]]]], dtype=int32)>"
      ]
     },
     "execution_count": 9,
     "metadata": {},
     "output_type": "execute_result"
    }
   ],
   "source": [
    "tf.stack([a,b,c],axis=1)"
   ]
  },
  {
   "cell_type": "markdown",
   "id": "dacbc0ed-c2c5-4d75-a14d-4605c72ca672",
   "metadata": {},
   "source": [
    "(예시6) (2,3,4), (2,3,4), (2,3,4) $\\to$ (2,3,3,4) # axis=2"
   ]
  },
  {
   "cell_type": "code",
   "execution_count": 8,
   "id": "e4b91852-f464-4e75-ac4f-d20835899ff4",
   "metadata": {},
   "outputs": [
    {
     "data": {
      "text/plain": [
       "<tf.Tensor: shape=(2, 3, 3, 4), dtype=int32, numpy=\n",
       "array([[[[  0,   1,   2,   3],\n",
       "         [  0,  -1,  -2,  -3],\n",
       "         [  0,   2,   4,   6]],\n",
       "\n",
       "        [[  4,   5,   6,   7],\n",
       "         [ -4,  -5,  -6,  -7],\n",
       "         [  8,  10,  12,  14]],\n",
       "\n",
       "        [[  8,   9,  10,  11],\n",
       "         [ -8,  -9, -10, -11],\n",
       "         [ 16,  18,  20,  22]]],\n",
       "\n",
       "\n",
       "       [[[ 12,  13,  14,  15],\n",
       "         [-12, -13, -14, -15],\n",
       "         [ 24,  26,  28,  30]],\n",
       "\n",
       "        [[ 16,  17,  18,  19],\n",
       "         [-16, -17, -18, -19],\n",
       "         [ 32,  34,  36,  38]],\n",
       "\n",
       "        [[ 20,  21,  22,  23],\n",
       "         [-20, -21, -22, -23],\n",
       "         [ 40,  42,  44,  46]]]], dtype=int32)>"
      ]
     },
     "execution_count": 8,
     "metadata": {},
     "output_type": "execute_result"
    }
   ],
   "source": [
    "tf.stack([a,b,c],axis=2)"
   ]
  },
  {
   "cell_type": "markdown",
   "id": "62e59896-b9b9-45d6-8c37-2a26d43ae6dd",
   "metadata": {},
   "source": [
    "(예시7) (2,3,4), (2,3,4), (2,3,4) $\\to$ (2,3,4,3) # axis=3"
   ]
  },
  {
   "cell_type": "code",
   "execution_count": 9,
   "id": "3feb3986-dadb-4a9b-8437-c69b566c31fd",
   "metadata": {},
   "outputs": [
    {
     "data": {
      "text/plain": [
       "<tf.Tensor: shape=(2, 3, 4, 3), dtype=int32, numpy=\n",
       "array([[[[  0,   0,   0],\n",
       "         [  1,  -1,   2],\n",
       "         [  2,  -2,   4],\n",
       "         [  3,  -3,   6]],\n",
       "\n",
       "        [[  4,  -4,   8],\n",
       "         [  5,  -5,  10],\n",
       "         [  6,  -6,  12],\n",
       "         [  7,  -7,  14]],\n",
       "\n",
       "        [[  8,  -8,  16],\n",
       "         [  9,  -9,  18],\n",
       "         [ 10, -10,  20],\n",
       "         [ 11, -11,  22]]],\n",
       "\n",
       "\n",
       "       [[[ 12, -12,  24],\n",
       "         [ 13, -13,  26],\n",
       "         [ 14, -14,  28],\n",
       "         [ 15, -15,  30]],\n",
       "\n",
       "        [[ 16, -16,  32],\n",
       "         [ 17, -17,  34],\n",
       "         [ 18, -18,  36],\n",
       "         [ 19, -19,  38]],\n",
       "\n",
       "        [[ 20, -20,  40],\n",
       "         [ 21, -21,  42],\n",
       "         [ 22, -22,  44],\n",
       "         [ 23, -23,  46]]]], dtype=int32)>"
      ]
     },
     "execution_count": 9,
     "metadata": {},
     "output_type": "execute_result"
    }
   ],
   "source": [
    "tf.stack([a,b,c],axis=3)"
   ]
  },
  {
   "cell_type": "markdown",
   "id": "3f6939a1-c76b-4c03-b11e-7f76281a168a",
   "metadata": {},
   "source": [
    "`-` 예제: (2,3,4) (4,3,4) $\\to$ (6,3,4) "
   ]
  },
  {
   "cell_type": "code",
   "execution_count": 10,
   "id": "4cdc070b-85b8-4c62-91f4-9cca4f903860",
   "metadata": {},
   "outputs": [],
   "source": [
    "a=tf.reshape(tf.constant(range(2*3*4)),(2,3,4))\n",
    "b=tf.reshape(-tf.constant(range(4*3*4)),(4,3,4)) "
   ]
  },
  {
   "cell_type": "code",
   "execution_count": 11,
   "id": "a7f18f7a-bd3b-4b14-85c5-3b824f0774e6",
   "metadata": {},
   "outputs": [
    {
     "data": {
      "text/plain": [
       "<tf.Tensor: shape=(6, 3, 4), dtype=int32, numpy=\n",
       "array([[[  0,   1,   2,   3],\n",
       "        [  4,   5,   6,   7],\n",
       "        [  8,   9,  10,  11]],\n",
       "\n",
       "       [[ 12,  13,  14,  15],\n",
       "        [ 16,  17,  18,  19],\n",
       "        [ 20,  21,  22,  23]],\n",
       "\n",
       "       [[  0,  -1,  -2,  -3],\n",
       "        [ -4,  -5,  -6,  -7],\n",
       "        [ -8,  -9, -10, -11]],\n",
       "\n",
       "       [[-12, -13, -14, -15],\n",
       "        [-16, -17, -18, -19],\n",
       "        [-20, -21, -22, -23]],\n",
       "\n",
       "       [[-24, -25, -26, -27],\n",
       "        [-28, -29, -30, -31],\n",
       "        [-32, -33, -34, -35]],\n",
       "\n",
       "       [[-36, -37, -38, -39],\n",
       "        [-40, -41, -42, -43],\n",
       "        [-44, -45, -46, -47]]], dtype=int32)>"
      ]
     },
     "execution_count": 11,
     "metadata": {},
     "output_type": "execute_result"
    }
   ],
   "source": [
    "tf.concat([a,b],axis=0)"
   ]
  },
  {
   "cell_type": "code",
   "execution_count": 12,
   "id": "ec7df3eb-416d-417c-8680-87edf3a6d200",
   "metadata": {},
   "outputs": [
    {
     "ename": "InvalidArgumentError",
     "evalue": "ConcatOp : Dimensions of inputs should match: shape[0] = [2,3,4] vs. shape[1] = [4,3,4] [Op:ConcatV2] name: concat",
     "output_type": "error",
     "traceback": [
      "\u001b[0;31m---------------------------------------------------------------------------\u001b[0m",
      "\u001b[0;31mInvalidArgumentError\u001b[0m                      Traceback (most recent call last)",
      "Input \u001b[0;32mIn [12]\u001b[0m, in \u001b[0;36m<cell line: 1>\u001b[0;34m()\u001b[0m\n\u001b[0;32m----> 1\u001b[0m \u001b[43mtf\u001b[49m\u001b[38;5;241;43m.\u001b[39;49m\u001b[43mconcat\u001b[49m\u001b[43m(\u001b[49m\u001b[43m[\u001b[49m\u001b[43ma\u001b[49m\u001b[43m,\u001b[49m\u001b[43mb\u001b[49m\u001b[43m]\u001b[49m\u001b[43m,\u001b[49m\u001b[43maxis\u001b[49m\u001b[38;5;241;43m=\u001b[39;49m\u001b[38;5;241;43m1\u001b[39;49m\u001b[43m)\u001b[49m\n",
      "File \u001b[0;32m~/anaconda3/envs/py310/lib/python3.10/site-packages/tensorflow/python/util/traceback_utils.py:153\u001b[0m, in \u001b[0;36mfilter_traceback.<locals>.error_handler\u001b[0;34m(*args, **kwargs)\u001b[0m\n\u001b[1;32m    151\u001b[0m \u001b[38;5;28;01mexcept\u001b[39;00m \u001b[38;5;167;01mException\u001b[39;00m \u001b[38;5;28;01mas\u001b[39;00m e:\n\u001b[1;32m    152\u001b[0m   filtered_tb \u001b[38;5;241m=\u001b[39m _process_traceback_frames(e\u001b[38;5;241m.\u001b[39m__traceback__)\n\u001b[0;32m--> 153\u001b[0m   \u001b[38;5;28;01mraise\u001b[39;00m e\u001b[38;5;241m.\u001b[39mwith_traceback(filtered_tb) \u001b[38;5;28;01mfrom\u001b[39;00m \u001b[38;5;28mNone\u001b[39m\n\u001b[1;32m    154\u001b[0m \u001b[38;5;28;01mfinally\u001b[39;00m:\n\u001b[1;32m    155\u001b[0m   \u001b[38;5;28;01mdel\u001b[39;00m filtered_tb\n",
      "File \u001b[0;32m~/anaconda3/envs/py310/lib/python3.10/site-packages/tensorflow/python/framework/ops.py:7107\u001b[0m, in \u001b[0;36mraise_from_not_ok_status\u001b[0;34m(e, name)\u001b[0m\n\u001b[1;32m   7105\u001b[0m \u001b[38;5;28;01mdef\u001b[39;00m \u001b[38;5;21mraise_from_not_ok_status\u001b[39m(e, name):\n\u001b[1;32m   7106\u001b[0m   e\u001b[38;5;241m.\u001b[39mmessage \u001b[38;5;241m+\u001b[39m\u001b[38;5;241m=\u001b[39m (\u001b[38;5;124m\"\u001b[39m\u001b[38;5;124m name: \u001b[39m\u001b[38;5;124m\"\u001b[39m \u001b[38;5;241m+\u001b[39m name \u001b[38;5;28;01mif\u001b[39;00m name \u001b[38;5;129;01mis\u001b[39;00m \u001b[38;5;129;01mnot\u001b[39;00m \u001b[38;5;28;01mNone\u001b[39;00m \u001b[38;5;28;01melse\u001b[39;00m \u001b[38;5;124m\"\u001b[39m\u001b[38;5;124m\"\u001b[39m)\n\u001b[0;32m-> 7107\u001b[0m   \u001b[38;5;28;01mraise\u001b[39;00m core\u001b[38;5;241m.\u001b[39m_status_to_exception(e) \u001b[38;5;28;01mfrom\u001b[39;00m \u001b[38;5;28mNone\u001b[39m\n",
      "\u001b[0;31mInvalidArgumentError\u001b[0m: ConcatOp : Dimensions of inputs should match: shape[0] = [2,3,4] vs. shape[1] = [4,3,4] [Op:ConcatV2] name: concat"
     ]
    }
   ],
   "source": [
    "tf.concat([a,b],axis=1) # 에러"
   ]
  },
  {
   "cell_type": "code",
   "execution_count": 13,
   "id": "e2185036-3eaa-4cba-b1ad-1f3bd9238b3e",
   "metadata": {},
   "outputs": [
    {
     "ename": "InvalidArgumentError",
     "evalue": "ConcatOp : Dimensions of inputs should match: shape[0] = [2,3,4] vs. shape[1] = [4,3,4] [Op:ConcatV2] name: concat",
     "output_type": "error",
     "traceback": [
      "\u001b[0;31m---------------------------------------------------------------------------\u001b[0m",
      "\u001b[0;31mInvalidArgumentError\u001b[0m                      Traceback (most recent call last)",
      "Input \u001b[0;32mIn [13]\u001b[0m, in \u001b[0;36m<cell line: 1>\u001b[0;34m()\u001b[0m\n\u001b[0;32m----> 1\u001b[0m \u001b[43mtf\u001b[49m\u001b[38;5;241;43m.\u001b[39;49m\u001b[43mconcat\u001b[49m\u001b[43m(\u001b[49m\u001b[43m[\u001b[49m\u001b[43ma\u001b[49m\u001b[43m,\u001b[49m\u001b[43mb\u001b[49m\u001b[43m]\u001b[49m\u001b[43m,\u001b[49m\u001b[43maxis\u001b[49m\u001b[38;5;241;43m=\u001b[39;49m\u001b[38;5;241;43m2\u001b[39;49m\u001b[43m)\u001b[49m\n",
      "File \u001b[0;32m~/anaconda3/envs/py310/lib/python3.10/site-packages/tensorflow/python/util/traceback_utils.py:153\u001b[0m, in \u001b[0;36mfilter_traceback.<locals>.error_handler\u001b[0;34m(*args, **kwargs)\u001b[0m\n\u001b[1;32m    151\u001b[0m \u001b[38;5;28;01mexcept\u001b[39;00m \u001b[38;5;167;01mException\u001b[39;00m \u001b[38;5;28;01mas\u001b[39;00m e:\n\u001b[1;32m    152\u001b[0m   filtered_tb \u001b[38;5;241m=\u001b[39m _process_traceback_frames(e\u001b[38;5;241m.\u001b[39m__traceback__)\n\u001b[0;32m--> 153\u001b[0m   \u001b[38;5;28;01mraise\u001b[39;00m e\u001b[38;5;241m.\u001b[39mwith_traceback(filtered_tb) \u001b[38;5;28;01mfrom\u001b[39;00m \u001b[38;5;28mNone\u001b[39m\n\u001b[1;32m    154\u001b[0m \u001b[38;5;28;01mfinally\u001b[39;00m:\n\u001b[1;32m    155\u001b[0m   \u001b[38;5;28;01mdel\u001b[39;00m filtered_tb\n",
      "File \u001b[0;32m~/anaconda3/envs/py310/lib/python3.10/site-packages/tensorflow/python/framework/ops.py:7107\u001b[0m, in \u001b[0;36mraise_from_not_ok_status\u001b[0;34m(e, name)\u001b[0m\n\u001b[1;32m   7105\u001b[0m \u001b[38;5;28;01mdef\u001b[39;00m \u001b[38;5;21mraise_from_not_ok_status\u001b[39m(e, name):\n\u001b[1;32m   7106\u001b[0m   e\u001b[38;5;241m.\u001b[39mmessage \u001b[38;5;241m+\u001b[39m\u001b[38;5;241m=\u001b[39m (\u001b[38;5;124m\"\u001b[39m\u001b[38;5;124m name: \u001b[39m\u001b[38;5;124m\"\u001b[39m \u001b[38;5;241m+\u001b[39m name \u001b[38;5;28;01mif\u001b[39;00m name \u001b[38;5;129;01mis\u001b[39;00m \u001b[38;5;129;01mnot\u001b[39;00m \u001b[38;5;28;01mNone\u001b[39;00m \u001b[38;5;28;01melse\u001b[39;00m \u001b[38;5;124m\"\u001b[39m\u001b[38;5;124m\"\u001b[39m)\n\u001b[0;32m-> 7107\u001b[0m   \u001b[38;5;28;01mraise\u001b[39;00m core\u001b[38;5;241m.\u001b[39m_status_to_exception(e) \u001b[38;5;28;01mfrom\u001b[39;00m \u001b[38;5;28mNone\u001b[39m\n",
      "\u001b[0;31mInvalidArgumentError\u001b[0m: ConcatOp : Dimensions of inputs should match: shape[0] = [2,3,4] vs. shape[1] = [4,3,4] [Op:ConcatV2] name: concat"
     ]
    }
   ],
   "source": [
    "tf.concat([a,b],axis=2) # 에러"
   ]
  },
  {
   "cell_type": "markdown",
   "id": "7156cf5b-1691-4065-9eea-4330d59d415f",
   "metadata": {},
   "source": [
    "---"
   ]
  },
  {
   "cell_type": "markdown",
   "id": "578bb7de-c2b7-40db-9e05-368a3330c9c3",
   "metadata": {},
   "source": [
    "### tnp"
   ]
  },
  {
   "cell_type": "markdown",
   "id": "9147c2ef-fb6c-47c1-8abc-cc991f7b60ec",
   "metadata": {},
   "source": [
    "`-` tf.constant 는 너무 쓰기 어렵다. "
   ]
  },
  {
   "cell_type": "markdown",
   "id": "53eac01e-84c3-4595-a06f-db2e9750f6c9",
   "metadata": {},
   "source": [
    "`-` 넘파이와 비교하여 생기는 불만 "
   ]
  },
  {
   "cell_type": "markdown",
   "id": "824e2303-e890-40f7-8aaa-50c509b248c7",
   "metadata": {},
   "source": [
    "(불만1) .reshape 메소드 불가능 // tf.reshape() 는 가능 "
   ]
  },
  {
   "cell_type": "code",
   "execution_count": 24,
   "id": "83783982-8694-496e-bcb6-9491b80778be",
   "metadata": {},
   "outputs": [
    {
     "data": {
      "text/plain": [
       "array([[1, 2],\n",
       "       [3, 4]])"
      ]
     },
     "execution_count": 24,
     "metadata": {},
     "output_type": "execute_result"
    }
   ],
   "source": [
    "a=np.array([1,2,3,4]).reshape(2,2)\n",
    "a"
   ]
  },
  {
   "cell_type": "code",
   "execution_count": 25,
   "id": "64d4eee1-d174-4a03-9b53-fbba4fbaaec7",
   "metadata": {},
   "outputs": [
    {
     "data": {
      "text/plain": [
       "<tf.Tensor: shape=(2, 2), dtype=int32, numpy=\n",
       "array([[1, 2],\n",
       "       [3, 4]], dtype=int32)>"
      ]
     },
     "execution_count": 25,
     "metadata": {},
     "output_type": "execute_result"
    }
   ],
   "source": [
    "a=tf.constant([1,2,3,4])\n",
    "tf.reshape(a,(2,2))"
   ]
  },
  {
   "cell_type": "markdown",
   "id": "c8a056a6-3856-45f2-92de-e5110f04bbe3",
   "metadata": {},
   "source": [
    "(불만2) 암묵적형변환(=알아서 눈치껏 형변환) 불가능 "
   ]
  },
  {
   "cell_type": "code",
   "execution_count": 36,
   "id": "743fba2e-8cb9-4217-9d24-49fc7804cd91",
   "metadata": {},
   "outputs": [
    {
     "data": {
      "text/plain": [
       "array([4.14, 5.14, 6.14, 7.14])"
      ]
     },
     "execution_count": 36,
     "metadata": {},
     "output_type": "execute_result"
    }
   ],
   "source": [
    "np.array([1,2,3,4])+np.array([3.14,3.14,3.14,3.14])"
   ]
  },
  {
   "cell_type": "markdown",
   "id": "71bcfe7a-9dcb-4430-8421-dd18e899c02c",
   "metadata": {},
   "source": [
    "(불만3) .transpose(), .T 불가능 // tf.transpose()는 가능"
   ]
  },
  {
   "cell_type": "code",
   "execution_count": 31,
   "id": "3a414cb5-651b-4380-8250-da06f7a4605d",
   "metadata": {},
   "outputs": [
    {
     "data": {
      "text/plain": [
       "array([[1, 4],\n",
       "       [2, 5],\n",
       "       [3, 6]])"
      ]
     },
     "execution_count": 31,
     "metadata": {},
     "output_type": "execute_result"
    }
   ],
   "source": [
    "np.array([1,2,3,4,5,6]).reshape(2,3).T"
   ]
  },
  {
   "cell_type": "code",
   "execution_count": 33,
   "id": "90f1777b-d9e4-44d2-95d5-0ac2327d6aa4",
   "metadata": {},
   "outputs": [
    {
     "data": {
      "text/plain": [
       "<tf.Tensor: shape=(3, 2), dtype=int32, numpy=\n",
       "array([[1, 4],\n",
       "       [2, 5],\n",
       "       [3, 6]], dtype=int32)>"
      ]
     },
     "execution_count": 33,
     "metadata": {},
     "output_type": "execute_result"
    }
   ],
   "source": [
    "tf.transpose(tf.reshape(tf.constant([1,2,3,4,5,6]), (2,3)))"
   ]
  },
  {
   "cell_type": "markdown",
   "id": "6ac58095-d0f0-45a0-a382-000a5a51d429",
   "metadata": {},
   "source": [
    "(불만4) .max 불가능 // tf.reduce_max()는 가능 "
   ]
  },
  {
   "cell_type": "code",
   "execution_count": 38,
   "id": "47a1db13-8116-449b-8a2c-9c3a4e6f2184",
   "metadata": {},
   "outputs": [
    {
     "data": {
      "text/plain": [
       "6"
      ]
     },
     "execution_count": 38,
     "metadata": {},
     "output_type": "execute_result"
    }
   ],
   "source": [
    "np.array([1,2,3,4,5,6]).reshape(2,3).T.max()"
   ]
  },
  {
   "cell_type": "code",
   "execution_count": 39,
   "id": "bc5edc40-0102-4c76-8a83-48e17f00da1a",
   "metadata": {},
   "outputs": [
    {
     "data": {
      "text/plain": [
       "<tf.Tensor: shape=(), dtype=int32, numpy=6>"
      ]
     },
     "execution_count": 39,
     "metadata": {},
     "output_type": "execute_result"
    }
   ],
   "source": [
    "tf.reduce_max(tf.transpose(tf.reshape(tf.constant([1,2,3,4,5,6]), (2,3))))"
   ]
  },
  {
   "cell_type": "markdown",
   "id": "56da7e39-7633-4f79-a98f-7261879469c6",
   "metadata": {},
   "source": [
    "(불만?) (2,2) @ (2,) 의 연산 "
   ]
  },
  {
   "cell_type": "markdown",
   "id": "3ac241d3-5113-46a3-808d-fc685b170de7",
   "metadata": {},
   "source": [
    "**numpy**"
   ]
  },
  {
   "cell_type": "code",
   "execution_count": 41,
   "id": "b37bf59f-4be4-466f-bfdd-790136709cf6",
   "metadata": {},
   "outputs": [
    {
     "data": {
      "text/plain": [
       "array([ 77., -88.])"
      ]
     },
     "execution_count": 41,
     "metadata": {},
     "output_type": "execute_result"
    }
   ],
   "source": [
    "np.array([[1.0,0.0],[0.0,1.0]]) @ np.array([77,-88])"
   ]
  },
  {
   "cell_type": "code",
   "execution_count": 42,
   "id": "2bd3ed8f-946c-44e0-bb51-298662be40f7",
   "metadata": {},
   "outputs": [
    {
     "data": {
      "text/plain": [
       "array([ 77., -88.])"
      ]
     },
     "execution_count": 42,
     "metadata": {},
     "output_type": "execute_result"
    }
   ],
   "source": [
    "np.array([77,-88])@ np.array([[1.0,0.0],[0.0,1.0]])"
   ]
  },
  {
   "cell_type": "code",
   "execution_count": 45,
   "id": "9f4bd549-788c-4c9a-921f-237b1bceb5e0",
   "metadata": {},
   "outputs": [
    {
     "data": {
      "text/plain": [
       "array([[ 77.],\n",
       "       [-88.]])"
      ]
     },
     "execution_count": 45,
     "metadata": {},
     "output_type": "execute_result"
    }
   ],
   "source": [
    "np.array([[1.0,0.0],[0.0,1.0]]) @ np.array([77,-88]).reshape(2,1)"
   ]
  },
  {
   "cell_type": "code",
   "execution_count": 46,
   "id": "1b191c57-2edd-4804-a8fb-e128b30cc87d",
   "metadata": {
    "tags": []
   },
   "outputs": [
    {
     "ename": "ValueError",
     "evalue": "matmul: Input operand 1 has a mismatch in its core dimension 0, with gufunc signature (n?,k),(k,m?)->(n?,m?) (size 2 is different from 1)",
     "output_type": "error",
     "traceback": [
      "\u001b[0;31m---------------------------------------------------------------------------\u001b[0m",
      "\u001b[0;31mValueError\u001b[0m                                Traceback (most recent call last)",
      "Input \u001b[0;32mIn [46]\u001b[0m, in \u001b[0;36m<cell line: 1>\u001b[0;34m()\u001b[0m\n\u001b[0;32m----> 1\u001b[0m \u001b[43mnp\u001b[49m\u001b[38;5;241;43m.\u001b[39;49m\u001b[43marray\u001b[49m\u001b[43m(\u001b[49m\u001b[43m[\u001b[49m\u001b[38;5;241;43m77\u001b[39;49m\u001b[43m,\u001b[49m\u001b[38;5;241;43m-\u001b[39;49m\u001b[38;5;241;43m88\u001b[39;49m\u001b[43m]\u001b[49m\u001b[43m)\u001b[49m\u001b[38;5;241;43m.\u001b[39;49m\u001b[43mreshape\u001b[49m\u001b[43m(\u001b[49m\u001b[38;5;241;43m2\u001b[39;49m\u001b[43m,\u001b[49m\u001b[38;5;241;43m1\u001b[39;49m\u001b[43m)\u001b[49m\u001b[43m \u001b[49m\u001b[38;5;241;43m@\u001b[39;49m\u001b[43m \u001b[49m\u001b[43mnp\u001b[49m\u001b[38;5;241;43m.\u001b[39;49m\u001b[43marray\u001b[49m\u001b[43m(\u001b[49m\u001b[43m[\u001b[49m\u001b[43m[\u001b[49m\u001b[38;5;241;43m1.0\u001b[39;49m\u001b[43m,\u001b[49m\u001b[38;5;241;43m0.0\u001b[39;49m\u001b[43m]\u001b[49m\u001b[43m,\u001b[49m\u001b[43m[\u001b[49m\u001b[38;5;241;43m0.0\u001b[39;49m\u001b[43m,\u001b[49m\u001b[38;5;241;43m1.0\u001b[39;49m\u001b[43m]\u001b[49m\u001b[43m]\u001b[49m\u001b[43m)\u001b[49m\n",
      "\u001b[0;31mValueError\u001b[0m: matmul: Input operand 1 has a mismatch in its core dimension 0, with gufunc signature (n?,k),(k,m?)->(n?,m?) (size 2 is different from 1)"
     ]
    }
   ],
   "source": [
    "np.array([77,-88]).reshape(2,1) @ np.array([[1.0,0.0],[0.0,1.0]])"
   ]
  },
  {
   "cell_type": "markdown",
   "id": "7a223bb9-9d23-41c8-b8d4-472bb0f85400",
   "metadata": {},
   "source": [
    "**tf**"
   ]
  },
  {
   "cell_type": "code",
   "execution_count": 48,
   "id": "306c7157-d18f-48b1-96af-926246ded720",
   "metadata": {},
   "outputs": [],
   "source": [
    "I= tf.constant([[1.0,0.0],[0.0,1.0]])\n",
    "x = tf.constant([77,-88])"
   ]
  },
  {
   "cell_type": "code",
   "execution_count": 49,
   "id": "cdc24a0e-499c-4fda-bcd6-e15c5944e94e",
   "metadata": {},
   "outputs": [
    {
     "ename": "InvalidArgumentError",
     "evalue": "cannot compute MatMul as input #1(zero-based) was expected to be a float tensor but is a int32 tensor [Op:MatMul]",
     "output_type": "error",
     "traceback": [
      "\u001b[0;31m---------------------------------------------------------------------------\u001b[0m",
      "\u001b[0;31mInvalidArgumentError\u001b[0m                      Traceback (most recent call last)",
      "Input \u001b[0;32mIn [49]\u001b[0m, in \u001b[0;36m<cell line: 1>\u001b[0;34m()\u001b[0m\n\u001b[0;32m----> 1\u001b[0m \u001b[43mI\u001b[49m\u001b[38;5;241;43m@\u001b[39;49m\u001b[43m \u001b[49m\u001b[43mx\u001b[49m\n",
      "File \u001b[0;32m~/anaconda3/envs/py310/lib/python3.10/site-packages/tensorflow/python/util/traceback_utils.py:153\u001b[0m, in \u001b[0;36mfilter_traceback.<locals>.error_handler\u001b[0;34m(*args, **kwargs)\u001b[0m\n\u001b[1;32m    151\u001b[0m \u001b[38;5;28;01mexcept\u001b[39;00m \u001b[38;5;167;01mException\u001b[39;00m \u001b[38;5;28;01mas\u001b[39;00m e:\n\u001b[1;32m    152\u001b[0m   filtered_tb \u001b[38;5;241m=\u001b[39m _process_traceback_frames(e\u001b[38;5;241m.\u001b[39m__traceback__)\n\u001b[0;32m--> 153\u001b[0m   \u001b[38;5;28;01mraise\u001b[39;00m e\u001b[38;5;241m.\u001b[39mwith_traceback(filtered_tb) \u001b[38;5;28;01mfrom\u001b[39;00m \u001b[38;5;28mNone\u001b[39m\n\u001b[1;32m    154\u001b[0m \u001b[38;5;28;01mfinally\u001b[39;00m:\n\u001b[1;32m    155\u001b[0m   \u001b[38;5;28;01mdel\u001b[39;00m filtered_tb\n",
      "File \u001b[0;32m~/anaconda3/envs/py310/lib/python3.10/site-packages/tensorflow/python/framework/ops.py:7107\u001b[0m, in \u001b[0;36mraise_from_not_ok_status\u001b[0;34m(e, name)\u001b[0m\n\u001b[1;32m   7105\u001b[0m \u001b[38;5;28;01mdef\u001b[39;00m \u001b[38;5;21mraise_from_not_ok_status\u001b[39m(e, name):\n\u001b[1;32m   7106\u001b[0m   e\u001b[38;5;241m.\u001b[39mmessage \u001b[38;5;241m+\u001b[39m\u001b[38;5;241m=\u001b[39m (\u001b[38;5;124m\"\u001b[39m\u001b[38;5;124m name: \u001b[39m\u001b[38;5;124m\"\u001b[39m \u001b[38;5;241m+\u001b[39m name \u001b[38;5;28;01mif\u001b[39;00m name \u001b[38;5;129;01mis\u001b[39;00m \u001b[38;5;129;01mnot\u001b[39;00m \u001b[38;5;28;01mNone\u001b[39;00m \u001b[38;5;28;01melse\u001b[39;00m \u001b[38;5;124m\"\u001b[39m\u001b[38;5;124m\"\u001b[39m)\n\u001b[0;32m-> 7107\u001b[0m   \u001b[38;5;28;01mraise\u001b[39;00m core\u001b[38;5;241m.\u001b[39m_status_to_exception(e) \u001b[38;5;28;01mfrom\u001b[39;00m \u001b[38;5;28mNone\u001b[39m\n",
      "\u001b[0;31mInvalidArgumentError\u001b[0m: cannot compute MatMul as input #1(zero-based) was expected to be a float tensor but is a int32 tensor [Op:MatMul]"
     ]
    }
   ],
   "source": [
    "I@ x"
   ]
  },
  {
   "cell_type": "code",
   "execution_count": 50,
   "id": "57ee2441-9166-4069-b9ad-7dad0837bee7",
   "metadata": {},
   "outputs": [
    {
     "ename": "InvalidArgumentError",
     "evalue": "cannot compute MatMul as input #1(zero-based) was expected to be a int32 tensor but is a float tensor [Op:MatMul]",
     "output_type": "error",
     "traceback": [
      "\u001b[0;31m---------------------------------------------------------------------------\u001b[0m",
      "\u001b[0;31mInvalidArgumentError\u001b[0m                      Traceback (most recent call last)",
      "Input \u001b[0;32mIn [50]\u001b[0m, in \u001b[0;36m<cell line: 1>\u001b[0;34m()\u001b[0m\n\u001b[0;32m----> 1\u001b[0m \u001b[43mx\u001b[49m\u001b[43m \u001b[49m\u001b[38;5;241;43m@\u001b[39;49m\u001b[43m \u001b[49m\u001b[43mI\u001b[49m\n",
      "File \u001b[0;32m~/anaconda3/envs/py310/lib/python3.10/site-packages/tensorflow/python/util/traceback_utils.py:153\u001b[0m, in \u001b[0;36mfilter_traceback.<locals>.error_handler\u001b[0;34m(*args, **kwargs)\u001b[0m\n\u001b[1;32m    151\u001b[0m \u001b[38;5;28;01mexcept\u001b[39;00m \u001b[38;5;167;01mException\u001b[39;00m \u001b[38;5;28;01mas\u001b[39;00m e:\n\u001b[1;32m    152\u001b[0m   filtered_tb \u001b[38;5;241m=\u001b[39m _process_traceback_frames(e\u001b[38;5;241m.\u001b[39m__traceback__)\n\u001b[0;32m--> 153\u001b[0m   \u001b[38;5;28;01mraise\u001b[39;00m e\u001b[38;5;241m.\u001b[39mwith_traceback(filtered_tb) \u001b[38;5;28;01mfrom\u001b[39;00m \u001b[38;5;28mNone\u001b[39m\n\u001b[1;32m    154\u001b[0m \u001b[38;5;28;01mfinally\u001b[39;00m:\n\u001b[1;32m    155\u001b[0m   \u001b[38;5;28;01mdel\u001b[39;00m filtered_tb\n",
      "File \u001b[0;32m~/anaconda3/envs/py310/lib/python3.10/site-packages/tensorflow/python/framework/ops.py:7107\u001b[0m, in \u001b[0;36mraise_from_not_ok_status\u001b[0;34m(e, name)\u001b[0m\n\u001b[1;32m   7105\u001b[0m \u001b[38;5;28;01mdef\u001b[39;00m \u001b[38;5;21mraise_from_not_ok_status\u001b[39m(e, name):\n\u001b[1;32m   7106\u001b[0m   e\u001b[38;5;241m.\u001b[39mmessage \u001b[38;5;241m+\u001b[39m\u001b[38;5;241m=\u001b[39m (\u001b[38;5;124m\"\u001b[39m\u001b[38;5;124m name: \u001b[39m\u001b[38;5;124m\"\u001b[39m \u001b[38;5;241m+\u001b[39m name \u001b[38;5;28;01mif\u001b[39;00m name \u001b[38;5;129;01mis\u001b[39;00m \u001b[38;5;129;01mnot\u001b[39;00m \u001b[38;5;28;01mNone\u001b[39;00m \u001b[38;5;28;01melse\u001b[39;00m \u001b[38;5;124m\"\u001b[39m\u001b[38;5;124m\"\u001b[39m)\n\u001b[0;32m-> 7107\u001b[0m   \u001b[38;5;28;01mraise\u001b[39;00m core\u001b[38;5;241m.\u001b[39m_status_to_exception(e) \u001b[38;5;28;01mfrom\u001b[39;00m \u001b[38;5;28mNone\u001b[39m\n",
      "\u001b[0;31mInvalidArgumentError\u001b[0m: cannot compute MatMul as input #1(zero-based) was expected to be a int32 tensor but is a float tensor [Op:MatMul]"
     ]
    }
   ],
   "source": [
    "x @ I "
   ]
  },
  {
   "cell_type": "markdown",
   "id": "9363f0ef-bca3-4ebc-be1d-24f428dbaf91",
   "metadata": {},
   "source": [
    "... 저 이런거 하루종일 생각해낼수도 있어요 "
   ]
  },
  {
   "cell_type": "markdown",
   "id": "b40f8011-9ad1-43a4-b4ba-31a97fe178a1",
   "metadata": {},
   "source": [
    "#### tnp 사용방법 (불만해결) "
   ]
  },
  {
   "cell_type": "code",
   "execution_count": 51,
   "id": "b664f2f6-3242-424b-8ed9-c746968a5c79",
   "metadata": {},
   "outputs": [],
   "source": [
    "import tensorflow.experimental.numpy as tnp # 앞으로 텐서플로에서 np 대신에 tnp를 사용하면 넘파이에 익숙한 문법을 모두 쓸 수 있고 \n",
    "tnp.experimental_enable_numpy_behavior()  # 생성된 tf.constant 자료형은 넘파이와 유사하게 동작한다. "
   ]
  },
  {
   "cell_type": "markdown",
   "id": "69337aaf-bf52-41a5-b776-af31a0772293",
   "metadata": {},
   "source": [
    "#### 선언, 선언고급 "
   ]
  },
  {
   "cell_type": "code",
   "execution_count": 53,
   "id": "8f1e32ab-63e1-46ed-81d1-ef4e6ef133d8",
   "metadata": {},
   "outputs": [
    {
     "data": {
      "text/plain": [
       "<tf.Tensor: shape=(3,), dtype=int64, numpy=array([1, 2, 3])>"
      ]
     },
     "execution_count": 53,
     "metadata": {},
     "output_type": "execute_result"
    }
   ],
   "source": [
    "tnp.array([1,2,3])"
   ]
  },
  {
   "cell_type": "code",
   "execution_count": 56,
   "id": "0cd68412-4adf-44d3-8ae5-defe03351f48",
   "metadata": {},
   "outputs": [
    {
     "data": {
      "text/plain": [
       "<tf.Tensor: shape=(2, 2), dtype=int64, numpy=\n",
       "array([[1, 0],\n",
       "       [0, 1]])>"
      ]
     },
     "execution_count": 56,
     "metadata": {},
     "output_type": "execute_result"
    }
   ],
   "source": [
    "tnp.diag([1,1])"
   ]
  },
  {
   "cell_type": "markdown",
   "id": "660a8f13-2ea3-49a6-ad9e-0b5c71f72851",
   "metadata": {},
   "source": [
    "#### 타입"
   ]
  },
  {
   "cell_type": "code",
   "execution_count": 57,
   "id": "da571d0a-6708-4793-9555-336d0d1056f1",
   "metadata": {},
   "outputs": [
    {
     "data": {
      "text/plain": [
       "tensorflow.python.framework.ops.EagerTensor"
      ]
     },
     "execution_count": 57,
     "metadata": {},
     "output_type": "execute_result"
    }
   ],
   "source": [
    "type(tf.constant([1,2,3]))"
   ]
  },
  {
   "cell_type": "code",
   "execution_count": 58,
   "id": "004d4130-7221-43f3-a74a-782f4603b03a",
   "metadata": {},
   "outputs": [
    {
     "data": {
      "text/plain": [
       "tensorflow.python.framework.ops.EagerTensor"
      ]
     },
     "execution_count": 58,
     "metadata": {},
     "output_type": "execute_result"
    }
   ],
   "source": [
    "type(tnp.diag([1,1]))"
   ]
  },
  {
   "cell_type": "markdown",
   "id": "3506144a-b44e-4a17-8e79-47a69ea4b91d",
   "metadata": {},
   "source": [
    "#### tf.constant로 만들고 numpy처럼 쓰기"
   ]
  },
  {
   "cell_type": "markdown",
   "id": "6a6898ad-a3be-490f-9dd8-36b069fd2f4e",
   "metadata": {},
   "source": [
    "`-` reshape, transpose, T "
   ]
  },
  {
   "cell_type": "code",
   "execution_count": 67,
   "id": "42525e54-f2a5-4933-ad2a-be00b1a6e303",
   "metadata": {},
   "outputs": [
    {
     "data": {
      "text/plain": [
       "<tf.Tensor: shape=(2, 2), dtype=int64, numpy=\n",
       "array([[1, 2],\n",
       "       [3, 4]])>"
      ]
     },
     "execution_count": 67,
     "metadata": {},
     "output_type": "execute_result"
    }
   ],
   "source": [
    "tnp.array([1,2,3,4]).reshape(2,2)"
   ]
  },
  {
   "cell_type": "code",
   "execution_count": 70,
   "id": "d7276f7c-b61a-4347-b305-e0f29fea3866",
   "metadata": {},
   "outputs": [
    {
     "data": {
      "text/plain": [
       "<tf.Tensor: shape=(2, 2), dtype=int32, numpy=\n",
       "array([[1, 2],\n",
       "       [3, 4]], dtype=int32)>"
      ]
     },
     "execution_count": 70,
     "metadata": {},
     "output_type": "execute_result"
    }
   ],
   "source": [
    "tf.constant([1,2,3,4]).reshape(2,2)"
   ]
  },
  {
   "cell_type": "code",
   "execution_count": 71,
   "id": "95488666-a2fd-4211-98c9-ff43621857a5",
   "metadata": {},
   "outputs": [
    {
     "data": {
      "text/plain": [
       "<tf.Tensor: shape=(2, 2), dtype=int32, numpy=\n",
       "array([[1, 3],\n",
       "       [2, 4]], dtype=int32)>"
      ]
     },
     "execution_count": 71,
     "metadata": {},
     "output_type": "execute_result"
    }
   ],
   "source": [
    "tf.constant([1,2,3,4]).reshape(2,2).T"
   ]
  },
  {
   "cell_type": "code",
   "execution_count": 73,
   "id": "b0ad2c16-fcf8-49f1-94f7-86d42e09043a",
   "metadata": {},
   "outputs": [
    {
     "data": {
      "text/plain": [
       "<tf.Tensor: shape=(2, 2), dtype=int32, numpy=\n",
       "array([[1, 2],\n",
       "       [3, 4]], dtype=int32)>"
      ]
     },
     "execution_count": 73,
     "metadata": {},
     "output_type": "execute_result"
    }
   ],
   "source": [
    "tf.constant([1,2,3,4]).reshape(2,2).transpose().T"
   ]
  },
  {
   "cell_type": "markdown",
   "id": "8f8780de-a7eb-436f-bdb2-91dbf1368766",
   "metadata": {},
   "source": [
    "`-` max"
   ]
  },
  {
   "cell_type": "code",
   "execution_count": 74,
   "id": "928fa937-daed-4362-b2a6-2616a16b281c",
   "metadata": {},
   "outputs": [
    {
     "data": {
      "text/plain": [
       "<tf.Tensor: shape=(), dtype=int32, numpy=4>"
      ]
     },
     "execution_count": 74,
     "metadata": {},
     "output_type": "execute_result"
    }
   ],
   "source": [
    "tf.constant([1,2,3,4]).reshape(2,2).transpose().T.max()"
   ]
  },
  {
   "cell_type": "markdown",
   "id": "b60dae70-39b4-42a0-ad44-c65563f38ef7",
   "metadata": {},
   "source": [
    "`-` 알아서 형 변환 "
   ]
  },
  {
   "cell_type": "code",
   "execution_count": 75,
   "id": "f7c890bc-69b0-4a77-9b8c-244554a0ca89",
   "metadata": {},
   "outputs": [
    {
     "data": {
      "text/plain": [
       "<tf.Tensor: shape=(3,), dtype=float64, numpy=array([4.1400001, 5.1400001, 6.1400001])>"
      ]
     },
     "execution_count": 75,
     "metadata": {},
     "output_type": "execute_result"
    }
   ],
   "source": [
    "tf.constant([1,2,3]) + tf.constant([3.14,3.14,3.14])"
   ]
  },
  {
   "cell_type": "markdown",
   "id": "e35316f7-bcc9-4a1d-90ca-fac2a06a7271",
   "metadata": {},
   "source": [
    "`-` (2,2) @ (2,) 의 연산? "
   ]
  },
  {
   "cell_type": "code",
   "execution_count": 77,
   "id": "3edc5a87-44d2-43b0-9d06-3e08b10333e5",
   "metadata": {},
   "outputs": [
    {
     "data": {
      "text/plain": [
       "<tf.Tensor: shape=(2,), dtype=int64, numpy=array([ 77, -88])>"
      ]
     },
     "execution_count": 77,
     "metadata": {},
     "output_type": "execute_result"
    }
   ],
   "source": [
    "tnp.diag([1,1]) @ tf.constant([77,-88])"
   ]
  },
  {
   "cell_type": "code",
   "execution_count": 78,
   "id": "2fd1539e-5fcb-460b-8bd8-ed019bfb1cdb",
   "metadata": {},
   "outputs": [
    {
     "data": {
      "text/plain": [
       "<tf.Tensor: shape=(2,), dtype=int64, numpy=array([ 77, -88])>"
      ]
     },
     "execution_count": 78,
     "metadata": {},
     "output_type": "execute_result"
    }
   ],
   "source": [
    "tf.constant([77,-88]) @ tnp.diag([1,1]) "
   ]
  },
  {
   "cell_type": "markdown",
   "id": "9479c48a-0177-4aae-9da1-9d3de20ac59f",
   "metadata": {},
   "source": [
    "#### tnp는 거의 np와 유사함 $\\to$ 하지만 완전히 같은것 아니다. "
   ]
  },
  {
   "cell_type": "code",
   "execution_count": 79,
   "id": "ce919cde-b320-4eb1-b96f-f5c7b82428dd",
   "metadata": {},
   "outputs": [
    {
     "data": {
      "text/plain": [
       "array([1, 2, 3])"
      ]
     },
     "execution_count": 79,
     "metadata": {},
     "output_type": "execute_result"
    }
   ],
   "source": [
    "a = np.array([1,2,3])\n",
    "a"
   ]
  },
  {
   "cell_type": "code",
   "execution_count": 81,
   "id": "0c394403-fd27-4cb8-a86a-815071010a8e",
   "metadata": {},
   "outputs": [
    {
     "data": {
      "text/plain": [
       "array([11,  2,  3])"
      ]
     },
     "execution_count": 81,
     "metadata": {},
     "output_type": "execute_result"
    }
   ],
   "source": [
    "a[0]=11\n",
    "a"
   ]
  },
  {
   "cell_type": "code",
   "execution_count": 82,
   "id": "6f7ae53a-b8f7-47ac-981b-2f097257f251",
   "metadata": {},
   "outputs": [
    {
     "data": {
      "text/plain": [
       "<tf.Tensor: shape=(3,), dtype=int64, numpy=array([1, 2, 3])>"
      ]
     },
     "execution_count": 82,
     "metadata": {},
     "output_type": "execute_result"
    }
   ],
   "source": [
    "a=tnp.array([1,2,3])\n",
    "a"
   ]
  },
  {
   "cell_type": "code",
   "execution_count": 83,
   "id": "45da0477-03db-4d27-9190-47895bbfed67",
   "metadata": {},
   "outputs": [
    {
     "data": {
      "text/plain": [
       "<tf.Tensor: shape=(), dtype=int64, numpy=1>"
      ]
     },
     "execution_count": 83,
     "metadata": {},
     "output_type": "execute_result"
    }
   ],
   "source": [
    "a[0]"
   ]
  },
  {
   "cell_type": "code",
   "execution_count": 84,
   "id": "11b74315-42e6-4922-86ba-e561e20022ab",
   "metadata": {},
   "outputs": [
    {
     "ename": "TypeError",
     "evalue": "'tensorflow.python.framework.ops.EagerTensor' object does not support item assignment",
     "output_type": "error",
     "traceback": [
      "\u001b[0;31m---------------------------------------------------------------------------\u001b[0m",
      "\u001b[0;31mTypeError\u001b[0m                                 Traceback (most recent call last)",
      "Input \u001b[0;32mIn [84]\u001b[0m, in \u001b[0;36m<cell line: 1>\u001b[0;34m()\u001b[0m\n\u001b[0;32m----> 1\u001b[0m a[\u001b[38;5;241m0\u001b[39m]\u001b[38;5;241m=\u001b[39m\u001b[38;5;241m11\u001b[39m\n",
      "\u001b[0;31mTypeError\u001b[0m: 'tensorflow.python.framework.ops.EagerTensor' object does not support item assignment"
     ]
    }
   ],
   "source": [
    "a[0]=11"
   ]
  },
  {
   "cell_type": "markdown",
   "id": "b31b964e-b494-40bf-b801-7b8b4000c60c",
   "metadata": {},
   "source": [
    "### tf.Variable"
   ]
  },
  {
   "cell_type": "markdown",
   "id": "7a6cf761-8eeb-49ea-b7c0-4371f868ce2a",
   "metadata": {},
   "source": [
    "#### 선언 "
   ]
  },
  {
   "cell_type": "markdown",
   "id": "e6f92c5c-3f74-4e5b-98b2-8c7f915bc056",
   "metadata": {},
   "source": [
    "`-` tf.Variable()로 선언"
   ]
  },
  {
   "cell_type": "code",
   "execution_count": 98,
   "id": "7687277d-d4db-4543-9f0b-f0b87edd3adb",
   "metadata": {},
   "outputs": [
    {
     "data": {
      "text/plain": [
       "<tf.Variable 'Variable:0' shape=(2,) dtype=int32, numpy=array([1, 2], dtype=int32)>"
      ]
     },
     "execution_count": 98,
     "metadata": {},
     "output_type": "execute_result"
    }
   ],
   "source": [
    "a=tf.Variable([1,2])\n",
    "a"
   ]
  },
  {
   "cell_type": "markdown",
   "id": "8aa59928-ab87-44af-820f-712aa05989a7",
   "metadata": {},
   "source": [
    "`-` tf.constant() 선언후 변환"
   ]
  },
  {
   "cell_type": "code",
   "execution_count": 101,
   "id": "2de78731-75d0-460d-ac08-3cae1077da1d",
   "metadata": {},
   "outputs": [
    {
     "data": {
      "text/plain": [
       "<tf.Variable 'Variable:0' shape=(3,) dtype=int32, numpy=array([1, 2, 3], dtype=int32)>"
      ]
     },
     "execution_count": 101,
     "metadata": {},
     "output_type": "execute_result"
    }
   ],
   "source": [
    "tf.Variable(tf.constant([1,2,3]))"
   ]
  },
  {
   "cell_type": "markdown",
   "id": "37274037-f857-4c9f-9c00-0805a1be7952",
   "metadata": {},
   "source": [
    "`-` np 등으로 선언후 변환 "
   ]
  },
  {
   "cell_type": "code",
   "execution_count": 103,
   "id": "1adc064a-612a-447a-a445-8a4b1f1e1e9f",
   "metadata": {},
   "outputs": [
    {
     "data": {
      "text/plain": [
       "<tf.Variable 'Variable:0' shape=(3,) dtype=int64, numpy=array([1, 2, 3])>"
      ]
     },
     "execution_count": 103,
     "metadata": {},
     "output_type": "execute_result"
    }
   ],
   "source": [
    "tf.Variable(np.array([1,2,3]))"
   ]
  },
  {
   "cell_type": "markdown",
   "id": "4fb4ad1b-af3f-4d1b-8482-e0cb3635a97f",
   "metadata": {},
   "source": [
    "#### 타입"
   ]
  },
  {
   "cell_type": "code",
   "execution_count": 104,
   "id": "03c9ee97-c8e2-4348-9cda-ab871dde3655",
   "metadata": {},
   "outputs": [
    {
     "data": {
      "text/plain": [
       "tensorflow.python.ops.resource_variable_ops.ResourceVariable"
      ]
     },
     "execution_count": 104,
     "metadata": {},
     "output_type": "execute_result"
    }
   ],
   "source": [
    "a=tf.Variable([1,2])\n",
    "type(a)"
   ]
  },
  {
   "cell_type": "markdown",
   "id": "df878b16-0e9a-41e7-b2c0-5a23045958dd",
   "metadata": {},
   "source": [
    "#### 인덱싱 "
   ]
  },
  {
   "cell_type": "code",
   "execution_count": 105,
   "id": "fd4ec13f-7b9e-4040-887f-71e5a21cbf80",
   "metadata": {},
   "outputs": [
    {
     "data": {
      "text/plain": [
       "<tf.Tensor: shape=(2,), dtype=int32, numpy=array([1, 2], dtype=int32)>"
      ]
     },
     "execution_count": 105,
     "metadata": {},
     "output_type": "execute_result"
    }
   ],
   "source": [
    "a= tf.Variable([1,2,3,4])\n",
    "a[:2]"
   ]
  },
  {
   "cell_type": "markdown",
   "id": "42dac5a0-e799-4edb-b620-646413aaaa0b",
   "metadata": {},
   "source": [
    "#### 연산가능 "
   ]
  },
  {
   "cell_type": "markdown",
   "id": "8791b63e-a6a1-4425-b42c-daed04dfc5c3",
   "metadata": {},
   "source": [
    "`-` 더하기 "
   ]
  },
  {
   "cell_type": "code",
   "execution_count": 106,
   "id": "c4954404-5400-4fb9-8a64-3aa8b1b121a5",
   "metadata": {},
   "outputs": [
    {
     "data": {
      "text/plain": [
       "<tf.Tensor: shape=(2,), dtype=int32, numpy=array([4, 6], dtype=int32)>"
      ]
     },
     "execution_count": 106,
     "metadata": {},
     "output_type": "execute_result"
    }
   ],
   "source": [
    "tf.Variable([1,2])+tf.Variable([3,4])"
   ]
  },
  {
   "cell_type": "markdown",
   "id": "57820eef-9847-4f36-9d46-0b4b2145f491",
   "metadata": {},
   "source": [
    "`-` 그런데 tf.Variable 끼리 연산해도 그 결과가 tf.Variable 인것은 아님. (왜 이렇게 만들었어??)"
   ]
  },
  {
   "cell_type": "code",
   "execution_count": 109,
   "id": "777a6135-89a9-4b91-8b26-ad46d3ec6791",
   "metadata": {},
   "outputs": [
    {
     "data": {
      "text/plain": [
       "(tensorflow.python.ops.resource_variable_ops.ResourceVariable,\n",
       " tensorflow.python.ops.resource_variable_ops.ResourceVariable)"
      ]
     },
     "execution_count": 109,
     "metadata": {},
     "output_type": "execute_result"
    }
   ],
   "source": [
    "a=tf.Variable([1,2])\n",
    "b=tf.Variable([3,4])\n",
    "type(a),type(b)"
   ]
  },
  {
   "cell_type": "code",
   "execution_count": 110,
   "id": "3a597c4f-8b64-4a62-908a-02bb8b216f34",
   "metadata": {},
   "outputs": [
    {
     "data": {
      "text/plain": [
       "tensorflow.python.framework.ops.EagerTensor"
      ]
     },
     "execution_count": 110,
     "metadata": {},
     "output_type": "execute_result"
    }
   ],
   "source": [
    "type(a+b)"
   ]
  },
  {
   "cell_type": "markdown",
   "id": "046387c9-51af-4ed1-9a2e-46f46d2f422e",
   "metadata": {},
   "source": [
    "#### tnp의 은총을 일부만 받음 "
   ]
  },
  {
   "cell_type": "markdown",
   "id": "ad3ab170-eac6-4af4-aee3-4a555ed52748",
   "metadata": {},
   "source": [
    "`-` 알아서 형 변환 "
   ]
  },
  {
   "cell_type": "code",
   "execution_count": 111,
   "id": "62439fc6-a78a-49f6-bb49-e2e16d0667c3",
   "metadata": {},
   "outputs": [
    {
     "data": {
      "text/plain": [
       "<tf.Tensor: shape=(2,), dtype=float64, numpy=array([4.1400001, 5.1400001])>"
      ]
     },
     "execution_count": 111,
     "metadata": {},
     "output_type": "execute_result"
    }
   ],
   "source": [
    "tf.Variable([1,2])+tf.Variable([3.14,3.14])"
   ]
  },
  {
   "cell_type": "markdown",
   "id": "f693036e-611f-439c-9338-4d24c8359854",
   "metadata": {},
   "source": [
    "`-` .reshape 메소드 "
   ]
  },
  {
   "cell_type": "code",
   "execution_count": 113,
   "id": "29e1b104-04cf-42fb-990e-f6dd09b6ebfc",
   "metadata": {},
   "outputs": [
    {
     "ename": "AttributeError",
     "evalue": "'ResourceVariable' object has no attribute 'reshape'",
     "output_type": "error",
     "traceback": [
      "\u001b[0;31m---------------------------------------------------------------------------\u001b[0m",
      "\u001b[0;31mAttributeError\u001b[0m                            Traceback (most recent call last)",
      "Input \u001b[0;32mIn [113]\u001b[0m, in \u001b[0;36m<cell line: 1>\u001b[0;34m()\u001b[0m\n\u001b[0;32m----> 1\u001b[0m \u001b[43mtf\u001b[49m\u001b[38;5;241;43m.\u001b[39;49m\u001b[43mVariable\u001b[49m\u001b[43m(\u001b[49m\u001b[43m[\u001b[49m\u001b[38;5;241;43m1\u001b[39;49m\u001b[43m,\u001b[49m\u001b[38;5;241;43m2\u001b[39;49m\u001b[43m,\u001b[49m\u001b[38;5;241;43m3\u001b[39;49m\u001b[43m,\u001b[49m\u001b[38;5;241;43m4\u001b[39;49m\u001b[43m]\u001b[49m\u001b[43m)\u001b[49m\u001b[38;5;241;43m.\u001b[39;49m\u001b[43mreshape\u001b[49m(\u001b[38;5;241m2\u001b[39m,\u001b[38;5;241m2\u001b[39m)\n",
      "\u001b[0;31mAttributeError\u001b[0m: 'ResourceVariable' object has no attribute 'reshape'"
     ]
    }
   ],
   "source": [
    "tf.Variable([1,2,3,4]).reshape(2,2)"
   ]
  },
  {
   "cell_type": "markdown",
   "id": "35d26c06-f0d7-4fb8-a2c7-2157f93320fd",
   "metadata": {},
   "source": [
    "#### 대부분의 동작은 tf.constant랑 큰 차이 없음 "
   ]
  },
  {
   "cell_type": "markdown",
   "id": "1e7a0d88-1530-4265-bf1b-9ed4649f8154",
   "metadata": {},
   "source": [
    "`-` tf.concat "
   ]
  },
  {
   "cell_type": "code",
   "execution_count": 115,
   "id": "f1064ddf-059b-4e39-a1c5-6899d4d80c02",
   "metadata": {},
   "outputs": [],
   "source": [
    "a= tf.Variable([[1,2],[3,4]])\n",
    "b= tf.Variable([[-1,-2],[-3,-4]])"
   ]
  },
  {
   "cell_type": "code",
   "execution_count": 117,
   "id": "3516be78-252a-4c6a-ae3a-efcc177bd9f9",
   "metadata": {},
   "outputs": [
    {
     "data": {
      "text/plain": [
       "<tf.Tensor: shape=(4, 2), dtype=int32, numpy=\n",
       "array([[ 1,  2],\n",
       "       [ 3,  4],\n",
       "       [-1, -2],\n",
       "       [-3, -4]], dtype=int32)>"
      ]
     },
     "execution_count": 117,
     "metadata": {},
     "output_type": "execute_result"
    }
   ],
   "source": [
    "tf.concat([a,b],axis=0)"
   ]
  },
  {
   "cell_type": "markdown",
   "id": "1e88e171-d011-4a6b-8df1-82b271e7c3e3",
   "metadata": {},
   "source": [
    "`-` tf.stack"
   ]
  },
  {
   "cell_type": "code",
   "execution_count": 118,
   "id": "523e7ed4-13ec-4dec-8998-45d894a86080",
   "metadata": {},
   "outputs": [
    {
     "data": {
      "text/plain": [
       "<tf.Tensor: shape=(2, 2, 2), dtype=int32, numpy=\n",
       "array([[[ 1,  2],\n",
       "        [ 3,  4]],\n",
       "\n",
       "       [[-1, -2],\n",
       "        [-3, -4]]], dtype=int32)>"
      ]
     },
     "execution_count": 118,
     "metadata": {},
     "output_type": "execute_result"
    }
   ],
   "source": [
    "tf.stack([a,b],axis=0)"
   ]
  },
  {
   "cell_type": "markdown",
   "id": "606c7880-74df-45b6-88ae-ca27e2f04058",
   "metadata": {
    "tags": []
   },
   "source": [
    "#### 변수값변경가능(?)"
   ]
  },
  {
   "cell_type": "code",
   "execution_count": 124,
   "id": "580ac9dc-754a-4db4-ac3d-254b0c230eaf",
   "metadata": {},
   "outputs": [
    {
     "data": {
      "text/plain": [
       "<tf.Variable 'Variable:0' shape=(2,) dtype=int32, numpy=array([1, 2], dtype=int32)>"
      ]
     },
     "execution_count": 124,
     "metadata": {},
     "output_type": "execute_result"
    }
   ],
   "source": [
    "a= tf.Variable([1,2])\n",
    "a"
   ]
  },
  {
   "cell_type": "code",
   "execution_count": 125,
   "id": "2838614b-c054-4fd2-8b02-11f887e8f3c9",
   "metadata": {},
   "outputs": [
    {
     "data": {
      "text/plain": [
       "<tf.Variable 'UnreadVariable' shape=(2,) dtype=int32, numpy=array([0, 0], dtype=int32)>"
      ]
     },
     "execution_count": 125,
     "metadata": {},
     "output_type": "execute_result"
    }
   ],
   "source": [
    "a.assign_add([-1,-2])"
   ]
  },
  {
   "cell_type": "markdown",
   "id": "264f0720-86d9-4adb-8b5c-c874c39f9070",
   "metadata": {},
   "source": [
    "#### 요약 "
   ]
  },
  {
   "cell_type": "markdown",
   "id": "0ca9f2f8-675d-487f-9dec-841526089ab8",
   "metadata": {},
   "source": [
    "`-` tf.Variable()로 만들어야 하는 뚜렷한 차이는 모르겠음. "
   ]
  },
  {
   "cell_type": "markdown",
   "id": "aa82b8fe-ad0c-4df7-b822-11c4377d404c",
   "metadata": {},
   "source": [
    "`-` 애써 tf.Variable()로 만들어도 간단한연산을 하면 그 결과는 tf.constant()로 만든 오브젝트와 동일해짐. "
   ]
  },
  {
   "cell_type": "markdown",
   "id": "1d4a3d56-1b55-48ee-8095-e33dc5911683",
   "metadata": {
    "tags": []
   },
   "source": [
    "### 미분 "
   ]
  },
  {
   "cell_type": "markdown",
   "id": "a0371156-ef78-4779-b141-3aaae848c1b1",
   "metadata": {},
   "source": [
    "#### 모티브"
   ]
  },
  {
   "cell_type": "markdown",
   "id": "1bae6965-67e9-4dba-9816-c73e5d3016fb",
   "metadata": {},
   "source": [
    "`-` 예제: 컴퓨터를 이용하여 $x=2$에서 $y=3x^2$의 접선의 기울기를 구해보자. "
   ]
  },
  {
   "cell_type": "markdown",
   "id": "5fe93dc5-deaf-40ea-8e68-7518212daec9",
   "metadata": {},
   "source": [
    "(손풀이) "
   ]
  },
  {
   "cell_type": "markdown",
   "id": "cd0101f2-4833-48ec-bbfd-ce988173cda0",
   "metadata": {},
   "source": [
    "$\\frac{dy}{dx}=6x$ 이므로, $x=2$를 대입하면 답은 12이다. "
   ]
  },
  {
   "cell_type": "markdown",
   "id": "a20165a3-86be-4c96-a9d2-317b12fa8563",
   "metadata": {},
   "source": [
    "(컴퓨터로풀이) "
   ]
  },
  {
   "cell_type": "markdown",
   "id": "b3d91769-55eb-46f3-b368-61df7438a486",
   "metadata": {},
   "source": [
    "도함수를 구하려니까 갑자기 어려움 "
   ]
  },
  {
   "cell_type": "markdown",
   "id": "f3ac87e4-7c94-4fe0-9251-af906a8d7b6d",
   "metadata": {},
   "source": [
    "그런데 $x=2$에서 접선의 기울기만 계산하려고 마음먹으면 쉬움 "
   ]
  },
  {
   "cell_type": "markdown",
   "id": "8c458cd9-dbaf-46cd-a45b-f71026bb75c9",
   "metadata": {},
   "source": [
    "단계1: 답만계산 "
   ]
  },
  {
   "cell_type": "code",
   "execution_count": 145,
   "id": "d1c13f29-77d9-44f7-8d41-51011134e198",
   "metadata": {},
   "outputs": [],
   "source": [
    "x1=2 \n",
    "y1=3*x1**2 "
   ]
  },
  {
   "cell_type": "code",
   "execution_count": 146,
   "id": "bd501ddf-32a2-4be3-8f2b-643d7dffc958",
   "metadata": {},
   "outputs": [],
   "source": [
    "x2=2+0.000001\n",
    "y2=3*x2**2 "
   ]
  },
  {
   "cell_type": "code",
   "execution_count": 147,
   "id": "104e7ec7-9064-427a-a003-3c338f8c3651",
   "metadata": {},
   "outputs": [
    {
     "data": {
      "text/plain": [
       "12.000003000266702"
      ]
     },
     "execution_count": 147,
     "metadata": {},
     "output_type": "execute_result"
    }
   ],
   "source": [
    "(y2-y1)/(x2-x1)"
   ]
  },
  {
   "cell_type": "markdown",
   "id": "1fe8fb40-2bc1-4647-8fda-bb8d351390b9",
   "metadata": {},
   "source": [
    "단계2: 함수화 "
   ]
  },
  {
   "cell_type": "code",
   "execution_count": 148,
   "id": "80044d9d-b2c6-483c-a3c2-383db5c13c0e",
   "metadata": {},
   "outputs": [],
   "source": [
    "def f(x):\n",
    "    return 3*x**2 "
   ]
  },
  {
   "cell_type": "code",
   "execution_count": 149,
   "id": "01b9c2ed-d9c9-4fd2-8bf1-a34899d46af3",
   "metadata": {},
   "outputs": [],
   "source": [
    "def d(f,x):\n",
    "    return (f(x+0.000001)-f(x))/0.000001"
   ]
  },
  {
   "cell_type": "code",
   "execution_count": 150,
   "id": "c8af7138-49da-41d2-a185-79a3289a749d",
   "metadata": {},
   "outputs": [
    {
     "data": {
      "text/plain": [
       "12.000003001944037"
      ]
     },
     "execution_count": 150,
     "metadata": {},
     "output_type": "execute_result"
    }
   ],
   "source": [
    "d(f,2)"
   ]
  },
  {
   "cell_type": "markdown",
   "id": "d3f8573a-a7a7-4185-b61a-f32371de76f4",
   "metadata": {},
   "source": [
    "단계3: lambda "
   ]
  },
  {
   "cell_type": "code",
   "execution_count": 151,
   "id": "527b44a4-8790-4388-8a30-a58d9e2919f2",
   "metadata": {},
   "outputs": [
    {
     "data": {
      "text/plain": [
       "6.000001000927568"
      ]
     },
     "execution_count": 151,
     "metadata": {},
     "output_type": "execute_result"
    }
   ],
   "source": [
    "d(lambda x: x**2,3) "
   ]
  },
  {
   "cell_type": "markdown",
   "id": "0fd40955-015a-4e87-8775-ab54a785d62c",
   "metadata": {},
   "source": [
    "`-` 2개의 변수로 가지는 함수를 만들어보자. "
   ]
  },
  {
   "cell_type": "code",
   "execution_count": 152,
   "id": "f36f1b03-9878-453a-909c-b6b9fb4ce1f9",
   "metadata": {},
   "outputs": [],
   "source": [
    "def f(x,y):\n",
    "    return x**2 + 3*y "
   ]
  },
  {
   "cell_type": "code",
   "execution_count": 153,
   "id": "5fe96fd7-ebbb-47ee-b808-30d9aaa5d0b7",
   "metadata": {},
   "outputs": [
    {
     "ename": "TypeError",
     "evalue": "can only concatenate tuple (not \"float\") to tuple",
     "output_type": "error",
     "traceback": [
      "\u001b[0;31m---------------------------------------------------------------------------\u001b[0m",
      "\u001b[0;31mTypeError\u001b[0m                                 Traceback (most recent call last)",
      "Input \u001b[0;32mIn [153]\u001b[0m, in \u001b[0;36m<cell line: 1>\u001b[0;34m()\u001b[0m\n\u001b[0;32m----> 1\u001b[0m \u001b[43md\u001b[49m\u001b[43m(\u001b[49m\u001b[43mf\u001b[49m\u001b[43m,\u001b[49m\u001b[43m(\u001b[49m\u001b[38;5;241;43m2\u001b[39;49m\u001b[43m,\u001b[49m\u001b[38;5;241;43m3\u001b[39;49m\u001b[43m)\u001b[49m\u001b[43m)\u001b[49m\n",
      "Input \u001b[0;32mIn [149]\u001b[0m, in \u001b[0;36md\u001b[0;34m(f, x)\u001b[0m\n\u001b[1;32m      1\u001b[0m \u001b[38;5;28;01mdef\u001b[39;00m \u001b[38;5;21md\u001b[39m(f,x):\n\u001b[0;32m----> 2\u001b[0m     \u001b[38;5;28;01mreturn\u001b[39;00m (f(\u001b[43mx\u001b[49m\u001b[38;5;241;43m+\u001b[39;49m\u001b[38;5;241;43m0.000001\u001b[39;49m)\u001b[38;5;241m-\u001b[39mf(x))\u001b[38;5;241m/\u001b[39m\u001b[38;5;241m0.000001\u001b[39m\n",
      "\u001b[0;31mTypeError\u001b[0m: can only concatenate tuple (not \"float\") to tuple"
     ]
    }
   ],
   "source": [
    "d(f,(2,3))"
   ]
  },
  {
   "cell_type": "markdown",
   "id": "75432f74-b6fc-4866-9c7a-08a45b88cadd",
   "metadata": {},
   "source": [
    "`-` 아쉽지만 손으로 함수를 직접 구현하여 미분을 하나하나 계산하기에는 한계가 있겠음  "
   ]
  },
  {
   "cell_type": "markdown",
   "id": "375de602-d71a-43f7-abd0-97a03c17e329",
   "metadata": {},
   "source": [
    "#### tf.GradientTape() 사용방법 "
   ]
  },
  {
   "cell_type": "markdown",
   "id": "9e09137f-970b-4f0f-a706-7586cf507d4c",
   "metadata": {},
   "source": [
    "`-` 예제1: $x=2$에서 $y=3x^2$의 도함수값을 구하라. "
   ]
  },
  {
   "cell_type": "code",
   "execution_count": 162,
   "id": "2f0baa12-c345-47f1-af83-6a62edea22b8",
   "metadata": {},
   "outputs": [],
   "source": [
    "x=tf.Variable(2.0)\n",
    "a=tf.constant(3.0) "
   ]
  },
  {
   "cell_type": "code",
   "execution_count": 163,
   "id": "e2200c45-4373-463b-8c12-d78df7c0e577",
   "metadata": {},
   "outputs": [],
   "source": [
    "mytape=tf.GradientTape()"
   ]
  },
  {
   "cell_type": "code",
   "execution_count": 164,
   "id": "d58bb538-198a-4c04-a315-8fc050b625db",
   "metadata": {},
   "outputs": [],
   "source": [
    "mytape.__enter__() # 테이프를 기록 \n",
    "y=a*x**2 # y=ax^2 \n",
    "mytape.__exit__(None,None,None) "
   ]
  },
  {
   "cell_type": "code",
   "execution_count": 165,
   "id": "665d351e-f65e-49cb-a4d6-a04f66ddc035",
   "metadata": {},
   "outputs": [
    {
     "data": {
      "text/plain": [
       "<tf.Tensor: shape=(), dtype=float32, numpy=12.0>"
      ]
     },
     "execution_count": 165,
     "metadata": {},
     "output_type": "execute_result"
    }
   ],
   "source": [
    "mytape.gradient(y,x)"
   ]
  },
  {
   "cell_type": "markdown",
   "id": "51a61b06-cf87-4943-903f-ba221d7f73d9",
   "metadata": {},
   "source": [
    "`-` 예제2: 조금 다른예제 "
   ]
  },
  {
   "cell_type": "code",
   "execution_count": 168,
   "id": "61137bed-b964-44b8-94c5-84bb29b83988",
   "metadata": {},
   "outputs": [
    {
     "data": {
      "text/plain": [
       "<tf.Tensor: shape=(), dtype=float32, numpy=18.0>"
      ]
     },
     "execution_count": 168,
     "metadata": {},
     "output_type": "execute_result"
    }
   ],
   "source": [
    "x=tf.Variable(2.0)\n",
    "#a=tf.constant(3.0) \n",
    "\n",
    "mytape=tf.GradientTape()\n",
    "\n",
    "mytape.__enter__() # 테이프를 기록 \n",
    "a=x/2*3 # a=x*(3/2)\n",
    "y=a*x**2 # y=ax^2=(3/2)x^3 \n",
    "mytape.__exit__(None,None,None) \n",
    "\n",
    "mytape.gradient(y,x)"
   ]
  },
  {
   "cell_type": "markdown",
   "id": "f0356410-2d38-43a2-91c1-fa83e145ea68",
   "metadata": {},
   "source": [
    "$a=\\frac{3}{2}x$"
   ]
  },
  {
   "cell_type": "markdown",
   "id": "53b7658c-8919-483c-9925-4164b0cdd8ed",
   "metadata": {},
   "source": [
    "$y=ax^2= \\frac{3}{2}x^3$"
   ]
  },
  {
   "cell_type": "markdown",
   "id": "a87922d3-a971-45b3-aa8b-d18e61b14ae6",
   "metadata": {},
   "source": [
    "$\\frac{dy}{dx}= \\frac{3}{2}3 x^2$"
   ]
  },
  {
   "cell_type": "code",
   "execution_count": 169,
   "id": "cff1a764-aaa9-4827-b5e1-cde204431a66",
   "metadata": {},
   "outputs": [
    {
     "data": {
      "text/plain": [
       "18.0"
      ]
     },
     "execution_count": 169,
     "metadata": {},
     "output_type": "execute_result"
    }
   ],
   "source": [
    "1.5 * 3 * 4"
   ]
  },
  {
   "cell_type": "markdown",
   "id": "cd618c28-6df3-42dd-84d2-2260a8338293",
   "metadata": {},
   "source": [
    "`-` 테이프의 개념 ($\\star$)"
   ]
  },
  {
   "cell_type": "markdown",
   "id": "1a3b10c6-2ce1-4161-ae1a-661d3da4b209",
   "metadata": {},
   "source": [
    "(상황) \n",
    "\n",
    "우리가 어려운 미분계산을 컴퓨터에게 부탁하는 상황임. (예를들면 $y=3x^2$) 컴퓨터에게 부탁을 하기 위해서는 연습장(=테이프)에 $y=3x^2$이라는 수식을 써서 보여줘야하는데 이때 컴퓨터에게 target이 무엇인지 그리고 무엇으로 미분하고 싶은 것인지를 명시해야함. \n",
    "\n",
    "(1) `mytape = tf.GradientTape()`: 컴퓨터에게 전달할 공책가 만들어짐, 연습장의 이름을 mytape이라고 쓴다. \n",
    "\n",
    "(2) `mytape.__enter__()`: mytape공책을 연다 \n",
    "\n",
    "(3) `a=x/2*3; y=a*x**2`: 컴퓨터에게 부탁할 수식을 쓴다. \n",
    "\n",
    "(4) `mytape.__exit__(None,None,None)`: mytape라는 공책을 닫는다. \n",
    "\n",
    "(5) `mytape.gradient(y,x)`: $y$를 $x$로 미분한다는 포스트잇을 남겨서 컴퓨터한테 전달  "
   ]
  },
  {
   "cell_type": "markdown",
   "id": "e1f2ac28-a707-4128-90a8-d4b01019e86f",
   "metadata": {},
   "source": [
    "`-` 예제3: 연습장을 언제 열고 닫을지 결정하는건 중요하다. "
   ]
  },
  {
   "cell_type": "code",
   "execution_count": 170,
   "id": "f49455b3-00de-421b-aab2-8b193e3acbd1",
   "metadata": {},
   "outputs": [
    {
     "data": {
      "text/plain": [
       "<tf.Tensor: shape=(), dtype=float32, numpy=12.0>"
      ]
     },
     "execution_count": 170,
     "metadata": {},
     "output_type": "execute_result"
    }
   ],
   "source": [
    "x=tf.Variable(2.0)\n",
    "a=x/2*3 # a=x*(3/2)\n",
    "\n",
    "mytape=tf.GradientTape()\n",
    "\n",
    "mytape.__enter__() # 테이프를 기록 \n",
    "#a=x/2*3 # a=x*(3/2)\n",
    "y=a*x**2 # y=ax^2=(3/2)x^3 \n",
    "mytape.__exit__(None,None,None) \n",
    "\n",
    "mytape.gradient(y,x)"
   ]
  },
  {
   "cell_type": "markdown",
   "id": "cb9efd6b-b591-44f2-b424-1689e2014181",
   "metadata": {},
   "source": [
    "`-` 예제4: with문과 함께 쓰는 tf.GradientTape()"
   ]
  },
  {
   "cell_type": "code",
   "execution_count": 171,
   "id": "cb79b104-a151-4128-8382-4bea00fe602a",
   "metadata": {},
   "outputs": [
    {
     "data": {
      "text/plain": [
       "<tf.Tensor: shape=(), dtype=float32, numpy=12.0>"
      ]
     },
     "execution_count": 171,
     "metadata": {},
     "output_type": "execute_result"
    }
   ],
   "source": [
    "x=tf.Variable(2.0)\n",
    "a=x/2*3 # a=x*(3/2)\n",
    "\n",
    "with tf.GradientTape() as mytape:\n",
    "    y=a*x**2 # y=ax^2=(3/2)x^3 \n",
    "\n",
    "mytape.gradient(y,x)"
   ]
  },
  {
   "cell_type": "markdown",
   "id": "c759489c-9b41-4e1e-b7d2-6ccea20c2351",
   "metadata": {},
   "source": [
    "(해설)"
   ]
  },
  {
   "cell_type": "markdown",
   "id": "0b24f4ff-9dca-44b9-8b38-f5a6aaf0f9a8",
   "metadata": {},
   "source": [
    "with문은 아래와 같이 동작한다. \n",
    "```python\n",
    "with expression as myname:\n",
    "    ### with문 시작\n",
    "    blabla~!\n",
    "    yadiyadi~\n",
    "    ### with문 끝\n",
    "```"
   ]
  },
  {
   "cell_type": "markdown",
   "id": "2ab46166-b03b-453a-b06f-2068edafedb2",
   "metadata": {},
   "source": [
    "(1) expression이 실행되면서 오브젝트가 하나 생성됨, 그 오브젝트를 myname이라고 받음 \n",
    "\n",
    "(2) with문이 시작되면서 `myname.__enter__()` 가 실행 \n",
    "\n",
    "(3) 블라블라, 야디야디 실행 \n",
    "\n",
    "(4) with문이 끝나면서 `myname.__exit__()` 이 실행 "
   ]
  },
  {
   "cell_type": "markdown",
   "id": "102bdfc3-3585-405d-bbd3-e46c15ed506e",
   "metadata": {},
   "source": [
    "`-` 예제5: 예제2를 with문과 함께 구현 "
   ]
  },
  {
   "cell_type": "code",
   "execution_count": 174,
   "id": "ca9f0583-872d-443b-bfb0-ce17f3f4749f",
   "metadata": {},
   "outputs": [
    {
     "data": {
      "text/plain": [
       "<tf.Tensor: shape=(), dtype=float32, numpy=18.0>"
      ]
     },
     "execution_count": 174,
     "metadata": {},
     "output_type": "execute_result"
    }
   ],
   "source": [
    "x=tf.Variable(2.0)\n",
    "\n",
    "with tf.GradientTape() as mytape:\n",
    "    a=x/2*3 # a=x*(3/2)\n",
    "    y=a*x**2 # y=ax^2=(3/2)x^3 \n",
    "\n",
    "mytape.gradient(y,x)"
   ]
  },
  {
   "cell_type": "markdown",
   "id": "5bbb104c-3369-486c-93a3-42972f942632",
   "metadata": {},
   "source": [
    "`-` 예제6: persistent = True"
   ]
  },
  {
   "cell_type": "markdown",
   "id": "e378ce92-93bf-4566-8edb-ff5ab7d5acbf",
   "metadata": {},
   "source": [
    "(관찰1)"
   ]
  },
  {
   "cell_type": "code",
   "execution_count": 179,
   "id": "ae97a491-5932-45ba-8fae-70c187e00918",
   "metadata": {},
   "outputs": [],
   "source": [
    "x=tf.Variable(2.0)\n",
    "with tf.GradientTape() as mytape:\n",
    "    a=x/2*3 # a=x*(3/2)\n",
    "    y=a*x**2 # y=ax^2=(3/2)x^3 "
   ]
  },
  {
   "cell_type": "code",
   "execution_count": 182,
   "id": "4c301e09-a5ec-46d3-bb92-885f85b4af7d",
   "metadata": {},
   "outputs": [
    {
     "ename": "RuntimeError",
     "evalue": "A non-persistent GradientTape can only be used to compute one set of gradients (or jacobians)",
     "output_type": "error",
     "traceback": [
      "\u001b[0;31m---------------------------------------------------------------------------\u001b[0m",
      "\u001b[0;31mRuntimeError\u001b[0m                              Traceback (most recent call last)",
      "Input \u001b[0;32mIn [182]\u001b[0m, in \u001b[0;36m<cell line: 1>\u001b[0;34m()\u001b[0m\n\u001b[0;32m----> 1\u001b[0m \u001b[43mmytape\u001b[49m\u001b[38;5;241;43m.\u001b[39;49m\u001b[43mgradient\u001b[49m\u001b[43m(\u001b[49m\u001b[43my\u001b[49m\u001b[43m,\u001b[49m\u001b[43mx\u001b[49m\u001b[43m)\u001b[49m\n",
      "File \u001b[0;32m~/anaconda3/envs/py310/lib/python3.10/site-packages/tensorflow/python/eager/backprop.py:1032\u001b[0m, in \u001b[0;36mGradientTape.gradient\u001b[0;34m(self, target, sources, output_gradients, unconnected_gradients)\u001b[0m\n\u001b[1;32m   1002\u001b[0m \u001b[38;5;124;03m\"\"\"Computes the gradient using operations recorded in context of this tape.\u001b[39;00m\n\u001b[1;32m   1003\u001b[0m \n\u001b[1;32m   1004\u001b[0m \u001b[38;5;124;03mNote: Unless you set `persistent=True` a GradientTape can only be used to\u001b[39;00m\n\u001b[0;32m   (...)\u001b[0m\n\u001b[1;32m   1029\u001b[0m \u001b[38;5;124;03m   called with an unknown value.\u001b[39;00m\n\u001b[1;32m   1030\u001b[0m \u001b[38;5;124;03m\"\"\"\u001b[39;00m\n\u001b[1;32m   1031\u001b[0m \u001b[38;5;28;01mif\u001b[39;00m \u001b[38;5;28mself\u001b[39m\u001b[38;5;241m.\u001b[39m_tape \u001b[38;5;129;01mis\u001b[39;00m \u001b[38;5;28;01mNone\u001b[39;00m:\n\u001b[0;32m-> 1032\u001b[0m   \u001b[38;5;28;01mraise\u001b[39;00m \u001b[38;5;167;01mRuntimeError\u001b[39;00m(\u001b[38;5;124m\"\u001b[39m\u001b[38;5;124mA non-persistent GradientTape can only be used to \u001b[39m\u001b[38;5;124m\"\u001b[39m\n\u001b[1;32m   1033\u001b[0m                      \u001b[38;5;124m\"\u001b[39m\u001b[38;5;124mcompute one set of gradients (or jacobians)\u001b[39m\u001b[38;5;124m\"\u001b[39m)\n\u001b[1;32m   1034\u001b[0m \u001b[38;5;28;01mif\u001b[39;00m \u001b[38;5;28mself\u001b[39m\u001b[38;5;241m.\u001b[39m_recording:\n\u001b[1;32m   1035\u001b[0m   \u001b[38;5;28;01mif\u001b[39;00m \u001b[38;5;129;01mnot\u001b[39;00m \u001b[38;5;28mself\u001b[39m\u001b[38;5;241m.\u001b[39m_persistent:\n",
      "\u001b[0;31mRuntimeError\u001b[0m: A non-persistent GradientTape can only be used to compute one set of gradients (or jacobians)"
     ]
    }
   ],
   "source": [
    "mytape.gradient(y,x) # 2번실행해서 에러를 관찰하자. "
   ]
  },
  {
   "cell_type": "markdown",
   "id": "8ac133e3-95a6-430e-a411-a3b2bc112e8b",
   "metadata": {},
   "source": [
    "(관찰2)"
   ]
  },
  {
   "cell_type": "code",
   "execution_count": 184,
   "id": "8faaffc3-d6ab-409a-98d5-b07806809bf6",
   "metadata": {},
   "outputs": [],
   "source": [
    "x=tf.Variable(2.0)\n",
    "with tf.GradientTape(persistent=True) as mytape:\n",
    "    a=x/2*3 # a=x*(3/2)\n",
    "    y=a*x**2 # y=ax^2=(3/2)x^3 "
   ]
  },
  {
   "cell_type": "code",
   "execution_count": 190,
   "id": "bdfc8ba9-e860-4356-ac87-bb8335085aca",
   "metadata": {},
   "outputs": [
    {
     "data": {
      "text/plain": [
       "<tf.Tensor: shape=(), dtype=float32, numpy=18.0>"
      ]
     },
     "execution_count": 190,
     "metadata": {},
     "output_type": "execute_result"
    }
   ],
   "source": [
    "mytape.gradient(y,x) # 2번실행해서 에러를 관찰하자. "
   ]
  },
  {
   "cell_type": "markdown",
   "id": "2260fd24-e15c-4ebc-a69d-3d3b5aa4eb9e",
   "metadata": {},
   "source": [
    "`-` 예제7: watch"
   ]
  },
  {
   "cell_type": "markdown",
   "id": "13fca638-8b2a-493a-afee-255f56c6b5b5",
   "metadata": {},
   "source": [
    "(관찰1) 미분하라는게 없으면 아무것도 출력안함 "
   ]
  },
  {
   "cell_type": "code",
   "execution_count": 191,
   "id": "10ebd2e7-195c-45b2-aad2-607e3c55d8dd",
   "metadata": {},
   "outputs": [],
   "source": [
    "x=tf.constant(2.0)\n",
    "with tf.GradientTape(persistent=True) as mytape:\n",
    "    a=x/2*3 # a=x*(3/2)\n",
    "    y=a*x**2 # y=ax^2=(3/2)x^3 "
   ]
  },
  {
   "cell_type": "code",
   "execution_count": 193,
   "id": "e0e901c1-260b-4e30-a168-fdf78e50db45",
   "metadata": {},
   "outputs": [
    {
     "name": "stdout",
     "output_type": "stream",
     "text": [
      "None\n"
     ]
    }
   ],
   "source": [
    "print(mytape.gradient(y,x))"
   ]
  },
  {
   "cell_type": "markdown",
   "id": "6b6a63ac-403a-449b-b14d-c5accecafc5f",
   "metadata": {},
   "source": [
    "(관찰2)"
   ]
  },
  {
   "cell_type": "code",
   "execution_count": 194,
   "id": "a35f6057-bcb4-4f20-bf2e-01b8b08bdee8",
   "metadata": {},
   "outputs": [],
   "source": [
    "x=tf.constant(2.0)\n",
    "with tf.GradientTape(persistent=True) as mytape:\n",
    "    mytape.watch(x)\n",
    "    a=x/2*3 # a=x*(3/2)\n",
    "    y=a*x**2 # y=ax^2=(3/2)x^3 "
   ]
  },
  {
   "cell_type": "code",
   "execution_count": 196,
   "id": "987d73bc-8227-4c63-a3e1-ee4ba55d54bf",
   "metadata": {},
   "outputs": [
    {
     "data": {
      "text/plain": [
       "<tf.Tensor: shape=(), dtype=float32, numpy=18.0>"
      ]
     },
     "execution_count": 196,
     "metadata": {},
     "output_type": "execute_result"
    }
   ],
   "source": [
    "mytape.gradient(y,x)"
   ]
  },
  {
   "cell_type": "markdown",
   "id": "9f986c92-cfb4-42ba-81f3-e01d89bb954f",
   "metadata": {},
   "source": [
    "`-` 예제8: 자동감시기능 off "
   ]
  },
  {
   "cell_type": "markdown",
   "id": "d3bbf8ab-cf98-4e0a-a733-fe870bda9139",
   "metadata": {},
   "source": [
    "(관찰1)"
   ]
  },
  {
   "cell_type": "code",
   "execution_count": 205,
   "id": "5a01c4b5-5de4-4c2c-9458-ba91f5d65e6c",
   "metadata": {},
   "outputs": [],
   "source": [
    "x=tf.Variable(2.0)\n",
    "with tf.GradientTape(watch_accessed_variables=False) as mytape:\n",
    "    #mytape.watch(x)\n",
    "    a=x/2*3 # a=x*(3/2)\n",
    "    y=a*x**2 # y=ax^2=(3/2)x^3 "
   ]
  },
  {
   "cell_type": "code",
   "execution_count": 206,
   "id": "8ab45e5f-e818-42bb-8f5f-d05e1b2d1a5c",
   "metadata": {},
   "outputs": [
    {
     "name": "stdout",
     "output_type": "stream",
     "text": [
      "None\n"
     ]
    }
   ],
   "source": [
    "print(mytape.gradient(y,x))"
   ]
  },
  {
   "cell_type": "markdown",
   "id": "3b557de7-358a-4f22-93dd-df775d4936a3",
   "metadata": {},
   "source": [
    "(관찰2)"
   ]
  },
  {
   "cell_type": "code",
   "execution_count": 207,
   "id": "a3897497-64d4-49fb-8690-7f0d798afe4c",
   "metadata": {},
   "outputs": [],
   "source": [
    "x=tf.Variable(2.0)\n",
    "with tf.GradientTape(watch_accessed_variables=False) as mytape:\n",
    "    mytape.watch(x)\n",
    "    a=x/2*3 # a=x*(3/2)\n",
    "    y=a*x**2 # y=ax^2=(3/2)x^3 "
   ]
  },
  {
   "cell_type": "code",
   "execution_count": 208,
   "id": "13311395-ef71-4ac5-a4b4-6def80fe8f08",
   "metadata": {},
   "outputs": [
    {
     "name": "stdout",
     "output_type": "stream",
     "text": [
      "tf.Tensor(18.0, shape=(), dtype=float32)\n"
     ]
    }
   ],
   "source": [
    "print(mytape.gradient(y,x))"
   ]
  },
  {
   "cell_type": "markdown",
   "id": "65b64a81-9f39-440a-a381-9875383b55de",
   "metadata": {},
   "source": [
    "(관찰3)"
   ]
  },
  {
   "cell_type": "code",
   "execution_count": 209,
   "id": "035f360d-e095-4675-980f-d1ccb8ed3345",
   "metadata": {},
   "outputs": [],
   "source": [
    "x=tf.Variable(2.0)\n",
    "with tf.GradientTape() as mytape:\n",
    "    mytape.watch(x)\n",
    "    a=x/2*3 # a=x*(3/2)\n",
    "    y=a*x**2 # y=ax^2=(3/2)x^3 "
   ]
  },
  {
   "cell_type": "code",
   "execution_count": 210,
   "id": "8ac0cbde-c880-44b8-b446-14d71988fcd1",
   "metadata": {},
   "outputs": [
    {
     "data": {
      "text/plain": [
       "<tf.Tensor: shape=(), dtype=float32, numpy=18.0>"
      ]
     },
     "execution_count": 210,
     "metadata": {},
     "output_type": "execute_result"
    }
   ],
   "source": [
    "mytape.gradient(y,x)"
   ]
  },
  {
   "cell_type": "markdown",
   "id": "624ab333-6669-40ab-acd0-8ef08db6ba7b",
   "metadata": {},
   "source": [
    "`-` 예제9: 커피예제로 돌아오자 (스칼라버전) "
   ]
  },
  {
   "cell_type": "code",
   "execution_count": 507,
   "id": "8be2a9bd-c4c8-452b-b719-c486e82b3ec7",
   "metadata": {},
   "outputs": [
    {
     "data": {
      "text/plain": [
       "<tf.Tensor: shape=(10,), dtype=float64, numpy=array([20.1, 22.2, 22.7, 23.3, 24.4, 25.1, 26.2, 27.3, 28.4, 30.4])>"
      ]
     },
     "execution_count": 507,
     "metadata": {},
     "output_type": "execute_result"
    }
   ],
   "source": [
    "x = tnp.array([20.1, 22.2, 22.7, 23.3, 24.4, 25.1, 26.2, 27.3, 28.4, 30.4])\n",
    "x"
   ]
  },
  {
   "cell_type": "code",
   "execution_count": 508,
   "id": "6f364e45-209d-49c4-8843-cd3c337a276c",
   "metadata": {},
   "outputs": [
    {
     "data": {
      "text/plain": [
       "<tf.Tensor: shape=(10,), dtype=float64, numpy=\n",
       "array([54.98269924, 60.27348365, 61.27621687, 60.53495888, 62.9770905 ,\n",
       "       66.32168996, 66.87781372, 71.0050025 , 72.63837337, 77.11143943])>"
      ]
     },
     "execution_count": 508,
     "metadata": {},
     "output_type": "execute_result"
    }
   ],
   "source": [
    "tnp.random.seed(43052)\n",
    "y= x*2.2 + 10.2 + tnp.random.randn(10)\n",
    "y"
   ]
  },
  {
   "cell_type": "markdown",
   "id": "f86c434b-bd63-4ca0-994d-b4d29d88db65",
   "metadata": {},
   "source": [
    "$\\beta_0 = 9$, $\\beta_1=2$에서의 미분계수를 구해보자. "
   ]
  },
  {
   "cell_type": "markdown",
   "id": "f443fdcc-9db8-4d38-b39c-37838ed80faa",
   "metadata": {},
   "source": [
    "(풀이) "
   ]
  },
  {
   "cell_type": "markdown",
   "id": "32e4359a-1d2b-483f-8ff5-8a3c8b90407d",
   "metadata": {},
   "source": [
    "`-` 예제10: 커피예제 매트릭스 버전 "
   ]
  },
  {
   "cell_type": "markdown",
   "id": "5e03279e-87b1-48dd-8b2a-c1e34ff61516",
   "metadata": {},
   "source": [
    "`-` 예제11: 위의 예제에서 이론적인 $\\boldsymbol{\\beta}$의 최적값을 찾아보고 (즉 $\\hat{\\boldsymbol{\\beta}}$을 찾고) 그곳에서 loss의 미분을 구하라. 구한결과가 $\\begin{bmatrix}0 \\\\ 0 \\end{bmatrix}$ 임을 확인하라. "
   ]
  }
 ],
 "metadata": {
  "kernelspec": {
   "display_name": "Python 3 (ipykernel)",
   "language": "python",
   "name": "python3"
  },
  "language_info": {
   "codemirror_mode": {
    "name": "ipython",
    "version": 3
   },
   "file_extension": ".py",
   "mimetype": "text/x-python",
   "name": "python",
   "nbconvert_exporter": "python",
   "pygments_lexer": "ipython3",
   "version": "3.10.0"
  }
 },
 "nbformat": 4,
 "nbformat_minor": 5
}
