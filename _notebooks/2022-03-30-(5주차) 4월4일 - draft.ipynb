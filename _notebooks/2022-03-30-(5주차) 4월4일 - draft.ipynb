{
 "cells": [
  {
   "cell_type": "markdown",
   "id": "e8809dfd-9f28-4be3-ba52-822d297d777a",
   "metadata": {},
   "source": [
    "# (5주차) 4월4일 -- draft\n",
    "\n",
    "- toc:true\n",
    "- branch: master\n",
    "- badges: true\n",
    "- comments: true\n",
    "- author: 최규빈"
   ]
  },
  {
   "cell_type": "markdown",
   "id": "ea093d98-e476-4de2-9ff5-7b98f7d621e2",
   "metadata": {
    "tags": []
   },
   "source": [
    "### imports "
   ]
  },
  {
   "cell_type": "code",
   "execution_count": 8,
   "id": "58c42ff0-998c-4745-9791-d2344d2bd583",
   "metadata": {},
   "outputs": [],
   "source": [
    "#!conda install -c conda-forge python-graphviz -y"
   ]
  },
  {
   "cell_type": "code",
   "execution_count": 1,
   "id": "4ec7ad60-84d4-4b61-88d0-5f83872be0be",
   "metadata": {},
   "outputs": [],
   "source": [
    "import tensorflow as tf \n",
    "import numpy as np\n",
    "import matplotlib.pyplot as plt "
   ]
  },
  {
   "cell_type": "code",
   "execution_count": 2,
   "id": "9691fb34-384f-4317-9437-998e8219cf8a",
   "metadata": {},
   "outputs": [],
   "source": [
    "import tensorflow.experimental.numpy as tnp "
   ]
  },
  {
   "cell_type": "code",
   "execution_count": 3,
   "id": "2b368af7-2aac-4028-97e2-a83e7196c7dd",
   "metadata": {},
   "outputs": [],
   "source": [
    "tnp.experimental_enable_numpy_behavior() "
   ]
  },
  {
   "cell_type": "markdown",
   "id": "3f4677a4-dba0-4274-96b5-a51a892026c9",
   "metadata": {
    "tags": []
   },
   "source": [
    "### 최적화의 문제 "
   ]
  },
  {
   "cell_type": "markdown",
   "id": "bc860b47-d266-4cbc-b7da-8a00d565f1d9",
   "metadata": {},
   "source": [
    "`-` $loss=(\\frac{1}{2}\\beta-1)^2$ "
   ]
  },
  {
   "cell_type": "markdown",
   "id": "320ac0cd-9a4d-4e31-a206-2d93581cacbb",
   "metadata": {},
   "source": [
    "`-` 기존에 했던 방법은 수식을 알고 있어야 한다는 단점이 있음 "
   ]
  },
  {
   "cell_type": "markdown",
   "id": "0acf255d-c030-4c91-b9e1-1cf62a09fb65",
   "metadata": {},
   "source": [
    "### tf.keras.optimizers를 이용한 최적화방법 "
   ]
  },
  {
   "cell_type": "markdown",
   "id": "1434f90f-3e99-4a2c-b526-768543c0348d",
   "metadata": {},
   "source": [
    "#### 방법1: opt.apply_gradients()를 이용 "
   ]
  },
  {
   "cell_type": "code",
   "execution_count": 4,
   "id": "4b90eb16-a685-4422-bb52-06a6a887321c",
   "metadata": {},
   "outputs": [],
   "source": [
    "alpha=0.01/6"
   ]
  },
  {
   "cell_type": "code",
   "execution_count": 5,
   "id": "fb244ebf-e532-41fc-8cfa-df0aa705ef0d",
   "metadata": {},
   "outputs": [],
   "source": [
    "opt = tf.keras.optimizers.SGD(learning_rate=alpha)"
   ]
  },
  {
   "cell_type": "code",
   "execution_count": 6,
   "id": "9061be6d-94d3-49f5-81d8-66e118d0795d",
   "metadata": {},
   "outputs": [
    {
     "name": "stderr",
     "output_type": "stream",
     "text": [
      "2022-04-04 09:23:41.660141: I tensorflow/stream_executor/cuda/cuda_gpu_executor.cc:939] successful NUMA node read from SysFS had negative value (-1), but there must be at least one NUMA node, so returning NUMA node zero\n"
     ]
    },
    {
     "data": {
      "text/plain": [
       "<tf.Variable 'learning_rate:0' shape=() dtype=float32, numpy=0.0016666667>"
      ]
     },
     "execution_count": 6,
     "metadata": {},
     "output_type": "execute_result"
    }
   ],
   "source": [
    "opt.lr"
   ]
  },
  {
   "cell_type": "markdown",
   "id": "269f108d-bb61-4d78-a089-5da78775fe2c",
   "metadata": {},
   "source": [
    "`-` opt에 전달할 입력값을 정리해보자 "
   ]
  },
  {
   "cell_type": "code",
   "execution_count": 7,
   "id": "683a659e-73dd-4e85-a197-1c8384784b14",
   "metadata": {},
   "outputs": [
    {
     "data": {
      "text/plain": [
       "<tf.Variable 'Variable:0' shape=() dtype=float32, numpy=-10.0>"
      ]
     },
     "execution_count": 7,
     "metadata": {},
     "output_type": "execute_result"
    }
   ],
   "source": [
    "beta= tf.Variable(-10.0) \n",
    "beta"
   ]
  },
  {
   "cell_type": "code",
   "execution_count": 8,
   "id": "a8da6d91-f373-44a7-923f-8b2356e5c846",
   "metadata": {},
   "outputs": [
    {
     "data": {
      "text/plain": [
       "<tf.Tensor: shape=(), dtype=float32, numpy=-6.0>"
      ]
     },
     "execution_count": 8,
     "metadata": {},
     "output_type": "execute_result"
    }
   ],
   "source": [
    "with tf.GradientTape(persistent=True) as tape:\n",
    "    loss = (beta/2-1)**2 \n",
    "tape.gradient(loss,beta)"
   ]
  },
  {
   "cell_type": "code",
   "execution_count": 9,
   "id": "36569468-0e6c-4bc3-804a-1761b87d8845",
   "metadata": {},
   "outputs": [],
   "source": [
    "slope= tape.gradient(loss,beta)"
   ]
  },
  {
   "cell_type": "markdown",
   "id": "9bc02541-74a2-4a72-971f-f22eadce16ee",
   "metadata": {},
   "source": [
    "`-` iter1: opt.apply_gradients() 에 값을 전달하여 beta를 1회 업데이트\n",
    "- 주의점: `opt.apply_gradients()`의 입력으로 pair의 list를 전달해야함. "
   ]
  },
  {
   "cell_type": "code",
   "execution_count": 10,
   "id": "9be910d8-c0a2-43f9-9487-9ab98b20cad4",
   "metadata": {},
   "outputs": [
    {
     "data": {
      "text/plain": [
       "<tf.Variable 'UnreadVariable' shape=() dtype=int64, numpy=1>"
      ]
     },
     "execution_count": 10,
     "metadata": {},
     "output_type": "execute_result"
    }
   ],
   "source": [
    "opt.apply_gradients([(slope,beta)])"
   ]
  },
  {
   "cell_type": "code",
   "execution_count": 11,
   "id": "b91fbd3f-7ae6-4bad-b6ea-3ed90ab86d59",
   "metadata": {},
   "outputs": [
    {
     "data": {
      "text/plain": [
       "<tf.Variable 'Variable:0' shape=() dtype=float32, numpy=-9.99>"
      ]
     },
     "execution_count": 11,
     "metadata": {},
     "output_type": "execute_result"
    }
   ],
   "source": [
    "beta"
   ]
  },
  {
   "cell_type": "markdown",
   "id": "485f4b15-c9ee-4651-9b0a-abbf1d60a57f",
   "metadata": {},
   "source": [
    "`-` iter2 "
   ]
  },
  {
   "cell_type": "code",
   "execution_count": 12,
   "id": "f2c5114b-c1f9-441b-8ac5-3f3e4a5c287b",
   "metadata": {},
   "outputs": [],
   "source": [
    "with tf.GradientTape(persistent=True) as tape:\n",
    "    loss = (beta/2-1)**2 \n",
    "slope= tape.gradient(loss,beta)"
   ]
  },
  {
   "cell_type": "code",
   "execution_count": 13,
   "id": "aebc1684-603a-44e0-aa8d-1442449dd63b",
   "metadata": {},
   "outputs": [
    {
     "data": {
      "text/plain": [
       "<tf.Variable 'Variable:0' shape=() dtype=float32, numpy=-9.980008>"
      ]
     },
     "execution_count": 13,
     "metadata": {},
     "output_type": "execute_result"
    }
   ],
   "source": [
    "opt.apply_gradients([(slope,beta)])\n",
    "beta"
   ]
  },
  {
   "cell_type": "markdown",
   "id": "c56da161-29d9-4f49-b222-590f2a20a612",
   "metadata": {},
   "source": [
    "`-` for문을 이용한 반복 (정리)"
   ]
  },
  {
   "cell_type": "code",
   "execution_count": 14,
   "id": "fd06ef4b-043d-4e2c-a5fb-8ebe1d7daa22",
   "metadata": {},
   "outputs": [],
   "source": [
    "alpha=0.01/6\n",
    "opt = tf.keras.optimizers.SGD(alpha)\n",
    "beta= tf.Variable(-10.0) \n",
    "for epoc in range(10000):\n",
    "    with tf.GradientTape(persistent=True) as tape:\n",
    "        loss = (beta/2-1)**2 \n",
    "    slope= tape.gradient(loss,beta)\n",
    "    opt.apply_gradients([(slope,beta)])"
   ]
  },
  {
   "cell_type": "code",
   "execution_count": 15,
   "id": "553fbc43-468b-452f-a9b1-ae20f1e8a3c5",
   "metadata": {},
   "outputs": [
    {
     "data": {
      "text/plain": [
       "<tf.Variable 'Variable:0' shape=() dtype=float32, numpy=1.9971251>"
      ]
     },
     "execution_count": 15,
     "metadata": {},
     "output_type": "execute_result"
    }
   ],
   "source": [
    "beta"
   ]
  },
  {
   "cell_type": "markdown",
   "id": "779dcb12-af26-47b3-a168-e3c87714106b",
   "metadata": {},
   "source": [
    "#### 방법2: opt.minimize()"
   ]
  },
  {
   "cell_type": "code",
   "execution_count": 16,
   "id": "b237f640-4433-4384-a56c-21ed6b3afe52",
   "metadata": {},
   "outputs": [],
   "source": [
    "alpha=0.01/6\n",
    "opt = tf.keras.optimizers.SGD(alpha)\n",
    "beta= tf.Variable(-10.0) "
   ]
  },
  {
   "cell_type": "code",
   "execution_count": 17,
   "id": "70d727ca-f09b-4536-8170-2a5aa0e054d7",
   "metadata": {},
   "outputs": [],
   "source": [
    "loss_fn = lambda: (beta/2-1)**2 "
   ]
  },
  {
   "cell_type": "markdown",
   "id": "403f6c41-b53b-4f61-9c1d-53c83f1e3d0d",
   "metadata": {},
   "source": [
    "`-` iter1"
   ]
  },
  {
   "cell_type": "code",
   "execution_count": 18,
   "id": "7a63adfa-cbfa-4c1b-b223-1cf5b419be9e",
   "metadata": {},
   "outputs": [
    {
     "data": {
      "text/plain": [
       "<tf.Variable 'UnreadVariable' shape=() dtype=int64, numpy=1>"
      ]
     },
     "execution_count": 18,
     "metadata": {},
     "output_type": "execute_result"
    }
   ],
   "source": [
    "opt.minimize(loss_fn,beta)"
   ]
  },
  {
   "cell_type": "code",
   "execution_count": 19,
   "id": "d037e3fa-c4e8-4347-b9a6-b2330b6425ca",
   "metadata": {},
   "outputs": [
    {
     "data": {
      "text/plain": [
       "<tf.Variable 'Variable:0' shape=() dtype=float32, numpy=-9.99>"
      ]
     },
     "execution_count": 19,
     "metadata": {},
     "output_type": "execute_result"
    }
   ],
   "source": [
    "beta"
   ]
  },
  {
   "cell_type": "markdown",
   "id": "1bca7105-a17f-4ef0-9006-0155e8941cbf",
   "metadata": {},
   "source": [
    "`-` iter2"
   ]
  },
  {
   "cell_type": "code",
   "execution_count": 20,
   "id": "13cfe40a-16d9-49da-8f5a-a94e9dcf7821",
   "metadata": {},
   "outputs": [
    {
     "data": {
      "text/plain": [
       "<tf.Variable 'Variable:0' shape=() dtype=float32, numpy=-9.980008>"
      ]
     },
     "execution_count": 20,
     "metadata": {},
     "output_type": "execute_result"
    }
   ],
   "source": [
    "opt.minimize(loss_fn,beta)\n",
    "beta"
   ]
  },
  {
   "cell_type": "markdown",
   "id": "089f58dd-f343-4788-bf72-3173a2ae36fc",
   "metadata": {},
   "source": [
    "`-` for문을 구하는 코드로 정리 "
   ]
  },
  {
   "cell_type": "code",
   "execution_count": 21,
   "id": "ab7e7398-85f1-432b-ba63-6649a1015de4",
   "metadata": {},
   "outputs": [],
   "source": [
    "alpha=0.01/6\n",
    "opt = tf.keras.optimizers.SGD(alpha)\n",
    "beta= tf.Variable(-10.0) \n",
    "loss_fn = lambda: (beta/2-1)**2 \n",
    "for epoc in range(10000):\n",
    "    opt.minimize(loss_fn,beta)"
   ]
  },
  {
   "cell_type": "code",
   "execution_count": 22,
   "id": "235d4f65-b139-4535-aa9d-e24a07ddd19d",
   "metadata": {},
   "outputs": [
    {
     "data": {
      "text/plain": [
       "<tf.Variable 'Variable:0' shape=() dtype=float32, numpy=1.9971251>"
      ]
     },
     "execution_count": 22,
     "metadata": {},
     "output_type": "execute_result"
    }
   ],
   "source": [
    "beta"
   ]
  },
  {
   "cell_type": "markdown",
   "id": "cd9c83a9-9a30-4d06-8704-4a4c42acb4f3",
   "metadata": {},
   "source": [
    "`-` `tf.keras.optimizers.SGD`와 `tf.optimizers.SGD`의 차이? 없음 "
   ]
  },
  {
   "cell_type": "markdown",
   "id": "2b018059-6854-4e74-affa-3c6939fdff0f",
   "metadata": {},
   "source": [
    "(증거1) "
   ]
  },
  {
   "cell_type": "code",
   "execution_count": 23,
   "id": "232e6298-6bee-4f45-ab6a-e85afc94bc6b",
   "metadata": {},
   "outputs": [],
   "source": [
    "_opt1=tf.keras.optimizers.SGD()"
   ]
  },
  {
   "cell_type": "code",
   "execution_count": 24,
   "id": "767c7edc-13f9-4c8b-8817-2f75ba82ce71",
   "metadata": {},
   "outputs": [],
   "source": [
    "_opt2=tf.optimizers.SGD()"
   ]
  },
  {
   "cell_type": "code",
   "execution_count": 25,
   "id": "3b5c07e0-5c28-43e1-92cc-29fc638ebd96",
   "metadata": {},
   "outputs": [
    {
     "data": {
      "text/plain": [
       "(keras.optimizer_v2.gradient_descent.SGD,\n",
       " keras.optimizer_v2.gradient_descent.SGD)"
      ]
     },
     "execution_count": 25,
     "metadata": {},
     "output_type": "execute_result"
    }
   ],
   "source": [
    "type(_opt1),type(_opt2)"
   ]
  },
  {
   "cell_type": "markdown",
   "id": "12491ba0-169b-4ec6-aaf2-7ba108aeb70a",
   "metadata": {},
   "source": [
    "똑같다..? "
   ]
  },
  {
   "cell_type": "markdown",
   "id": "9fd87c2d-27d1-46f8-a12f-a20957025bba",
   "metadata": {},
   "source": [
    "(증거2)"
   ]
  },
  {
   "cell_type": "code",
   "execution_count": 26,
   "id": "f2856801-e573-4bfd-a335-8612b9049b05",
   "metadata": {},
   "outputs": [],
   "source": [
    "alpha=0.01/6\n",
    "opt = tf.optimizers.SGD(alpha)\n",
    "beta= tf.Variable(-10.0) \n",
    "loss_fn = lambda: (beta/2-1)**2 \n",
    "for epoc in range(10000):\n",
    "    opt.minimize(loss_fn,beta)"
   ]
  },
  {
   "cell_type": "code",
   "execution_count": 27,
   "id": "359b3e98-fd99-41dd-9576-9761b015735b",
   "metadata": {},
   "outputs": [
    {
     "data": {
      "text/plain": [
       "<tf.Variable 'Variable:0' shape=() dtype=float32, numpy=1.9971251>"
      ]
     },
     "execution_count": 27,
     "metadata": {},
     "output_type": "execute_result"
    }
   ],
   "source": [
    "beta"
   ]
  },
  {
   "cell_type": "markdown",
   "id": "dbd78947-4cd6-4af3-9042-ab0fd209917a",
   "metadata": {},
   "source": [
    "(증거3) 모듈위치가 같다. "
   ]
  },
  {
   "cell_type": "code",
   "execution_count": 28,
   "id": "89d6cbe4-e486-4329-861c-af7c27aeb35d",
   "metadata": {},
   "outputs": [
    {
     "data": {
      "text/plain": [
       "\u001b[0;31mType:\u001b[0m        module\n",
       "\u001b[0;31mString form:\u001b[0m <module 'keras.api._v2.keras.optimizers' from '/home/cgb3/anaconda3/envs/py310/lib/python3.10/site-packages/keras/api/_v2/keras/optimizers/__init__.py'>\n",
       "\u001b[0;31mFile:\u001b[0m        ~/anaconda3/envs/py310/lib/python3.10/site-packages/keras/api/_v2/keras/optimizers/__init__.py\n",
       "\u001b[0;31mDocstring:\u001b[0m   Public API for tf.keras.optimizers namespace.\n"
      ]
     },
     "metadata": {},
     "output_type": "display_data"
    }
   ],
   "source": [
    "tf.optimizers?"
   ]
  },
  {
   "cell_type": "code",
   "execution_count": 29,
   "id": "c6010398-a2d9-440e-9970-6a3825e0ef20",
   "metadata": {},
   "outputs": [
    {
     "data": {
      "text/plain": [
       "\u001b[0;31mType:\u001b[0m        module\n",
       "\u001b[0;31mString form:\u001b[0m <module 'keras.api._v2.keras.optimizers' from '/home/cgb3/anaconda3/envs/py310/lib/python3.10/site-packages/keras/api/_v2/keras/optimizers/__init__.py'>\n",
       "\u001b[0;31mFile:\u001b[0m        ~/anaconda3/envs/py310/lib/python3.10/site-packages/keras/api/_v2/keras/optimizers/__init__.py\n",
       "\u001b[0;31mDocstring:\u001b[0m   Public API for tf.keras.optimizers namespace.\n"
      ]
     },
     "metadata": {},
     "output_type": "display_data"
    }
   ],
   "source": [
    "tf.keras.optimizers?"
   ]
  },
  {
   "cell_type": "markdown",
   "id": "c72c9a7d-e1d7-472b-84c4-e2135b74e7e9",
   "metadata": {
    "tags": []
   },
   "source": [
    "### 회귀분석 문제"
   ]
  },
  {
   "cell_type": "markdown",
   "id": "c4bd3fe9-092a-4c8a-a4d0-b9abcfb4de6d",
   "metadata": {},
   "source": [
    "`-` ${\\bf y} \\approx 4 + 2.5 {\\bf x}$"
   ]
  },
  {
   "cell_type": "code",
   "execution_count": 8,
   "id": "2c80d44c-7e99-4bb4-92ff-382b29999470",
   "metadata": {},
   "outputs": [],
   "source": [
    "tnp.random.seed(43052)\n",
    "N = 200\n",
    "x = tnp.linspace(0,1,N) \n",
    "epsilon = tnp.random.randn(N)*0.5\n",
    "y = 2.5+4*x + epsilon\n",
    "y_true = 2.5+4*x"
   ]
  },
  {
   "cell_type": "code",
   "execution_count": 9,
   "id": "af3a1e90-9370-4705-9be7-f321f7c2f856",
   "metadata": {},
   "outputs": [
    {
     "data": {
      "text/plain": [
       "[<matplotlib.lines.Line2D at 0x7eff782a2f50>]"
      ]
     },
     "execution_count": 9,
     "metadata": {},
     "output_type": "execute_result"
    },
    {
     "data": {
      "image/png": "[encoded data removed]",
      "text/plain": [
       "<Figure size 432x288 with 1 Axes>"
      ]
     },
     "metadata": {
      "needs_background": "light"
     },
     "output_type": "display_data"
    }
   ],
   "source": [
    "plt.plot(x,y,'.')\n",
    "plt.plot(x,y_true,'r--')"
   ]
  },
  {
   "cell_type": "markdown",
   "id": "8031b7f3-8460-4804-8806-3615e0ce7ce4",
   "metadata": {},
   "source": [
    "### 이론적 풀이"
   ]
  },
  {
   "cell_type": "markdown",
   "id": "726a27e8-8ccb-4432-a826-6848a682e4d6",
   "metadata": {},
   "source": [
    "#### 풀이1: 스칼라버전"
   ]
  },
  {
   "cell_type": "markdown",
   "id": "b5886ec9-ce8e-41b7-a6d2-7a4a1d4ddd96",
   "metadata": {},
   "source": [
    "`-` 포인트 \n",
    "- $S_{xx}=$, $S_{xy}=$\n",
    "- $\\hat{\\beta}_0=$, $\\hat{\\beta}_1=$"
   ]
  },
  {
   "cell_type": "code",
   "execution_count": 10,
   "id": "94d36741-4d01-4878-ae2c-c3ea53a2eb71",
   "metadata": {},
   "outputs": [
    {
     "data": {
      "text/plain": [
       "(TensorShape([200]), TensorShape([200]))"
      ]
     },
     "execution_count": 10,
     "metadata": {},
     "output_type": "execute_result"
    }
   ],
   "source": [
    "x.shape,y.shape"
   ]
  },
  {
   "cell_type": "code",
   "execution_count": 11,
   "id": "3c3aba33-90b3-488c-b670-126a7d6bbd06",
   "metadata": {},
   "outputs": [],
   "source": [
    "Sxx=sum((x-x.mean())**2)\n",
    "Sxy=sum((x-x.mean())*(y-y.mean()))"
   ]
  },
  {
   "cell_type": "code",
   "execution_count": 12,
   "id": "adacbb60-522d-490c-9152-fda73675bd8a",
   "metadata": {},
   "outputs": [],
   "source": [
    "beta1_hat = Sxy/Sxx\n",
    "beta0_hat = y.mean() - beta1_hat *x.mean()"
   ]
  },
  {
   "cell_type": "code",
   "execution_count": 13,
   "id": "39424356-6994-4e85-b7c9-8dcfcfc8fb68",
   "metadata": {},
   "outputs": [
    {
     "data": {
      "text/plain": [
       "(<tf.Tensor: shape=(), dtype=float64, numpy=2.583667211565867>,\n",
       " <tf.Tensor: shape=(), dtype=float64, numpy=3.933034516733168>)"
      ]
     },
     "execution_count": 13,
     "metadata": {},
     "output_type": "execute_result"
    }
   ],
   "source": [
    "beta0_hat, beta1_hat"
   ]
  },
  {
   "cell_type": "markdown",
   "id": "15c2e0df-79cf-47bc-88fc-01511aede78f",
   "metadata": {},
   "source": [
    "#### 풀이2: 벡터버전"
   ]
  },
  {
   "cell_type": "markdown",
   "id": "304d3975-a8d7-4dc2-85e3-bdd79bf644b2",
   "metadata": {},
   "source": [
    "`-` 포인트\n",
    "- $\\hat{\\beta}=(X'X)^{-1}X'y$"
   ]
  },
  {
   "cell_type": "code",
   "execution_count": 14,
   "id": "3383d00c-7bde-4a90-a61c-aaaeee021456",
   "metadata": {},
   "outputs": [],
   "source": [
    "X=tf.stack([tf.ones(N,dtype='float64'),x],axis=1)\n",
    "y=y.reshape(N,1) "
   ]
  },
  {
   "cell_type": "code",
   "execution_count": 15,
   "id": "522e07a4-c2a0-4410-80dc-b24458466f75",
   "metadata": {},
   "outputs": [
    {
     "data": {
      "text/plain": [
       "(TensorShape([200, 2]), TensorShape([200, 1]))"
      ]
     },
     "execution_count": 15,
     "metadata": {},
     "output_type": "execute_result"
    }
   ],
   "source": [
    "X.shape,y.shape"
   ]
  },
  {
   "cell_type": "code",
   "execution_count": 16,
   "id": "2bec2a86-efbc-4a48-ab4a-20fbd6077afd",
   "metadata": {},
   "outputs": [
    {
     "data": {
      "text/plain": [
       "<tf.Tensor: shape=(2, 1), dtype=float64, numpy=\n",
       "array([[2.58366721],\n",
       "       [3.93303452]])>"
      ]
     },
     "execution_count": 16,
     "metadata": {},
     "output_type": "execute_result"
    }
   ],
   "source": [
    "tf.linalg.inv(X.T @ X) @ X.T @ y"
   ]
  },
  {
   "cell_type": "markdown",
   "id": "0e3bc322-477e-4b86-b8f4-57c5b522f3ab",
   "metadata": {},
   "source": [
    "#### 풀이3: 벡터버전, 손실함수의 도함수이용 "
   ]
  },
  {
   "cell_type": "markdown",
   "id": "c1755913-52f4-472d-bacf-bd282759e69e",
   "metadata": {},
   "source": [
    "`-` 포인트\n",
    "- $loss'(\\beta)=-2X'y +2X'X\\beta$\n",
    "- $\\beta_{new} = \\beta_{old} - \\alpha \\times loss'(\\beta_{old})$"
   ]
  },
  {
   "cell_type": "code",
   "execution_count": 17,
   "id": "b7ee2c33-7f7c-4c62-a39d-a4ac86a40a66",
   "metadata": {},
   "outputs": [
    {
     "data": {
      "text/plain": [
       "(TensorShape([200, 2]), TensorShape([200, 1]))"
      ]
     },
     "execution_count": 17,
     "metadata": {},
     "output_type": "execute_result"
    }
   ],
   "source": [
    "y=y.reshape(N,1)\n",
    "X.shape,y.shape"
   ]
  },
  {
   "cell_type": "code",
   "execution_count": 18,
   "id": "7d605a85-faf0-4587-89b8-c2c4d0647524",
   "metadata": {},
   "outputs": [
    {
     "data": {
      "text/plain": [
       "<tf.Tensor: shape=(2, 1), dtype=int64, numpy=\n",
       "array([[-5],\n",
       "       [10]])>"
      ]
     },
     "execution_count": 18,
     "metadata": {},
     "output_type": "execute_result"
    }
   ],
   "source": [
    "beta_hat = tnp.array([-5,10]).reshape(2,1)\n",
    "beta_hat"
   ]
  },
  {
   "cell_type": "code",
   "execution_count": 19,
   "id": "e4b3cc51-ce7c-4c5c-bc2c-98602e16a64d",
   "metadata": {},
   "outputs": [],
   "source": [
    "alpha=0.1"
   ]
  },
  {
   "cell_type": "markdown",
   "id": "b60ab58c-a083-4837-b1d8-c6cbbd443f4b",
   "metadata": {},
   "source": [
    "$loss'(\\beta) = -2X'y+2X'X\\beta$"
   ]
  },
  {
   "cell_type": "code",
   "execution_count": 20,
   "id": "3b983e74-3f5c-4844-b6fa-c2b87ce68b1e",
   "metadata": {},
   "outputs": [
    {
     "data": {
      "text/plain": [
       "<tf.Tensor: shape=(2, 1), dtype=float64, numpy=\n",
       "array([[-1820.07378797],\n",
       "       [ -705.77222696]])>"
      ]
     },
     "execution_count": 20,
     "metadata": {},
     "output_type": "execute_result"
    }
   ],
   "source": [
    "slope = -2*X.T @ y + 2*X.T@ X @ beta_hat \n",
    "slope"
   ]
  },
  {
   "cell_type": "code",
   "execution_count": 21,
   "id": "3bf4a5ad-bbdc-4f55-8e18-dd83d695e136",
   "metadata": {},
   "outputs": [
    {
     "data": {
      "text/plain": [
       "<tf.Tensor: shape=(2, 1), dtype=float64, numpy=\n",
       "array([[182.0073788],\n",
       "       [ 70.5772227]])>"
      ]
     },
     "execution_count": 21,
     "metadata": {},
     "output_type": "execute_result"
    }
   ],
   "source": [
    "step = - alpha*slope\n",
    "step "
   ]
  },
  {
   "cell_type": "code",
   "execution_count": 22,
   "id": "b63a1541-b924-4889-a4a8-2b2f292f59a9",
   "metadata": {},
   "outputs": [],
   "source": [
    "for epoc in range(1000):\n",
    "    slope = (-2*X.T @ y + 2*X.T@ X @ beta_hat)/N\n",
    "    step = - alpha * slope\n",
    "    beta_hat = beta_hat + step "
   ]
  },
  {
   "cell_type": "code",
   "execution_count": 23,
   "id": "1f183f3d-a06b-4997-a22a-46486a763785",
   "metadata": {},
   "outputs": [
    {
     "data": {
      "text/plain": [
       "<tf.Tensor: shape=(2, 1), dtype=float64, numpy=\n",
       "array([[2.58366061],\n",
       "       [3.93304684]])>"
      ]
     },
     "execution_count": 23,
     "metadata": {},
     "output_type": "execute_result"
    }
   ],
   "source": [
    "beta_hat"
   ]
  },
  {
   "cell_type": "code",
   "execution_count": 24,
   "id": "dc55ab92-412f-46b9-9c3e-28bfc85f3b9c",
   "metadata": {},
   "outputs": [
    {
     "data": {
      "text/plain": [
       "[<matplotlib.lines.Line2D at 0x7eff78116950>]"
      ]
     },
     "execution_count": 24,
     "metadata": {},
     "output_type": "execute_result"
    },
    {
     "data": {
      "image/png": "[encoded data removed]",
      "text/plain": [
       "<Figure size 432x288 with 1 Axes>"
      ]
     },
     "metadata": {
      "needs_background": "light"
     },
     "output_type": "display_data"
    }
   ],
   "source": [
    "plt.plot(x,y,'.') \n",
    "plt.plot(x,y_true,'r--')\n",
    "plt.plot(x,X@beta_hat,'b--')"
   ]
  },
  {
   "cell_type": "markdown",
   "id": "87d140c7-15f6-4cea-ae98-a2ec6bc82a41",
   "metadata": {},
   "source": [
    "---"
   ]
  },
  {
   "cell_type": "markdown",
   "id": "8f5231a2-1872-497e-baf4-f463f0574757",
   "metadata": {},
   "source": [
    "### GradientTape를 이용 "
   ]
  },
  {
   "cell_type": "markdown",
   "id": "6a6f1c18-aff6-41fc-b346-aa184f5cddb4",
   "metadata": {},
   "source": [
    "#### 풀이1: 벡터버전"
   ]
  },
  {
   "cell_type": "markdown",
   "id": "55ba7a20-43ec-40b3-90f6-5df6036bda89",
   "metadata": {},
   "source": [
    "`-` 포인트\n",
    "```python\n",
    "## 포인트코드1: 그레디언트 테입  \n",
    "with tf.GradientTape() as tape: \n",
    "    loss = \n",
    "## 포인트코드2: 미분 \n",
    "slope = tape.gradient(loss,beta_hat) \n",
    "## 포인트코드3: update \n",
    "beta_hat.assign_sub(slope*alph) \n",
    "```"
   ]
  },
  {
   "cell_type": "code",
   "execution_count": 26,
   "id": "7da48af9-0df9-4d7b-a2f1-980daac8fd31",
   "metadata": {},
   "outputs": [
    {
     "data": {
      "text/plain": [
       "(TensorShape([200, 2]), TensorShape([200, 1]))"
      ]
     },
     "execution_count": 26,
     "metadata": {},
     "output_type": "execute_result"
    }
   ],
   "source": [
    "y=y.reshape(N,1) # N=200 \n",
    "X.shape,y.shape"
   ]
  },
  {
   "cell_type": "code",
   "execution_count": 30,
   "id": "c489b112-6172-474e-923d-32a4ae398dca",
   "metadata": {},
   "outputs": [
    {
     "data": {
      "text/plain": [
       "<tf.Variable 'Variable:0' shape=(2, 1) dtype=float64, numpy=\n",
       "array([[-5.],\n",
       "       [10.]])>"
      ]
     },
     "execution_count": 30,
     "metadata": {},
     "output_type": "execute_result"
    }
   ],
   "source": [
    "beta_hat = tf.Variable(tnp.array([-5.0,10.0]).reshape(2,1))\n",
    "beta_hat"
   ]
  },
  {
   "cell_type": "code",
   "execution_count": 31,
   "id": "f3e24fd5-84c5-4cf4-846a-01ff449ab9d7",
   "metadata": {},
   "outputs": [],
   "source": [
    "alpha=0.1"
   ]
  },
  {
   "cell_type": "code",
   "execution_count": 34,
   "id": "8e5e9ca1-7081-4605-bef5-2922823053b3",
   "metadata": {},
   "outputs": [],
   "source": [
    "for epoc in range(1000):   \n",
    "    with tf.GradientTape() as tape: \n",
    "        tape.watch(beta_hat)\n",
    "        yhat = X@beta_hat\n",
    "        loss = (y-yhat).T @ (y-yhat) / N \n",
    "    slope = tape.gradient(loss,beta_hat) \n",
    "    beta_hat.assign_sub(slope * alpha) "
   ]
  },
  {
   "cell_type": "code",
   "execution_count": 35,
   "id": "8987aee6-6b9a-43e1-b5ef-65e41e73f86c",
   "metadata": {},
   "outputs": [
    {
     "data": {
      "text/plain": [
       "<tf.Variable 'Variable:0' shape=(2, 1) dtype=float64, numpy=\n",
       "array([[2.58366061],\n",
       "       [3.93304684]])>"
      ]
     },
     "execution_count": 35,
     "metadata": {},
     "output_type": "execute_result"
    }
   ],
   "source": [
    "beta_hat"
   ]
  },
  {
   "cell_type": "markdown",
   "id": "45b5df07-64fd-4257-a8e5-1c55ffdc2172",
   "metadata": {},
   "source": [
    "#### 풀이2: 스칼라버전"
   ]
  },
  {
   "cell_type": "markdown",
   "id": "121291bf-c8b8-4a77-9c72-3b0f5540ef17",
   "metadata": {},
   "source": [
    "`-` 포인트\n",
    "```python\n",
    "## 포인트코드: 미분\n",
    "slope0,slope1 = tape.gradient(loss,[beta0_hat,beta1_hat])\n",
    "```"
   ]
  },
  {
   "cell_type": "code",
   "execution_count": 36,
   "id": "7a1789a2-f703-47f1-a0e8-653b73efa76a",
   "metadata": {},
   "outputs": [
    {
     "data": {
      "text/plain": [
       "(TensorShape([200]), TensorShape([200]))"
      ]
     },
     "execution_count": 36,
     "metadata": {},
     "output_type": "execute_result"
    }
   ],
   "source": [
    "y=y.reshape(-1) # N=200 \n",
    "x.shape,y.shape"
   ]
  },
  {
   "cell_type": "code",
   "execution_count": 37,
   "id": "d4602a2b-fe45-4384-ad78-df4ba9f13dcb",
   "metadata": {},
   "outputs": [],
   "source": [
    "beta0_hat = tf.Variable(-5.0)\n",
    "beta1_hat = tf.Variable(10.0)"
   ]
  },
  {
   "cell_type": "code",
   "execution_count": 38,
   "id": "d7c00a4c-6444-491c-8796-67e19f776cd5",
   "metadata": {},
   "outputs": [],
   "source": [
    "alpha=0.1 "
   ]
  },
  {
   "cell_type": "code",
   "execution_count": 41,
   "id": "91ab8e55-c02b-4ecf-a7cb-6e48a852d45e",
   "metadata": {},
   "outputs": [],
   "source": [
    "for epoc in range(1000):   \n",
    "    with tf.GradientTape() as tape: \n",
    "        yhat = beta0_hat + beta1_hat*x \n",
    "        loss = tf.reduce_sum((y-yhat)**2) / N  #loss = sum((y-yhat)**2) / N \n",
    "    slope0,slope1 = tape.gradient(loss,[beta0_hat,beta1_hat]) \n",
    "    beta0_hat.assign_sub(slope0 * alpha) \n",
    "    beta1_hat.assign_sub(slope1 * alpha) "
   ]
  },
  {
   "cell_type": "code",
   "execution_count": 42,
   "id": "47cbb7f9-a1e0-4eda-9152-16afd10dced4",
   "metadata": {},
   "outputs": [
    {
     "data": {
      "text/plain": [
       "(<tf.Variable 'Variable:0' shape=() dtype=float32, numpy=2.5836616>,\n",
       " <tf.Variable 'Variable:0' shape=() dtype=float32, numpy=3.9330447>)"
      ]
     },
     "execution_count": 42,
     "metadata": {},
     "output_type": "execute_result"
    }
   ],
   "source": [
    "beta0_hat, beta1_hat "
   ]
  },
  {
   "cell_type": "markdown",
   "id": "febc6310-7669-4cfe-ba5f-70ae1853f605",
   "metadata": {},
   "source": [
    "### GradientTape + opt.apply_gradients"
   ]
  },
  {
   "cell_type": "markdown",
   "id": "5089a331-82aa-48cc-9f6f-5ea1a93bbd2f",
   "metadata": {
    "tags": []
   },
   "source": [
    "#### 풀이1: 벡터버전 "
   ]
  },
  {
   "cell_type": "markdown",
   "id": "ad963999-5fe2-429f-914a-b70bd3ad9235",
   "metadata": {},
   "source": [
    "`-` 포인트 \n",
    "```python\n",
    "## 포인트코드: 업데이트\n",
    "opt.apply_gradients([(slope,beta_hat)])  ## pair의 list가 입력 \n",
    "```"
   ]
  },
  {
   "cell_type": "code",
   "execution_count": 156,
   "id": "4a3a9fd7-f2aa-4fa6-91eb-1a3f675eb440",
   "metadata": {},
   "outputs": [
    {
     "data": {
      "text/plain": [
       "(TensorShape([200, 2]), TensorShape([200, 1]))"
      ]
     },
     "execution_count": 156,
     "metadata": {},
     "output_type": "execute_result"
    }
   ],
   "source": [
    "y=y.reshape(N,1)\n",
    "X.shape,y.shape"
   ]
  },
  {
   "cell_type": "code",
   "execution_count": 157,
   "id": "0e77e852-0ec1-4614-8175-a1a87d57f1c3",
   "metadata": {},
   "outputs": [
    {
     "data": {
      "text/plain": [
       "<tf.Variable 'Variable:0' shape=(2, 1) dtype=float64, numpy=\n",
       "array([[-5.],\n",
       "       [10.]])>"
      ]
     },
     "execution_count": 157,
     "metadata": {},
     "output_type": "execute_result"
    }
   ],
   "source": [
    "beta_hat = tf.Variable(tnp.array([-5.0,10.0]).reshape(2,1))\n",
    "beta_hat"
   ]
  },
  {
   "cell_type": "code",
   "execution_count": 158,
   "id": "bbc29cf2-7722-4554-b60c-d0db31f4cad5",
   "metadata": {},
   "outputs": [],
   "source": [
    "alpha=0.1"
   ]
  },
  {
   "cell_type": "code",
   "execution_count": 159,
   "id": "26afacef-aa73-409f-9bdf-d5cd1ed16d47",
   "metadata": {},
   "outputs": [],
   "source": [
    "opt = tf.optimizers.SGD(alpha) "
   ]
  },
  {
   "cell_type": "code",
   "execution_count": 140,
   "id": "6009eb05-7a29-403c-ae0e-8fa020c2289d",
   "metadata": {},
   "outputs": [],
   "source": [
    "for epoc in range(1000): \n",
    "    with tf.GradientTape() as tape: \n",
    "        yhat = X@beta_hat\n",
    "        loss = (y-yhat).T @ (y-yhat) / N \n",
    "    slope = tape.gradient(loss,beta_hat)  \n",
    "    opt.apply_gradients( [(slope,beta_hat),(slope,beta_hat)] )"
   ]
  },
  {
   "cell_type": "code",
   "execution_count": 160,
   "id": "6da31d2c-3384-4dfa-a79d-d7dcdb7204d5",
   "metadata": {},
   "outputs": [
    {
     "data": {
      "text/plain": [
       "<tf.Tensor: shape=(1, 1), dtype=float64, numpy=array([[0.25493942]])>"
      ]
     },
     "execution_count": 160,
     "metadata": {},
     "output_type": "execute_result"
    }
   ],
   "source": [
    "(y-yhat).T @ (y-yhat) / N "
   ]
  },
  {
   "cell_type": "code",
   "execution_count": 141,
   "id": "4b2a0c2b-3aa4-48d6-90db-21227458000a",
   "metadata": {},
   "outputs": [
    {
     "data": {
      "text/plain": [
       "<tf.Variable 'Variable:0' shape=(2, 1) dtype=float64, numpy=\n",
       "array([[2.58366721],\n",
       "       [3.93303452]])>"
      ]
     },
     "execution_count": 141,
     "metadata": {},
     "output_type": "execute_result"
    }
   ],
   "source": [
    "beta_hat"
   ]
  },
  {
   "cell_type": "markdown",
   "id": "544bb15a-9809-4bfb-abda-c7e84e20f8e4",
   "metadata": {
    "tags": []
   },
   "source": [
    "#### 풀이2: 스칼라버전 "
   ]
  },
  {
   "cell_type": "markdown",
   "id": "9e93cdf6-3ba5-4102-b325-33c98fa8010c",
   "metadata": {},
   "source": [
    "`-` 포인트\n",
    "```python\n",
    "## 포인트코드: 업데이트 \n",
    "opt.apply_gradients([(slope0,beta0_hat),(slope1,beta1_hat)]) ## pair의 list가 입력 \n",
    "```"
   ]
  },
  {
   "cell_type": "code",
   "execution_count": 107,
   "id": "a7a80a15-6195-43fa-be0e-a9dd3e558878",
   "metadata": {},
   "outputs": [
    {
     "data": {
      "text/plain": [
       "(TensorShape([200]), TensorShape([200]))"
      ]
     },
     "execution_count": 107,
     "metadata": {},
     "output_type": "execute_result"
    }
   ],
   "source": [
    "y=y.reshape(-1)\n",
    "x.shape,y.shape"
   ]
  },
  {
   "cell_type": "code",
   "execution_count": 108,
   "id": "546b3dc2-243c-496e-91ff-9393ace2b82c",
   "metadata": {},
   "outputs": [],
   "source": [
    "beta0_hat = tf.Variable(-5.0)\n",
    "beta1_hat = tf.Variable(10.0) "
   ]
  },
  {
   "cell_type": "code",
   "execution_count": 109,
   "id": "78c129bf-d7d9-4f6b-ac6a-4328b4778820",
   "metadata": {},
   "outputs": [],
   "source": [
    "alpha=0.1"
   ]
  },
  {
   "cell_type": "code",
   "execution_count": 110,
   "id": "59656bac-c560-4577-bf65-757559010e1b",
   "metadata": {},
   "outputs": [],
   "source": [
    "opt = tf.optimizers.SGD(alpha) "
   ]
  },
  {
   "cell_type": "code",
   "execution_count": 111,
   "id": "3fad65ed-8765-4c6d-91c6-1c777f2e1c5d",
   "metadata": {},
   "outputs": [],
   "source": [
    "for epoc in range(1000): \n",
    "    with tf.GradientTape() as tape: \n",
    "        yhat = beta0_hat + beta1_hat*x \n",
    "        loss = tf.reduce_sum((y-yhat)**2) / N \n",
    "    slope0,slope1 = tape.gradient(loss,[beta0_hat,beta1_hat])  \n",
    "    opt.apply_gradients( [(slope0,beta0_hat),(slope1,beta1_hat)] )"
   ]
  },
  {
   "cell_type": "code",
   "execution_count": 112,
   "id": "9f55c147-73a9-45b8-bdf8-3ead3fc0a0d3",
   "metadata": {},
   "outputs": [
    {
     "data": {
      "text/plain": [
       "(<tf.Variable 'Variable:0' shape=() dtype=float32, numpy=2.58366>,\n",
       " <tf.Variable 'Variable:0' shape=() dtype=float32, numpy=3.933048>)"
      ]
     },
     "execution_count": 112,
     "metadata": {},
     "output_type": "execute_result"
    }
   ],
   "source": [
    "beta0_hat,beta1_hat"
   ]
  },
  {
   "cell_type": "markdown",
   "id": "fbefd5c2-a97b-4cf6-9057-b6e64427cb1b",
   "metadata": {},
   "source": [
    "---"
   ]
  },
  {
   "cell_type": "markdown",
   "id": "08c010ea-0672-47da-a2ce-e731ccf6d6e0",
   "metadata": {},
   "source": [
    "### opt.minimize"
   ]
  },
  {
   "cell_type": "markdown",
   "id": "2d0207e6-a475-42bc-a1cc-36c7dd86e66d",
   "metadata": {
    "tags": []
   },
   "source": [
    "#### 풀이1: 벡터버전, 사용자정의 손실함수 with lambda"
   ]
  },
  {
   "cell_type": "markdown",
   "id": "13f2be82-e50e-4798-9207-1d22daa26723",
   "metadata": {},
   "source": [
    "`-` 포인트\n",
    "```python\n",
    "## 포인트코드1: 손실함수 정의 \n",
    "loss_fn = lambda: ??\n",
    "\n",
    "## 포인트코드2: 옵티마이저 생성 \n",
    "opt = tf.optimizers.SGD(alpha)\n",
    "\n",
    "## 포인트코드3: 미분 & 업데이트 = minimize \n",
    "opt.minimize(loss_fn,beta_hat)\n",
    "```"
   ]
  },
  {
   "cell_type": "code",
   "execution_count": 161,
   "id": "5e5e43d2-c87d-4be8-b010-ff7a200dfabf",
   "metadata": {},
   "outputs": [
    {
     "data": {
      "text/plain": [
       "(TensorShape([200, 2]), TensorShape([200, 1]))"
      ]
     },
     "execution_count": 161,
     "metadata": {},
     "output_type": "execute_result"
    }
   ],
   "source": [
    "y=y.reshape(N,1)\n",
    "X.shape,y.shape"
   ]
  },
  {
   "cell_type": "code",
   "execution_count": 162,
   "id": "d147c398-8b8c-4a0c-9d57-3fa7c18aa006",
   "metadata": {},
   "outputs": [
    {
     "data": {
      "text/plain": [
       "<tf.Variable 'Variable:0' shape=(2, 1) dtype=float64, numpy=\n",
       "array([[-5.],\n",
       "       [10.]])>"
      ]
     },
     "execution_count": 162,
     "metadata": {},
     "output_type": "execute_result"
    }
   ],
   "source": [
    "beta_hat = tf.Variable(tnp.array([-5.0,10.0]).reshape(2,1))\n",
    "beta_hat"
   ]
  },
  {
   "cell_type": "code",
   "execution_count": 163,
   "id": "c09df296-99e9-4d84-8d55-b3ae6f53d683",
   "metadata": {},
   "outputs": [],
   "source": [
    "alpha=0.1"
   ]
  },
  {
   "cell_type": "code",
   "execution_count": 164,
   "id": "625b830a-225a-4695-8bb7-a8bf68ce98a0",
   "metadata": {},
   "outputs": [],
   "source": [
    "opt = tf.optimizers.SGD(alpha) "
   ]
  },
  {
   "cell_type": "code",
   "execution_count": 165,
   "id": "b86456bb-5b5c-45ec-8c55-3b17fe201adc",
   "metadata": {},
   "outputs": [],
   "source": [
    "loss_fn = lambda: (y-X@beta_hat).T @ (y-X@beta_hat)/N"
   ]
  },
  {
   "cell_type": "markdown",
   "id": "565063c4-635e-429e-8446-24e137adc8ce",
   "metadata": {},
   "source": [
    "- `lambda x: x**2` <=> `lambda(x) = x^2`\n",
    "- `lambda x,y : x+y` <=> `lambda(x,y)=x+y`\n",
    "- `lambda: y` <=> `lambda() = y ` "
   ]
  },
  {
   "cell_type": "code",
   "execution_count": 166,
   "id": "3f64d49e-fb88-4c24-b89b-b6c5bb55400b",
   "metadata": {},
   "outputs": [
    {
     "data": {
      "text/plain": [
       "<tf.Tensor: shape=(1, 1), dtype=float64, numpy=array([[4811.45696758]])>"
      ]
     },
     "execution_count": 166,
     "metadata": {},
     "output_type": "execute_result"
    }
   ],
   "source": [
    "(y-X@beta_hat).T @ (y-X@beta_hat)"
   ]
  },
  {
   "cell_type": "code",
   "execution_count": 167,
   "id": "3df86d7f-96dd-4ea0-9207-d2943c8b5c9d",
   "metadata": {},
   "outputs": [
    {
     "data": {
      "text/plain": [
       "<tf.Tensor: shape=(1, 1), dtype=float64, numpy=array([[24.05728484]])>"
      ]
     },
     "execution_count": 167,
     "metadata": {},
     "output_type": "execute_result"
    }
   ],
   "source": [
    "loss_fn()"
   ]
  },
  {
   "cell_type": "code",
   "execution_count": 168,
   "id": "cd3534db-b65b-4f0d-b57a-c5877e2dd687",
   "metadata": {},
   "outputs": [],
   "source": [
    "for epoc in range(1000):\n",
    "    opt.minimize(loss_fn,beta_hat) # 미분 + update "
   ]
  },
  {
   "cell_type": "code",
   "execution_count": 169,
   "id": "c3bc1d0a-5653-4481-9ac3-ad1caf623dc2",
   "metadata": {},
   "outputs": [
    {
     "data": {
      "text/plain": [
       "<tf.Variable 'Variable:0' shape=(2, 1) dtype=float64, numpy=\n",
       "array([[2.58366061],\n",
       "       [3.93304684]])>"
      ]
     },
     "execution_count": 169,
     "metadata": {},
     "output_type": "execute_result"
    }
   ],
   "source": [
    "beta_hat"
   ]
  },
  {
   "cell_type": "markdown",
   "id": "f9f7739e-27b2-40e6-a60f-de806e7216f4",
   "metadata": {},
   "source": [
    "#### 풀이2: 스칼라버전, 사용자정의 손실함수 with lambda"
   ]
  },
  {
   "cell_type": "markdown",
   "id": "cbd0e298-b04a-47dc-974c-4b72cebdfe55",
   "metadata": {},
   "source": [
    "`-` 포인트\n",
    "```python\n",
    "## 포인트코드: 미분 & 업데이트 = minimize \n",
    "opt.minimize(loss_fn,[beta0_hat,beta1_hat])\n",
    "```"
   ]
  },
  {
   "cell_type": "code",
   "execution_count": 176,
   "id": "7a741f14-6b22-4938-9a52-6941974e0a7e",
   "metadata": {},
   "outputs": [
    {
     "data": {
      "text/plain": [
       "(TensorShape([200]), TensorShape([200]))"
      ]
     },
     "execution_count": 176,
     "metadata": {},
     "output_type": "execute_result"
    }
   ],
   "source": [
    "y=y.reshape(-1)\n",
    "x.shape,y.shape"
   ]
  },
  {
   "cell_type": "code",
   "execution_count": 177,
   "id": "dd73b14f-8d70-4868-aae0-eabd672bebb0",
   "metadata": {},
   "outputs": [],
   "source": [
    "beta0_hat = tf.Variable(-5.0)\n",
    "beta1_hat = tf.Variable(10.0) "
   ]
  },
  {
   "cell_type": "code",
   "execution_count": 178,
   "id": "51f8c16c-51ac-4e1d-a033-014dbe24fcfa",
   "metadata": {},
   "outputs": [],
   "source": [
    "alpha=0.1"
   ]
  },
  {
   "cell_type": "code",
   "execution_count": 179,
   "id": "e1711f94-62be-414f-a5ff-e27c7edb0336",
   "metadata": {},
   "outputs": [],
   "source": [
    "opt = tf.optimizers.SGD(alpha) "
   ]
  },
  {
   "cell_type": "code",
   "execution_count": 180,
   "id": "1a8347dd-0609-403f-a437-630254347b80",
   "metadata": {},
   "outputs": [],
   "source": [
    "loss_fn = lambda: tf.reduce_sum((y-beta0_hat - beta1_hat*x)**2)/N"
   ]
  },
  {
   "cell_type": "code",
   "execution_count": 181,
   "id": "d896e242-9e35-4c5a-9b8a-d056830b4083",
   "metadata": {},
   "outputs": [],
   "source": [
    "for epoc in range(1000):\n",
    "    opt.minimize(loss_fn,[beta0_hat,beta1_hat]) # 미분 + update "
   ]
  },
  {
   "cell_type": "code",
   "execution_count": 182,
   "id": "03769ba1-a1f2-4edf-a535-2236ad3387d3",
   "metadata": {},
   "outputs": [
    {
     "data": {
      "text/plain": [
       "(<tf.Variable 'Variable:0' shape=() dtype=float32, numpy=2.58366>,\n",
       " <tf.Variable 'Variable:0' shape=() dtype=float32, numpy=3.933048>)"
      ]
     },
     "execution_count": 182,
     "metadata": {},
     "output_type": "execute_result"
    }
   ],
   "source": [
    "beta0_hat, beta1_hat"
   ]
  },
  {
   "cell_type": "markdown",
   "id": "a1f09a4f-bdb9-440b-9d9e-623cd220baff",
   "metadata": {},
   "source": [
    "#### 풀이3: 벡터버전, 사용자정의 (짧은) 손실함수 "
   ]
  },
  {
   "cell_type": "markdown",
   "id": "f5031126-91a9-4d1f-a932-e0b67559776a",
   "metadata": {},
   "source": [
    "`-` 포인트\n",
    "```python\n",
    "## 포인트코드: 손실함수정의 \n",
    "def loss_fn():\n",
    "    return ??\n",
    "```"
   ]
  },
  {
   "cell_type": "code",
   "execution_count": 183,
   "id": "8938383f-4d22-4dae-9bef-ef9980dd7382",
   "metadata": {},
   "outputs": [
    {
     "data": {
      "text/plain": [
       "(TensorShape([200, 2]), TensorShape([200, 1]))"
      ]
     },
     "execution_count": 183,
     "metadata": {},
     "output_type": "execute_result"
    }
   ],
   "source": [
    "y=y.reshape(N,1)\n",
    "X.shape,y.shape"
   ]
  },
  {
   "cell_type": "code",
   "execution_count": 184,
   "id": "f687887a-dbc3-4ac7-914f-a2ccacdbdbc1",
   "metadata": {},
   "outputs": [
    {
     "data": {
      "text/plain": [
       "<tf.Variable 'Variable:0' shape=(2, 1) dtype=float64, numpy=\n",
       "array([[-5.],\n",
       "       [10.]])>"
      ]
     },
     "execution_count": 184,
     "metadata": {},
     "output_type": "execute_result"
    }
   ],
   "source": [
    "beta_hat = tf.Variable(tnp.array([-5.0,10.0]).reshape(2,1))\n",
    "beta_hat"
   ]
  },
  {
   "cell_type": "code",
   "execution_count": 185,
   "id": "73b9cf34-b946-437e-9f23-207235cf7876",
   "metadata": {},
   "outputs": [],
   "source": [
    "alpha=0.1"
   ]
  },
  {
   "cell_type": "code",
   "execution_count": 186,
   "id": "79790250-a0b7-4002-8115-2d848780022d",
   "metadata": {},
   "outputs": [],
   "source": [
    "opt = tf.optimizers.SGD(alpha) "
   ]
  },
  {
   "cell_type": "code",
   "execution_count": 188,
   "id": "8dd0af03-6340-4601-8556-bbfbcc7c46e9",
   "metadata": {},
   "outputs": [],
   "source": [
    "def loss_fn():\n",
    "    return (y-X@beta_hat).T @ (y-X@beta_hat)/N"
   ]
  },
  {
   "cell_type": "code",
   "execution_count": 189,
   "id": "f3d2294e-edc3-4afc-a173-e5df53dc5a88",
   "metadata": {},
   "outputs": [],
   "source": [
    "for epoc in range(1000):\n",
    "    opt.minimize(loss_fn,beta_hat) # 미분 + update "
   ]
  },
  {
   "cell_type": "code",
   "execution_count": 190,
   "id": "3399f3e6-5cd3-449c-b14e-9525e04d2e48",
   "metadata": {},
   "outputs": [
    {
     "data": {
      "text/plain": [
       "<tf.Variable 'Variable:0' shape=(2, 1) dtype=float64, numpy=\n",
       "array([[2.58366061],\n",
       "       [3.93304684]])>"
      ]
     },
     "execution_count": 190,
     "metadata": {},
     "output_type": "execute_result"
    }
   ],
   "source": [
    "beta_hat"
   ]
  },
  {
   "cell_type": "markdown",
   "id": "28e46453-92c4-4858-8feb-19597cf34e73",
   "metadata": {},
   "source": [
    "#### 풀이4: 벡터버전, 사용자정의 (긴) 손실함수 "
   ]
  },
  {
   "cell_type": "markdown",
   "id": "74a717fc-0e55-416c-aaa0-3d6dc5a60371",
   "metadata": {},
   "source": [
    "`-` 포인트\n",
    "```python\n",
    "## 포인트코드: 손실함수정의 \n",
    "def loss_fn():\n",
    "    ??\n",
    "    ??\n",
    "    return ??\n",
    "```"
   ]
  },
  {
   "cell_type": "code",
   "execution_count": 191,
   "id": "587c971e-3ff6-43ef-9621-c373fdd448ff",
   "metadata": {},
   "outputs": [
    {
     "data": {
      "text/plain": [
       "(TensorShape([200, 2]), TensorShape([200, 1]))"
      ]
     },
     "execution_count": 191,
     "metadata": {},
     "output_type": "execute_result"
    }
   ],
   "source": [
    "y=y.reshape(N,1)\n",
    "X.shape,y.shape"
   ]
  },
  {
   "cell_type": "code",
   "execution_count": 192,
   "id": "46c761fa-8393-416a-82cf-f3e86a4a5e17",
   "metadata": {},
   "outputs": [
    {
     "data": {
      "text/plain": [
       "<tf.Variable 'Variable:0' shape=(2, 1) dtype=float64, numpy=\n",
       "array([[-5.],\n",
       "       [10.]])>"
      ]
     },
     "execution_count": 192,
     "metadata": {},
     "output_type": "execute_result"
    }
   ],
   "source": [
    "beta_hat = tf.Variable(tnp.array([-5.0,10.0]).reshape(2,1))\n",
    "beta_hat"
   ]
  },
  {
   "cell_type": "code",
   "execution_count": 193,
   "id": "1daf3bae-8b23-4963-9690-ffd1176df307",
   "metadata": {},
   "outputs": [],
   "source": [
    "alpha=0.1"
   ]
  },
  {
   "cell_type": "code",
   "execution_count": 194,
   "id": "16bfd195-6b0b-452b-aff2-42488abba182",
   "metadata": {},
   "outputs": [],
   "source": [
    "opt = tf.optimizers.SGD(alpha) "
   ]
  },
  {
   "cell_type": "code",
   "execution_count": 196,
   "id": "72cdf4f9-29cd-4808-a6ec-a900d66efe32",
   "metadata": {},
   "outputs": [],
   "source": [
    "def loss_fn():\n",
    "    yhat = X@beta_hat \n",
    "    loss = (y-yhat).T @ (y-yhat) / N\n",
    "    return loss"
   ]
  },
  {
   "cell_type": "code",
   "execution_count": 197,
   "id": "b312819c-0d25-4887-8c9d-4a18563c835f",
   "metadata": {},
   "outputs": [],
   "source": [
    "for epoc in range(1000):\n",
    "    opt.minimize(loss_fn,beta_hat) # 미분 + update "
   ]
  },
  {
   "cell_type": "code",
   "execution_count": 198,
   "id": "137a7975-705d-4543-a511-72c0205a51fa",
   "metadata": {},
   "outputs": [
    {
     "data": {
      "text/plain": [
       "<tf.Variable 'Variable:0' shape=(2, 1) dtype=float64, numpy=\n",
       "array([[2.58366061],\n",
       "       [3.93304684]])>"
      ]
     },
     "execution_count": 198,
     "metadata": {},
     "output_type": "execute_result"
    }
   ],
   "source": [
    "beta_hat"
   ]
  },
  {
   "cell_type": "markdown",
   "id": "07f15e8b-d947-4341-ad00-d2994d462eef",
   "metadata": {},
   "source": [
    "#### 풀이5: 벡터버전, 사용자정의 손실함수 <- tf.losses.MSE "
   ]
  },
  {
   "cell_type": "markdown",
   "id": "016c6e35-1822-4973-a654-9ff28ac7be66",
   "metadata": {},
   "source": [
    "`-` 포인트\n",
    "```python\n",
    "## 포인트코드: 미리구현되어있는 손실함수 이용 \n",
    "tf.losses.MSE(y,yhat)\n",
    "```"
   ]
  },
  {
   "cell_type": "code",
   "execution_count": 202,
   "id": "fce98e08-d929-4cec-a9c4-9dfea4a48df7",
   "metadata": {},
   "outputs": [
    {
     "data": {
      "text/plain": [
       "(TensorShape([200, 2]), TensorShape([200, 1]))"
      ]
     },
     "execution_count": 202,
     "metadata": {},
     "output_type": "execute_result"
    }
   ],
   "source": [
    "y=y.reshape(N,1)\n",
    "X.shape,y.shape"
   ]
  },
  {
   "cell_type": "code",
   "execution_count": 203,
   "id": "3a3922d5-cdf7-4b4a-8116-8a8337eb60fd",
   "metadata": {},
   "outputs": [
    {
     "data": {
      "text/plain": [
       "<tf.Variable 'Variable:0' shape=(2, 1) dtype=float64, numpy=\n",
       "array([[-5.],\n",
       "       [10.]])>"
      ]
     },
     "execution_count": 203,
     "metadata": {},
     "output_type": "execute_result"
    }
   ],
   "source": [
    "beta_hat = tf.Variable(tnp.array([-5.0,10.0]).reshape(2,1))\n",
    "beta_hat"
   ]
  },
  {
   "cell_type": "code",
   "execution_count": 204,
   "id": "b9708d26-8eb6-4426-bcdd-81fcc66a2cd5",
   "metadata": {},
   "outputs": [],
   "source": [
    "alpha=0.1"
   ]
  },
  {
   "cell_type": "code",
   "execution_count": 205,
   "id": "7216f213-9020-4b70-8920-feb46f06781b",
   "metadata": {},
   "outputs": [],
   "source": [
    "opt = tf.optimizers.SGD(alpha) "
   ]
  },
  {
   "cell_type": "code",
   "execution_count": 208,
   "id": "6fafc725-14cb-4c56-8473-b5f27eefb69b",
   "metadata": {},
   "outputs": [],
   "source": [
    "def loss_fn():\n",
    "    yhat= X@beta_hat\n",
    "    loss = tf.losses.MSE(y.reshape(-1),yhat.reshape(-1))\n",
    "    return loss"
   ]
  },
  {
   "cell_type": "code",
   "execution_count": 209,
   "id": "be5c8878-91c8-4a21-9267-2a097669b7a1",
   "metadata": {},
   "outputs": [],
   "source": [
    "for epoc in range(1000):\n",
    "    opt.minimize(loss_fn,beta_hat) # 미분 + update "
   ]
  },
  {
   "cell_type": "code",
   "execution_count": 210,
   "id": "eae70d53-87fd-4389-9393-e73870feb132",
   "metadata": {},
   "outputs": [
    {
     "data": {
      "text/plain": [
       "<tf.Variable 'Variable:0' shape=(2, 1) dtype=float64, numpy=\n",
       "array([[2.58366061],\n",
       "       [3.93304684]])>"
      ]
     },
     "execution_count": 210,
     "metadata": {},
     "output_type": "execute_result"
    }
   ],
   "source": [
    "beta_hat"
   ]
  },
  {
   "cell_type": "markdown",
   "id": "1c725521-bfe4-431e-bf45-9eed25d2d83d",
   "metadata": {},
   "source": [
    "#### 풀이6: 벡터버전, 사용자정의 손실함수 <- tf.losses.MeaSquaredError"
   ]
  },
  {
   "cell_type": "markdown",
   "id": "a16611c1-31ef-4ea4-acc5-5d259273b545",
   "metadata": {},
   "source": [
    "`-` 포인트\n",
    "```python\n",
    "## 포인트코드: 클래스로부터 손실함수 오브젝트 생성 (함수를 찍어내는 클래스) \n",
    "mse_fn = tf.losses.MeanSquaredError()\n",
    "mse_fn(y,yhat)\n",
    "```"
   ]
  },
  {
   "cell_type": "code",
   "execution_count": 211,
   "id": "169ccd7d-7153-41c6-912c-8df9fdad4c9e",
   "metadata": {},
   "outputs": [
    {
     "data": {
      "text/plain": [
       "(TensorShape([200, 2]), TensorShape([200, 1]))"
      ]
     },
     "execution_count": 211,
     "metadata": {},
     "output_type": "execute_result"
    }
   ],
   "source": [
    "y=y.reshape(N,1)\n",
    "X.shape,y.shape"
   ]
  },
  {
   "cell_type": "code",
   "execution_count": 212,
   "id": "570902dd-2e6a-4abf-8645-54de4a7bcc65",
   "metadata": {},
   "outputs": [
    {
     "data": {
      "text/plain": [
       "<tf.Variable 'Variable:0' shape=(2, 1) dtype=float64, numpy=\n",
       "array([[-5.],\n",
       "       [10.]])>"
      ]
     },
     "execution_count": 212,
     "metadata": {},
     "output_type": "execute_result"
    }
   ],
   "source": [
    "beta_hat = tf.Variable(tnp.array([-5.0,10.0]).reshape(2,1))\n",
    "beta_hat"
   ]
  },
  {
   "cell_type": "code",
   "execution_count": 213,
   "id": "3a9f71d4-cfa5-430c-8aa5-4d649410dd4f",
   "metadata": {},
   "outputs": [],
   "source": [
    "alpha=0.1"
   ]
  },
  {
   "cell_type": "code",
   "execution_count": 214,
   "id": "b375b773-babc-44ca-a86b-65f9306396d2",
   "metadata": {},
   "outputs": [],
   "source": [
    "opt = tf.optimizers.SGD(alpha) "
   ]
  },
  {
   "cell_type": "code",
   "execution_count": 216,
   "id": "f06f9668-038d-4e88-954b-dd834000b2b9",
   "metadata": {},
   "outputs": [],
   "source": [
    "mseloss_fn = tf.losses.MeanSquaredError()"
   ]
  },
  {
   "cell_type": "code",
   "execution_count": 218,
   "id": "680a0a97-b663-488e-8bfe-fc39d3dc1b9b",
   "metadata": {},
   "outputs": [
    {
     "data": {
      "text/plain": [
       "<tf.Tensor: shape=(), dtype=float64, numpy=24.05728530883789>"
      ]
     },
     "execution_count": 218,
     "metadata": {},
     "output_type": "execute_result"
    }
   ],
   "source": [
    "mseloss_fn(y.reshape(-1),yhat.reshape(-1))"
   ]
  },
  {
   "cell_type": "code",
   "execution_count": 219,
   "id": "88cdb139-3a76-4745-8404-bcb4bd4751aa",
   "metadata": {},
   "outputs": [],
   "source": [
    "def loss_fn():\n",
    "    yhat= X@beta_hat\n",
    "    loss = mseloss_fn(y.reshape(-1),yhat.reshape(-1))\n",
    "    return loss"
   ]
  },
  {
   "cell_type": "code",
   "execution_count": 220,
   "id": "90cabe50-6b57-45f4-8b48-451fb86504eb",
   "metadata": {},
   "outputs": [],
   "source": [
    "for epoc in range(1000):\n",
    "    opt.minimize(loss_fn,beta_hat) # 미분 + update "
   ]
  },
  {
   "cell_type": "code",
   "execution_count": 221,
   "id": "31d0a581-8db7-45ac-89e8-d48ba181a5bc",
   "metadata": {},
   "outputs": [
    {
     "data": {
      "text/plain": [
       "<tf.Variable 'Variable:0' shape=(2, 1) dtype=float64, numpy=\n",
       "array([[2.58366061],\n",
       "       [3.93304684]])>"
      ]
     },
     "execution_count": 221,
     "metadata": {},
     "output_type": "execute_result"
    }
   ],
   "source": [
    "beta_hat"
   ]
  },
  {
   "cell_type": "markdown",
   "id": "bc382f53-9b01-44f7-b62c-08dd158132bb",
   "metadata": {},
   "source": [
    "### tf.keras.Sequential"
   ]
  },
  {
   "cell_type": "markdown",
   "id": "898fb22e-89bf-4e73-94d9-4370898e9592",
   "metadata": {},
   "source": [
    "`-` $\\hat{y}_i=\\hat{\\beta}_0+\\hat{\\beta}_1x_i$ 의 서로다른 표현 "
   ]
  },
  {
   "cell_type": "code",
   "execution_count": 223,
   "id": "d6645006-7871-4cec-959f-4f77cbc7df06",
   "metadata": {},
   "outputs": [],
   "source": [
    "import graphviz\n",
    "def gv(s): return graphviz.Source('digraph G{ rankdir=\"LR\"'+s + '; }')"
   ]
  },
  {
   "cell_type": "code",
   "execution_count": 224,
   "id": "912037ce-376d-4eac-9c01-7dfd2b681549",
   "metadata": {},
   "outputs": [
    {
     "data": {
      "image/svg+xml": [
       "<?xml version=\"1.0\" encoding=\"UTF-8\" standalone=\"no\"?>\n",
       "<!DOCTYPE svg PUBLIC \"-//W3C//DTD SVG 1.1//EN\"\n",
       " \"http://www.w3.org/Graphics/SVG/1.1/DTD/svg11.dtd\">\n",
       "<!-- Generated by graphviz version 3.0.0 (20220315.2325)\n",
       " -->\n",
       "<!-- Title: G Pages: 1 -->\n",
       "<svg width=\"727pt\" height=\"98pt\"\n",
       " viewBox=\"0.00 0.00 726.86 98.00\" xmlns=\"http://www.w3.org/2000/svg\" xmlns:xlink=\"http://www.w3.org/1999/xlink\">\n",
       "<g id=\"graph0\" class=\"graph\" transform=\"scale(1 1) rotate(0) translate(4 94)\">\n",
       "<title>G</title>\n",
       "<polygon fill=\"white\" stroke=\"transparent\" points=\"-4,4 -4,-94 722.86,-94 722.86,4 -4,4\"/>\n",
       "<!-- 1 -->\n",
       "<g id=\"node1\" class=\"node\">\n",
       "<title>1</title>\n",
       "<ellipse fill=\"none\" stroke=\"black\" cx=\"27\" cy=\"-72\" rx=\"27\" ry=\"18\"/>\n",
       "<text text-anchor=\"middle\" x=\"27\" y=\"-68.3\" font-family=\"Times,serif\" font-size=\"14.00\">1</text>\n",
       "</g>\n",
       "<!-- beta0_hat + x*beta1_hat, &#160;&#160;&#160;bias=False -->\n",
       "<g id=\"node2\" class=\"node\">\n",
       "<title>beta0_hat + x*beta1_hat, &#160;&#160;&#160;bias=False</title>\n",
       "<ellipse fill=\"none\" stroke=\"black\" cx=\"363.73\" cy=\"-45\" rx=\"191.97\" ry=\"18\"/>\n",
       "<text text-anchor=\"middle\" x=\"363.73\" y=\"-41.3\" font-family=\"Times,serif\" font-size=\"14.00\">beta0_hat + x*beta1_hat, &#160;&#160;&#160;bias=False</text>\n",
       "</g>\n",
       "<!-- 1&#45;&gt;beta0_hat + x*beta1_hat, &#160;&#160;&#160;bias=False -->\n",
       "<g id=\"edge1\" class=\"edge\">\n",
       "<title>1&#45;&gt;beta0_hat + x*beta1_hat, &#160;&#160;&#160;bias=False</title>\n",
       "<path fill=\"none\" stroke=\"black\" d=\"M53.99,-69.9C87.46,-67.2 148.36,-62.29 207.28,-57.54\"/>\n",
       "<polygon fill=\"black\" stroke=\"black\" points=\"207.79,-61.01 217.48,-56.72 207.23,-54.03 207.79,-61.01\"/>\n",
       "<text text-anchor=\"middle\" x=\"113\" y=\"-71.8\" font-family=\"Times,serif\" font-size=\"14.00\">* beta0_hat</text>\n",
       "</g>\n",
       "<!-- yhat -->\n",
       "<g id=\"node4\" class=\"node\">\n",
       "<title>yhat</title>\n",
       "<ellipse fill=\"none\" stroke=\"black\" cx=\"687.66\" cy=\"-45\" rx=\"31.4\" ry=\"18\"/>\n",
       "<text text-anchor=\"middle\" x=\"687.66\" y=\"-41.3\" font-family=\"Times,serif\" font-size=\"14.00\">yhat</text>\n",
       "</g>\n",
       "<!-- beta0_hat + x*beta1_hat, &#160;&#160;&#160;bias=False&#45;&gt;yhat -->\n",
       "<g id=\"edge3\" class=\"edge\">\n",
       "<title>beta0_hat + x*beta1_hat, &#160;&#160;&#160;bias=False&#45;&gt;yhat</title>\n",
       "<path fill=\"none\" stroke=\"black\" d=\"M555.72,-45C589.92,-45 622.25,-45 646.23,-45\"/>\n",
       "<polygon fill=\"black\" stroke=\"black\" points=\"646.3,-48.5 656.3,-45 646.3,-41.5 646.3,-48.5\"/>\n",
       "<text text-anchor=\"middle\" x=\"605.97\" y=\"-48.8\" font-family=\"Times,serif\" font-size=\"14.00\">indentity</text>\n",
       "</g>\n",
       "<!-- x -->\n",
       "<g id=\"node3\" class=\"node\">\n",
       "<title>x</title>\n",
       "<ellipse fill=\"none\" stroke=\"black\" cx=\"27\" cy=\"-18\" rx=\"27\" ry=\"18\"/>\n",
       "<text text-anchor=\"middle\" x=\"27\" y=\"-14.3\" font-family=\"Times,serif\" font-size=\"14.00\">x</text>\n",
       "</g>\n",
       "<!-- x&#45;&gt;beta0_hat + x*beta1_hat, &#160;&#160;&#160;bias=False -->\n",
       "<g id=\"edge2\" class=\"edge\">\n",
       "<title>x&#45;&gt;beta0_hat + x*beta1_hat, &#160;&#160;&#160;bias=False</title>\n",
       "<path fill=\"none\" stroke=\"black\" d=\"M53.99,-20.1C87.46,-22.8 148.36,-27.71 207.28,-32.46\"/>\n",
       "<polygon fill=\"black\" stroke=\"black\" points=\"207.23,-35.97 217.48,-33.28 207.79,-28.99 207.23,-35.97\"/>\n",
       "<text text-anchor=\"middle\" x=\"113\" y=\"-30.8\" font-family=\"Times,serif\" font-size=\"14.00\">* beta1_hat</text>\n",
       "</g>\n",
       "</g>\n",
       "</svg>\n"
      ],
      "text/plain": [
       "<graphviz.sources.Source at 0x7f00324d8af0>"
      ]
     },
     "execution_count": 224,
     "metadata": {},
     "output_type": "execute_result"
    }
   ],
   "source": [
    "gv(''' \n",
    "    \"1\" -> \"beta0_hat + x*beta1_hat,    bias=False\"[label=\"* beta0_hat\"]\n",
    "    \"x\" -> \"beta0_hat + x*beta1_hat,    bias=False\"[label=\"* beta1_hat\"]\n",
    "    \"beta0_hat + x*beta1_hat,    bias=False\" -> \"yhat\"[label=\"indentity\"]\n",
    "    ''')"
   ]
  },
  {
   "cell_type": "code",
   "execution_count": 225,
   "id": "a57cf1ac-1e13-488b-9d5e-dc9323b8864f",
   "metadata": {},
   "outputs": [
    {
     "data": {
      "image/svg+xml": [
       "<?xml version=\"1.0\" encoding=\"UTF-8\" standalone=\"no\"?>\n",
       "<!DOCTYPE svg PUBLIC \"-//W3C//DTD SVG 1.1//EN\"\n",
       " \"http://www.w3.org/Graphics/SVG/1.1/DTD/svg11.dtd\">\n",
       "<!-- Generated by graphviz version 3.0.0 (20220315.2325)\n",
       " -->\n",
       "<!-- Title: G Pages: 1 -->\n",
       "<svg width=\"598pt\" height=\"44pt\"\n",
       " viewBox=\"0.00 0.00 598.07 44.00\" xmlns=\"http://www.w3.org/2000/svg\" xmlns:xlink=\"http://www.w3.org/1999/xlink\">\n",
       "<g id=\"graph0\" class=\"graph\" transform=\"scale(1 1) rotate(0) translate(4 40)\">\n",
       "<title>G</title>\n",
       "<polygon fill=\"white\" stroke=\"transparent\" points=\"-4,4 -4,-40 594.07,-40 594.07,4 -4,4\"/>\n",
       "<!-- x -->\n",
       "<g id=\"node1\" class=\"node\">\n",
       "<title>x</title>\n",
       "<ellipse fill=\"none\" stroke=\"black\" cx=\"27\" cy=\"-18\" rx=\"27\" ry=\"18\"/>\n",
       "<text text-anchor=\"middle\" x=\"27\" y=\"-14.3\" font-family=\"Times,serif\" font-size=\"14.00\">x</text>\n",
       "</g>\n",
       "<!-- x*beta1_hat, &#160;&#160;&#160;bias=True -->\n",
       "<g id=\"node2\" class=\"node\">\n",
       "<title>x*beta1_hat, &#160;&#160;&#160;bias=True</title>\n",
       "<ellipse fill=\"none\" stroke=\"black\" cx=\"297.34\" cy=\"-18\" rx=\"129.18\" ry=\"18\"/>\n",
       "<text text-anchor=\"middle\" x=\"297.34\" y=\"-14.3\" font-family=\"Times,serif\" font-size=\"14.00\">x*beta1_hat, &#160;&#160;&#160;bias=True</text>\n",
       "</g>\n",
       "<!-- x&#45;&gt;x*beta1_hat, &#160;&#160;&#160;bias=True -->\n",
       "<g id=\"edge1\" class=\"edge\">\n",
       "<title>x&#45;&gt;x*beta1_hat, &#160;&#160;&#160;bias=True</title>\n",
       "<path fill=\"none\" stroke=\"black\" d=\"M54.22,-18C78.96,-18 118.07,-18 157.71,-18\"/>\n",
       "<polygon fill=\"black\" stroke=\"black\" points=\"157.79,-21.5 167.79,-18 157.79,-14.5 157.79,-21.5\"/>\n",
       "<text text-anchor=\"middle\" x=\"111\" y=\"-21.8\" font-family=\"Times,serif\" font-size=\"14.00\">*beta1_hat</text>\n",
       "</g>\n",
       "<!-- yhat -->\n",
       "<g id=\"node3\" class=\"node\">\n",
       "<title>yhat</title>\n",
       "<ellipse fill=\"none\" stroke=\"black\" cx=\"558.87\" cy=\"-18\" rx=\"31.4\" ry=\"18\"/>\n",
       "<text text-anchor=\"middle\" x=\"558.87\" y=\"-14.3\" font-family=\"Times,serif\" font-size=\"14.00\">yhat</text>\n",
       "</g>\n",
       "<!-- x*beta1_hat, &#160;&#160;&#160;bias=True&#45;&gt;yhat -->\n",
       "<g id=\"edge2\" class=\"edge\">\n",
       "<title>x*beta1_hat, &#160;&#160;&#160;bias=True&#45;&gt;yhat</title>\n",
       "<path fill=\"none\" stroke=\"black\" d=\"M426.97,-18C459.87,-18 492.87,-18 517.5,-18\"/>\n",
       "<polygon fill=\"black\" stroke=\"black\" points=\"517.53,-21.5 527.53,-18 517.53,-14.5 517.53,-21.5\"/>\n",
       "<text text-anchor=\"middle\" x=\"477.18\" y=\"-21.8\" font-family=\"Times,serif\" font-size=\"14.00\">indentity</text>\n",
       "</g>\n",
       "</g>\n",
       "</svg>\n"
      ],
      "text/plain": [
       "<graphviz.sources.Source at 0x7f00324d84f0>"
      ]
     },
     "execution_count": 225,
     "metadata": {},
     "output_type": "execute_result"
    }
   ],
   "source": [
    "gv('''\n",
    "\"x\" -> \"x*beta1_hat,    bias=True\"[label=\"*beta1_hat\"] ;\n",
    "\"x*beta1_hat,    bias=True\" -> \"yhat\"[label=\"indentity\"] ''')\n"
   ]
  },
  {
   "cell_type": "code",
   "execution_count": 226,
   "id": "6b6cacce-e9e7-40cc-8481-0eaabbedb4dc",
   "metadata": {},
   "outputs": [
    {
     "data": {
      "image/svg+xml": [
       "<?xml version=\"1.0\" encoding=\"UTF-8\" standalone=\"no\"?>\n",
       "<!DOCTYPE svg PUBLIC \"-//W3C//DTD SVG 1.1//EN\"\n",
       " \"http://www.w3.org/Graphics/SVG/1.1/DTD/svg11.dtd\">\n",
       "<!-- Generated by graphviz version 3.0.0 (20220315.2325)\n",
       " -->\n",
       "<!-- Title: G Pages: 1 -->\n",
       "<svg width=\"640pt\" height=\"44pt\"\n",
       " viewBox=\"0.00 0.00 639.56 44.00\" xmlns=\"http://www.w3.org/2000/svg\" xmlns:xlink=\"http://www.w3.org/1999/xlink\">\n",
       "<g id=\"graph0\" class=\"graph\" transform=\"scale(1 1) rotate(0) translate(4 40)\">\n",
       "<title>G</title>\n",
       "<polygon fill=\"white\" stroke=\"transparent\" points=\"-4,4 -4,-40 635.56,-40 635.56,4 -4,4\"/>\n",
       "<!-- X=[1 x] -->\n",
       "<g id=\"node1\" class=\"node\">\n",
       "<title>X=[1 x]</title>\n",
       "<ellipse fill=\"none\" stroke=\"black\" cx=\"46.15\" cy=\"-18\" rx=\"46.29\" ry=\"18\"/>\n",
       "<text text-anchor=\"middle\" x=\"46.15\" y=\"-14.3\" font-family=\"Times,serif\" font-size=\"14.00\">X=[1 x]</text>\n",
       "</g>\n",
       "<!-- X@beta_hat, &#160;&#160;&#160;bias=False -->\n",
       "<g id=\"node2\" class=\"node\">\n",
       "<title>X@beta_hat, &#160;&#160;&#160;bias=False</title>\n",
       "<ellipse fill=\"none\" stroke=\"black\" cx=\"336.23\" cy=\"-18\" rx=\"131.88\" ry=\"18\"/>\n",
       "<text text-anchor=\"middle\" x=\"336.23\" y=\"-14.3\" font-family=\"Times,serif\" font-size=\"14.00\">X@beta_hat, &#160;&#160;&#160;bias=False</text>\n",
       "</g>\n",
       "<!-- X=[1 x]&#45;&gt;X@beta_hat, &#160;&#160;&#160;bias=False -->\n",
       "<g id=\"edge1\" class=\"edge\">\n",
       "<title>X=[1 x]&#45;&gt;X@beta_hat, &#160;&#160;&#160;bias=False</title>\n",
       "<path fill=\"none\" stroke=\"black\" d=\"M92.48,-18C120.07,-18 156.97,-18 193.66,-18\"/>\n",
       "<polygon fill=\"black\" stroke=\"black\" points=\"193.99,-21.5 203.99,-18 193.99,-14.5 193.99,-21.5\"/>\n",
       "<text text-anchor=\"middle\" x=\"148.29\" y=\"-21.8\" font-family=\"Times,serif\" font-size=\"14.00\">@beta_hat</text>\n",
       "</g>\n",
       "<!-- yhat -->\n",
       "<g id=\"node3\" class=\"node\">\n",
       "<title>yhat</title>\n",
       "<ellipse fill=\"none\" stroke=\"black\" cx=\"600.37\" cy=\"-18\" rx=\"31.4\" ry=\"18\"/>\n",
       "<text text-anchor=\"middle\" x=\"600.37\" y=\"-14.3\" font-family=\"Times,serif\" font-size=\"14.00\">yhat</text>\n",
       "</g>\n",
       "<!-- X@beta_hat, &#160;&#160;&#160;bias=False&#45;&gt;yhat -->\n",
       "<g id=\"edge2\" class=\"edge\">\n",
       "<title>X@beta_hat, &#160;&#160;&#160;bias=False&#45;&gt;yhat</title>\n",
       "<path fill=\"none\" stroke=\"black\" d=\"M468.3,-18C501.34,-18 534.38,-18 559.02,-18\"/>\n",
       "<polygon fill=\"black\" stroke=\"black\" points=\"559.04,-21.5 569.04,-18 559.04,-14.5 559.04,-21.5\"/>\n",
       "<text text-anchor=\"middle\" x=\"518.67\" y=\"-21.8\" font-family=\"Times,serif\" font-size=\"14.00\">indentity</text>\n",
       "</g>\n",
       "</g>\n",
       "</svg>\n"
      ],
      "text/plain": [
       "<graphviz.sources.Source at 0x7f00324d8760>"
      ]
     },
     "execution_count": 226,
     "metadata": {},
     "output_type": "execute_result"
    }
   ],
   "source": [
    "gv('''\n",
    "\"X=[1 x]\" -> \"X@beta_hat,    bias=False\"[label=\"@beta_hat\"] ;\n",
    "\"X@beta_hat,    bias=False\" -> \"yhat\"[label=\"indentity\"] ''')\n"
   ]
  },
  {
   "cell_type": "markdown",
   "id": "755caa9d-a9d5-40b0-9006-bbc9bbb64800",
   "metadata": {},
   "source": [
    "#### 풀이1: 벡터버전, 사용자정의 손실함수 "
   ]
  },
  {
   "cell_type": "markdown",
   "id": "15875d56-087b-4ea5-abd7-1e7ce4225aad",
   "metadata": {},
   "source": [
    "`-` 포인트\n",
    "```python\n",
    "## 포인트코드1: 네트워크 생성 \n",
    "net = tf.keras.Sequential()\n",
    "\n",
    "## 포인트코드2: 네트워크의 아키텍처 설계 \n",
    "net.add(tf.keras.layers.Dense(1,input_shape=(2,),use_bias=False)) \n",
    "\n",
    "## 포인트코드3: 네트워크 컴파일 = 아키텍처 + 손실함수 + 옵티마이저\n",
    "net.compile(opt,loss=loss_fn2)\n",
    "\n",
    "## 포인트코드4: 미분 & update \n",
    "net.fit(X,y,epochs=1000,verbose=0,batch_size=N) \n",
    "```"
   ]
  },
  {
   "cell_type": "code",
   "execution_count": 255,
   "id": "a62a7520-321c-4721-8c39-92c9d3bbdf27",
   "metadata": {},
   "outputs": [
    {
     "data": {
      "text/plain": [
       "(TensorShape([200, 2]), TensorShape([200, 1]))"
      ]
     },
     "execution_count": 255,
     "metadata": {},
     "output_type": "execute_result"
    }
   ],
   "source": [
    "y=y.reshape(N,1)\n",
    "X.shape,y.shape"
   ]
  },
  {
   "cell_type": "code",
   "execution_count": 256,
   "id": "d2a1a727-65cd-45e3-9835-ea86a5496f34",
   "metadata": {},
   "outputs": [],
   "source": [
    "net = tf.keras.Sequential() \n",
    "net.add(tf.keras.layers.Dense(units=1,input_shape=(2,),use_bias=False)) # 아키텍처 설계 = yhat을 만들계획 "
   ]
  },
  {
   "cell_type": "code",
   "execution_count": 257,
   "id": "61ceaec8-fdba-485f-b7d1-12c0f3d723e4",
   "metadata": {},
   "outputs": [],
   "source": [
    "def loss_fn2(y,yhat): ## 손실함수의 정의 \n",
    "    return (y-yhat).T @ (y-yhat) / N  "
   ]
  },
  {
   "cell_type": "code",
   "execution_count": 258,
   "id": "0d1e1a1f-68ac-47c9-bf91-062e64039982",
   "metadata": {},
   "outputs": [],
   "source": [
    "alpha=0.1"
   ]
  },
  {
   "cell_type": "code",
   "execution_count": 259,
   "id": "afda8f38-3de2-4c3f-80ab-547b7265183e",
   "metadata": {},
   "outputs": [],
   "source": [
    "opt=tf.optimizers.SGD(alpha) ## 옵티마이저의 선택 "
   ]
  },
  {
   "cell_type": "code",
   "execution_count": 260,
   "id": "d642a625-1583-42bd-a2e5-7f41430b3664",
   "metadata": {},
   "outputs": [],
   "source": [
    "net.compile(opt,loss=loss_fn2) ## 컴파일 = 아키텍처 + 손실함수 + 옵티마이저 "
   ]
  },
  {
   "cell_type": "code",
   "execution_count": 261,
   "id": "0a014d4b-8f4a-4f3a-aa99-103986e8cf3c",
   "metadata": {},
   "outputs": [
    {
     "data": {
      "text/plain": [
       "<keras.callbacks.History at 0x7f002cdba380>"
      ]
     },
     "execution_count": 261,
     "metadata": {},
     "output_type": "execute_result"
    }
   ],
   "source": [
    "net.fit(X,y,epochs=1000,verbose=0,batch_size=N) # 미분 & update 의 반복"
   ]
  },
  {
   "cell_type": "code",
   "execution_count": 262,
   "id": "e6103d8f-4dc9-48ec-9489-bdd1a6332bb9",
   "metadata": {},
   "outputs": [
    {
     "data": {
      "text/plain": [
       "[<tf.Variable 'dense_4/kernel:0' shape=(2, 1) dtype=float32, numpy=\n",
       " array([[2.5836723],\n",
       "        [3.9330251]], dtype=float32)>]"
      ]
     },
     "execution_count": 262,
     "metadata": {},
     "output_type": "execute_result"
    }
   ],
   "source": [
    "net.weights"
   ]
  }
 ],
 "metadata": {
  "kernelspec": {
   "display_name": "Python 3 (ipykernel)",
   "language": "python",
   "name": "python3"
  },
  "language_info": {
   "codemirror_mode": {
    "name": "ipython",
    "version": 3
   },
   "file_extension": ".py",
   "mimetype": "text/x-python",
   "name": "python",
   "nbconvert_exporter": "python",
   "pygments_lexer": "ipython3",
   "version": "3.10.4"
  }
 },
 "nbformat": 4,
 "nbformat_minor": 5
}
