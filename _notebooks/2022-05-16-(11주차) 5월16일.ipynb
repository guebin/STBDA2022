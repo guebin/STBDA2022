{
 "cells": [
  {
   "cell_type": "markdown",
   "id": "2fa2a175-6e8f-4f82-9261-5edb00541409",
   "metadata": {},
   "source": [
    "# (11주차) 5월16일 \n",
    "\n",
    "- toc:true\n",
    "- branch: master\n",
    "- badges: true\n",
    "- comments: true\n",
    "- author: 최규빈"
   ]
  },
  {
   "cell_type": "markdown",
   "id": "7918c1da-8764-48ff-b894-0e9d71dedcfc",
   "metadata": {},
   "source": [
    "### 강의영상 "
   ]
  },
  {
   "cell_type": "markdown",
   "id": "16dc582e-8b7b-4713-858e-f0efdfd98b10",
   "metadata": {},
   "source": [
    "### imports"
   ]
  },
  {
   "cell_type": "code",
   "execution_count": 16,
   "id": "1f9b3e9e-4af0-47b9-84c9-a82d1b7b9d31",
   "metadata": {},
   "outputs": [],
   "source": [
    "import tensorflow as tf \n",
    "import tensorflow.experimental.numpy as tnp \n",
    "import numpy as np \n",
    "import matplotlib.pyplot as plt"
   ]
  },
  {
   "cell_type": "code",
   "execution_count": 17,
   "id": "4aff778e-c93c-425d-8cbb-28652367c5b2",
   "metadata": {},
   "outputs": [],
   "source": [
    "tnp.experimental_enable_numpy_behavior()"
   ]
  },
  {
   "cell_type": "code",
   "execution_count": 18,
   "id": "7207e6aa-0a59-41e2-aac3-89d2efb5f6c1",
   "metadata": {},
   "outputs": [],
   "source": [
    "(x_train, y_train), (x_test, y_test) = tf.keras.datasets.fashion_mnist.load_data()"
   ]
  },
  {
   "cell_type": "code",
   "execution_count": 24,
   "id": "da80b9e5-d7dc-40c9-8d00-65bba5638e30",
   "metadata": {},
   "outputs": [],
   "source": [
    "X = tf.constant(x_train.reshape(-1,28,28,1),dtype=tf.float64)\n",
    "y = tf.keras.utils.to_categorical(y_train)\n",
    "XX = tf.constant(x_test.reshape(-1,28,28,1),dtype=tf.float64)\n",
    "yy = tf.keras.utils.to_categorical(y_test)"
   ]
  },
  {
   "cell_type": "markdown",
   "id": "699b2db5-eb9a-443c-9924-b28056e24d99",
   "metadata": {},
   "source": [
    "`-` 첫시도"
   ]
  },
  {
   "cell_type": "code",
   "execution_count": 36,
   "id": "d630e3e0-2574-4ad4-91d5-a05c73bf8fc5",
   "metadata": {},
   "outputs": [
    {
     "name": "stdout",
     "output_type": "stream",
     "text": [
      "Epoch 1/5\n",
      "1875/1875 [==============================] - 2s 1ms/step - loss: 1.2243 - accuracy: 0.7894\n",
      "Epoch 2/5\n",
      "1875/1875 [==============================] - 2s 1ms/step - loss: 0.4534 - accuracy: 0.8388\n",
      "Epoch 3/5\n",
      "1875/1875 [==============================] - 2s 1ms/step - loss: 0.4161 - accuracy: 0.8502\n",
      "Epoch 4/5\n",
      "1875/1875 [==============================] - 2s 907us/step - loss: 0.4019 - accuracy: 0.8569\n",
      "Epoch 5/5\n",
      "1875/1875 [==============================] - 2s 973us/step - loss: 0.3873 - accuracy: 0.8622\n"
     ]
    },
    {
     "data": {
      "text/plain": [
       "<keras.callbacks.History at 0x7f38111302b0>"
      ]
     },
     "execution_count": 36,
     "metadata": {},
     "output_type": "execute_result"
    }
   ],
   "source": [
    "net1 = tf.keras.Sequential()\n",
    "net1.add(tf.keras.layers.Flatten())\n",
    "net1.add(tf.keras.layers.Dense(500,activation='relu'))\n",
    "net1.add(tf.keras.layers.Dense(500,activation='relu'))\n",
    "net1.add(tf.keras.layers.Dense(500,activation='relu'))\n",
    "net1.add(tf.keras.layers.Dense(500,activation='relu'))\n",
    "net1.add(tf.keras.layers.Dense(10,activation='softmax'))\n",
    "net1.compile(optimizer='adam', loss=tf.losses.categorical_crossentropy,metrics='accuracy')\n",
    "net1.fit(X,y,epochs=5)"
   ]
  },
  {
   "cell_type": "code",
   "execution_count": 37,
   "id": "2d5f021f-b06f-4cbb-875c-2eff3c2b2e2f",
   "metadata": {},
   "outputs": [
    {
     "name": "stdout",
     "output_type": "stream",
     "text": [
      "313/313 [==============================] - 0s 835us/step - loss: 0.4163 - accuracy: 0.8504\n"
     ]
    },
    {
     "data": {
      "text/plain": [
       "[0.41634100675582886, 0.8503999710083008]"
      ]
     },
     "execution_count": 37,
     "metadata": {},
     "output_type": "execute_result"
    }
   ],
   "source": [
    "net1.evaluate(XX,yy)"
   ]
  },
  {
   "cell_type": "code",
   "execution_count": 38,
   "id": "2222d929-7784-48d6-af5f-944682165714",
   "metadata": {},
   "outputs": [
    {
     "name": "stdout",
     "output_type": "stream",
     "text": [
      "Model: \"sequential_6\"\n",
      "_________________________________________________________________\n",
      " Layer (type)                Output Shape              Param #   \n",
      "=================================================================\n",
      " flatten_6 (Flatten)         (None, 784)               0         \n",
      "                                                                 \n",
      " dense_22 (Dense)            (None, 500)               392500    \n",
      "                                                                 \n",
      " dense_23 (Dense)            (None, 500)               250500    \n",
      "                                                                 \n",
      " dense_24 (Dense)            (None, 500)               250500    \n",
      "                                                                 \n",
      " dense_25 (Dense)            (None, 500)               250500    \n",
      "                                                                 \n",
      " dense_26 (Dense)            (None, 10)                5010      \n",
      "                                                                 \n",
      "=================================================================\n",
      "Total params: 1,149,010\n",
      "Trainable params: 1,149,010\n",
      "Non-trainable params: 0\n",
      "_________________________________________________________________\n"
     ]
    }
   ],
   "source": [
    "net1.summary()"
   ]
  },
  {
   "cell_type": "markdown",
   "id": "9c1bfa66-e9eb-4702-be68-8cad97aca26f",
   "metadata": {},
   "source": [
    "`-` 두번째 시도"
   ]
  },
  {
   "cell_type": "code",
   "execution_count": 55,
   "id": "fbd22327-6b70-4294-b035-405747d5e32e",
   "metadata": {},
   "outputs": [
    {
     "name": "stdout",
     "output_type": "stream",
     "text": [
      "Epoch 1/5\n",
      "1875/1875 [==============================] - 2s 1ms/step - loss: 0.8787 - accuracy: 0.8044\n",
      "Epoch 2/5\n",
      "1875/1875 [==============================] - 2s 994us/step - loss: 0.3843 - accuracy: 0.8618\n",
      "Epoch 3/5\n",
      "1875/1875 [==============================] - 2s 994us/step - loss: 0.3454 - accuracy: 0.8755\n",
      "Epoch 4/5\n",
      "1875/1875 [==============================] - 2s 989us/step - loss: 0.3217 - accuracy: 0.8838\n",
      "Epoch 5/5\n",
      "1875/1875 [==============================] - 2s 901us/step - loss: 0.3053 - accuracy: 0.8878\n"
     ]
    },
    {
     "data": {
      "text/plain": [
       "<keras.callbacks.History at 0x7f3234110fd0>"
      ]
     },
     "execution_count": 55,
     "metadata": {},
     "output_type": "execute_result"
    }
   ],
   "source": [
    "net2 = tf.keras.Sequential()\n",
    "net2.add(tf.keras.layers.Conv2D(30,(2,2),activation='relu'))\n",
    "net2.add(tf.keras.layers.MaxPool2D()) \n",
    "net2.add(tf.keras.layers.Conv2D(30,(2,2),activation='relu'))\n",
    "net2.add(tf.keras.layers.MaxPool2D()) \n",
    "net2.add(tf.keras.layers.Flatten())\n",
    "#net2.add(tf.keras.layers.Dense(500,activation='relu'))\n",
    "net2.add(tf.keras.layers.Dense(10,activation='softmax'))\n",
    "net2.compile(optimizer='adam', loss=tf.losses.categorical_crossentropy,metrics='accuracy')\n",
    "net2.fit(X,y,epochs=5)"
   ]
  },
  {
   "cell_type": "code",
   "execution_count": 56,
   "id": "3e177600-bdb3-4752-b07c-d46b953b3bf7",
   "metadata": {},
   "outputs": [
    {
     "name": "stdout",
     "output_type": "stream",
     "text": [
      "313/313 [==============================] - 0s 837us/step - loss: 0.3438 - accuracy: 0.8736\n"
     ]
    },
    {
     "data": {
      "text/plain": [
       "[0.3437994122505188, 0.8736000061035156]"
      ]
     },
     "execution_count": 56,
     "metadata": {},
     "output_type": "execute_result"
    }
   ],
   "source": [
    "net2.evaluate(XX,yy)"
   ]
  },
  {
   "cell_type": "code",
   "execution_count": 57,
   "id": "9d4f313d-e8b1-44ab-9921-ffef5b34cfa7",
   "metadata": {},
   "outputs": [
    {
     "name": "stdout",
     "output_type": "stream",
     "text": [
      "Model: \"sequential_8\"\n",
      "_________________________________________________________________\n",
      " Layer (type)                Output Shape              Param #   \n",
      "=================================================================\n",
      " conv2d_2 (Conv2D)           (None, 27, 27, 30)        150       \n",
      "                                                                 \n",
      " max_pooling2d_2 (MaxPooling  (None, 13, 13, 30)       0         \n",
      " 2D)                                                             \n",
      "                                                                 \n",
      " conv2d_3 (Conv2D)           (None, 12, 12, 30)        3630      \n",
      "                                                                 \n",
      " max_pooling2d_3 (MaxPooling  (None, 6, 6, 30)         0         \n",
      " 2D)                                                             \n",
      "                                                                 \n",
      " flatten_8 (Flatten)         (None, 1080)              0         \n",
      "                                                                 \n",
      " dense_28 (Dense)            (None, 10)                10810     \n",
      "                                                                 \n",
      "=================================================================\n",
      "Total params: 14,590\n",
      "Trainable params: 14,590\n",
      "Non-trainable params: 0\n",
      "_________________________________________________________________\n"
     ]
    }
   ],
   "source": [
    "net2.summary()"
   ]
  },
  {
   "cell_type": "code",
   "execution_count": 42,
   "id": "792c1fe0-c8cc-4887-83ca-fc644a69067e",
   "metadata": {},
   "outputs": [
    {
     "data": {
      "text/plain": [
       "0.012697887746842934"
      ]
     },
     "execution_count": 42,
     "metadata": {},
     "output_type": "execute_result"
    }
   ],
   "source": [
    "14590/ 1149010"
   ]
  },
  {
   "cell_type": "code",
   "execution_count": 45,
   "id": "21ce9fe2-f5f9-49aa-93c4-a51e5efec519",
   "metadata": {},
   "outputs": [],
   "source": [
    "c1, m1, c2, m2, flttn, dns = net2.layers"
   ]
  },
  {
   "cell_type": "code",
   "execution_count": 58,
   "id": "9f35432b-20ae-4e8e-ae9c-36f5d4937793",
   "metadata": {},
   "outputs": [
    {
     "name": "stdout",
     "output_type": "stream",
     "text": [
      "(60000, 28, 28, 1)\n",
      "(60000, 27, 27, 30)\n",
      "(60000, 13, 13, 30)\n",
      "(60000, 12, 12, 30)\n",
      "(60000, 6, 6, 30)\n",
      "(60000, 1080)\n",
      "(60000, 10)\n"
     ]
    }
   ],
   "source": [
    "print(X.shape) # 입력이미지 = 2D \n",
    "print(c1(X).shape) #2D \n",
    "print(m1(c1(X)).shape)  #2D\n",
    "print(c2(m1(c1(X))).shape) #2D\n",
    "print(m2(c2(m1(c1(X)))).shape) #2D\n",
    "print(flttn(m2(c2(m1(c1(X))))).shape)# 1D\n",
    "print(dns(flttn(m2(c2(m1(c1(X)))))).shape)# 1D"
   ]
  },
  {
   "cell_type": "markdown",
   "id": "839c0c6e-42c8-42f8-a95c-ec9dbf608f39",
   "metadata": {},
   "source": [
    "### MaxPool2D"
   ]
  },
  {
   "cell_type": "markdown",
   "id": "71fa4575-d08b-4419-a8ec-9fe34dc74bf4",
   "metadata": {},
   "source": [
    "#### 테스트1"
   ]
  },
  {
   "cell_type": "markdown",
   "id": "42f18227-357c-48ce-b98d-c6d418e3b9d1",
   "metadata": {},
   "source": [
    "`-` 레이어생성 "
   ]
  },
  {
   "cell_type": "code",
   "execution_count": 59,
   "id": "7791681d-c677-41d9-81ff-d4b0e2d38760",
   "metadata": {},
   "outputs": [],
   "source": [
    "m=tf.keras.layers.MaxPool2D()"
   ]
  },
  {
   "cell_type": "markdown",
   "id": "eb74ca8a-0f15-47d9-b57e-0e6b6f5076fc",
   "metadata": {},
   "source": [
    "`-` 입력데이터"
   ]
  },
  {
   "cell_type": "code",
   "execution_count": 63,
   "id": "01cb3396-d796-4182-8887-8ddda02b066d",
   "metadata": {},
   "outputs": [
    {
     "data": {
      "text/plain": [
       "<tf.Tensor: shape=(1, 4, 4), dtype=int64, numpy=\n",
       "array([[[ 0,  1,  2,  3],\n",
       "        [ 4,  5,  6,  7],\n",
       "        [ 8,  9, 10, 11],\n",
       "        [12, 13, 14, 15]]])>"
      ]
     },
     "execution_count": 63,
     "metadata": {},
     "output_type": "execute_result"
    }
   ],
   "source": [
    "XXX = tnp.arange(1*4*4*1).reshape(1,4,4,1)\n",
    "XXX.reshape(1,4,4)"
   ]
  },
  {
   "cell_type": "markdown",
   "id": "92ca3385-90a3-4c8d-8cde-5cc7b20fe743",
   "metadata": {},
   "source": [
    "`-` 입력데이터가 레이어를 통과한 모습"
   ]
  },
  {
   "cell_type": "code",
   "execution_count": 65,
   "id": "f253fa29-e6f1-4e97-b9f2-5d1ecb7e3325",
   "metadata": {},
   "outputs": [
    {
     "data": {
      "text/plain": [
       "<tf.Tensor: shape=(1, 2, 2), dtype=int64, numpy=\n",
       "array([[[ 5,  7],\n",
       "        [13, 15]]])>"
      ]
     },
     "execution_count": 65,
     "metadata": {},
     "output_type": "execute_result"
    }
   ],
   "source": [
    "m(XXX).reshape(1,2,2)"
   ]
  },
  {
   "cell_type": "markdown",
   "id": "3b70c614-a997-4d5c-8396-52cc18199d38",
   "metadata": {},
   "source": [
    "`-` MaxPool2D layer의 역할: (2,2)윈도우를 만들고 (2,2)윈도우에서 max를 뽑아 값을 기록, 윈도우를 움직이면서 반복 "
   ]
  },
  {
   "cell_type": "markdown",
   "id": "f633e962-ae8c-4118-9b97-ca2f72b563c5",
   "metadata": {},
   "source": [
    "#### 테스트2"
   ]
  },
  {
   "cell_type": "code",
   "execution_count": 66,
   "id": "a32cd4dc-5ee1-4b06-bfa2-4802662073dc",
   "metadata": {},
   "outputs": [
    {
     "data": {
      "text/plain": [
       "<tf.Tensor: shape=(1, 6, 6), dtype=int64, numpy=\n",
       "array([[[ 0,  1,  2,  3,  4,  5],\n",
       "        [ 6,  7,  8,  9, 10, 11],\n",
       "        [12, 13, 14, 15, 16, 17],\n",
       "        [18, 19, 20, 21, 22, 23],\n",
       "        [24, 25, 26, 27, 28, 29],\n",
       "        [30, 31, 32, 33, 34, 35]]])>"
      ]
     },
     "execution_count": 66,
     "metadata": {},
     "output_type": "execute_result"
    }
   ],
   "source": [
    "XXX = tnp.arange(1*6*6*1).reshape(1,6,6,1)\n",
    "XXX.reshape(1,6,6)"
   ]
  },
  {
   "cell_type": "code",
   "execution_count": 68,
   "id": "d5022e2c-0ec3-4250-aa43-83f3e4fd0294",
   "metadata": {},
   "outputs": [
    {
     "data": {
      "text/plain": [
       "<tf.Tensor: shape=(1, 3, 3), dtype=int64, numpy=\n",
       "array([[[ 7,  9, 11],\n",
       "        [19, 21, 23],\n",
       "        [31, 33, 35]]])>"
      ]
     },
     "execution_count": 68,
     "metadata": {},
     "output_type": "execute_result"
    }
   ],
   "source": [
    "m(XXX).reshape(1,3,3)"
   ]
  },
  {
   "cell_type": "markdown",
   "id": "0d2dd6b0-dbee-416b-8a34-546d383bdbad",
   "metadata": {},
   "source": [
    "#### 테스트3"
   ]
  },
  {
   "cell_type": "code",
   "execution_count": 72,
   "id": "db7eb3a2-c78c-49ab-a437-f771caecc0b5",
   "metadata": {},
   "outputs": [],
   "source": [
    "m=tf.keras.layers.MaxPool2D(pool_size=(3, 3))"
   ]
  },
  {
   "cell_type": "code",
   "execution_count": 71,
   "id": "85a7f0ca-435b-46b9-b8fb-423278d167b7",
   "metadata": {},
   "outputs": [
    {
     "data": {
      "text/plain": [
       "<tf.Tensor: shape=(1, 6, 6), dtype=int64, numpy=\n",
       "array([[[ 0,  1,  2,  3,  4,  5],\n",
       "        [ 6,  7,  8,  9, 10, 11],\n",
       "        [12, 13, 14, 15, 16, 17],\n",
       "        [18, 19, 20, 21, 22, 23],\n",
       "        [24, 25, 26, 27, 28, 29],\n",
       "        [30, 31, 32, 33, 34, 35]]])>"
      ]
     },
     "execution_count": 71,
     "metadata": {},
     "output_type": "execute_result"
    }
   ],
   "source": [
    "XXX = tnp.arange(1*6*6*1).reshape(1,6,6,1)\n",
    "XXX.reshape(1,6,6)"
   ]
  },
  {
   "cell_type": "code",
   "execution_count": 74,
   "id": "7e220b5d-b351-4364-8107-0ff98fd916da",
   "metadata": {},
   "outputs": [
    {
     "data": {
      "text/plain": [
       "<tf.Tensor: shape=(1, 2, 2), dtype=int64, numpy=\n",
       "array([[[14, 17],\n",
       "        [32, 35]]])>"
      ]
     },
     "execution_count": 74,
     "metadata": {},
     "output_type": "execute_result"
    }
   ],
   "source": [
    "m(XXX).reshape(1,2,2)"
   ]
  },
  {
   "cell_type": "markdown",
   "id": "b5a12865-d4fb-4076-a0df-3276ab405566",
   "metadata": {},
   "source": [
    "#### 테스트4"
   ]
  },
  {
   "cell_type": "code",
   "execution_count": 90,
   "id": "bdafc487-20d0-4c13-83c9-e13eb9e14d8a",
   "metadata": {},
   "outputs": [],
   "source": [
    "m=tf.keras.layers.MaxPool2D(pool_size=(2, 2))"
   ]
  },
  {
   "cell_type": "code",
   "execution_count": 92,
   "id": "5fdc2953-de7c-4542-b7ff-e177581862da",
   "metadata": {},
   "outputs": [
    {
     "data": {
      "text/plain": [
       "<tf.Tensor: shape=(1, 5, 5), dtype=int64, numpy=\n",
       "array([[[ 0,  1,  2,  3,  4],\n",
       "        [ 5,  6,  7,  8,  9],\n",
       "        [10, 11, 12, 13, 14],\n",
       "        [15, 16, 17, 18, 19],\n",
       "        [20, 21, 22, 23, 24]]])>"
      ]
     },
     "execution_count": 92,
     "metadata": {},
     "output_type": "execute_result"
    }
   ],
   "source": [
    "XXX = tnp.arange(1*5*5*1).reshape(1,5,5,1)\n",
    "XXX.reshape(1,5,5)"
   ]
  },
  {
   "cell_type": "code",
   "execution_count": 94,
   "id": "88423b66-9fd6-4a30-a4da-061cbe97017c",
   "metadata": {},
   "outputs": [
    {
     "data": {
      "text/plain": [
       "<tf.Tensor: shape=(1, 2, 2), dtype=int64, numpy=\n",
       "array([[[ 6,  8],\n",
       "        [16, 18]]])>"
      ]
     },
     "execution_count": 94,
     "metadata": {},
     "output_type": "execute_result"
    }
   ],
   "source": [
    "m(XXX).reshape(1,2,2)"
   ]
  },
  {
   "cell_type": "code",
   "execution_count": 95,
   "id": "34b07753-2418-40ca-ac27-870b571a807c",
   "metadata": {},
   "outputs": [],
   "source": [
    "m=tf.keras.layers.MaxPool2D(pool_size=(2, 2),padding=\"same\")"
   ]
  },
  {
   "cell_type": "code",
   "execution_count": 96,
   "id": "bf7c74ae-1bf4-4f33-bab3-383d2d6f80be",
   "metadata": {},
   "outputs": [
    {
     "data": {
      "text/plain": [
       "<tf.Tensor: shape=(1, 5, 5), dtype=int64, numpy=\n",
       "array([[[ 0,  1,  2,  3,  4],\n",
       "        [ 5,  6,  7,  8,  9],\n",
       "        [10, 11, 12, 13, 14],\n",
       "        [15, 16, 17, 18, 19],\n",
       "        [20, 21, 22, 23, 24]]])>"
      ]
     },
     "execution_count": 96,
     "metadata": {},
     "output_type": "execute_result"
    }
   ],
   "source": [
    "XXX = tnp.arange(1*5*5*1).reshape(1,5,5,1)\n",
    "XXX.reshape(1,5,5)"
   ]
  },
  {
   "cell_type": "code",
   "execution_count": 99,
   "id": "3b485719-ff9d-49b0-a9b4-dbbb391f532e",
   "metadata": {},
   "outputs": [
    {
     "data": {
      "text/plain": [
       "<tf.Tensor: shape=(1, 3, 3), dtype=int64, numpy=\n",
       "array([[[ 6,  8,  9],\n",
       "        [16, 18, 19],\n",
       "        [21, 23, 24]]])>"
      ]
     },
     "execution_count": 99,
     "metadata": {},
     "output_type": "execute_result"
    }
   ],
   "source": [
    "m(XXX).reshape(1,3,3)"
   ]
  },
  {
   "cell_type": "markdown",
   "id": "455d6c71-f73a-4bcd-a4d9-33fce216e073",
   "metadata": {},
   "source": [
    "#### 테스트5 "
   ]
  },
  {
   "cell_type": "code",
   "execution_count": 100,
   "id": "e7fe1b09-07f7-4746-8bba-ba589b5603dd",
   "metadata": {},
   "outputs": [
    {
     "data": {
      "text/plain": [
       "<tf.Tensor: shape=(2, 4, 4), dtype=int64, numpy=\n",
       "array([[[ 0,  1,  2,  3],\n",
       "        [ 4,  5,  6,  7],\n",
       "        [ 8,  9, 10, 11],\n",
       "        [12, 13, 14, 15]],\n",
       "\n",
       "       [[16, 17, 18, 19],\n",
       "        [20, 21, 22, 23],\n",
       "        [24, 25, 26, 27],\n",
       "        [28, 29, 30, 31]]])>"
      ]
     },
     "execution_count": 100,
     "metadata": {},
     "output_type": "execute_result"
    }
   ],
   "source": [
    "XXX = tnp.arange(2*4*4*1).reshape(2,4,4,1)\n",
    "XXX.reshape(2,4,4)"
   ]
  },
  {
   "cell_type": "code",
   "execution_count": 103,
   "id": "6a9dee7b-22cc-46b9-9d20-757f5c904b43",
   "metadata": {},
   "outputs": [
    {
     "data": {
      "text/plain": [
       "<tf.Tensor: shape=(2, 2, 2), dtype=int64, numpy=\n",
       "array([[[ 5,  7],\n",
       "        [13, 15]],\n",
       "\n",
       "       [[21, 23],\n",
       "        [29, 31]]])>"
      ]
     },
     "execution_count": 103,
     "metadata": {},
     "output_type": "execute_result"
    }
   ],
   "source": [
    "m(XXX).reshape(2,2,2)"
   ]
  },
  {
   "cell_type": "markdown",
   "id": "0d23dad2-5e71-4f6b-986b-6f620c32b9ac",
   "metadata": {},
   "source": [
    "#### 테스트6"
   ]
  },
  {
   "cell_type": "code",
   "execution_count": 104,
   "id": "feba1874-dc57-4fb1-8b4f-99896602cef9",
   "metadata": {},
   "outputs": [],
   "source": [
    "XXX = tnp.arange(1*4*4*3).reshape(1,4,4,3)"
   ]
  },
  {
   "cell_type": "code",
   "execution_count": 109,
   "id": "d9e57c14-10d4-405d-aa81-315474f0eedb",
   "metadata": {},
   "outputs": [
    {
     "data": {
      "text/plain": [
       "<tf.Tensor: shape=(1, 4, 4), dtype=int64, numpy=\n",
       "array([[[ 0,  3,  6,  9],\n",
       "        [12, 15, 18, 21],\n",
       "        [24, 27, 30, 33],\n",
       "        [36, 39, 42, 45]]])>"
      ]
     },
     "execution_count": 109,
     "metadata": {},
     "output_type": "execute_result"
    }
   ],
   "source": [
    "XXX[...,0]"
   ]
  },
  {
   "cell_type": "code",
   "execution_count": 110,
   "id": "14d25cc5-4f2a-404c-9380-f5e9a11a51ed",
   "metadata": {},
   "outputs": [
    {
     "data": {
      "text/plain": [
       "<tf.Tensor: shape=(1, 2, 2), dtype=int64, numpy=\n",
       "array([[[15, 21],\n",
       "        [39, 45]]])>"
      ]
     },
     "execution_count": 110,
     "metadata": {},
     "output_type": "execute_result"
    }
   ],
   "source": [
    "m(XXX)[...,0]"
   ]
  },
  {
   "cell_type": "markdown",
   "id": "1e733af5-480e-4deb-95a3-7173592ff3b3",
   "metadata": {},
   "source": [
    "### Conv2D "
   ]
  },
  {
   "cell_type": "markdown",
   "id": "a75334b8-4153-48aa-82af-6188bb55b61f",
   "metadata": {},
   "source": [
    "#### 테스트1"
   ]
  },
  {
   "cell_type": "markdown",
   "id": "ad28e8f6-8b8a-48a5-a955-15c9fc24fb60",
   "metadata": {},
   "source": [
    "`-` 레이어생성 "
   ]
  },
  {
   "cell_type": "code",
   "execution_count": 126,
   "id": "31abec64-855b-4a27-9299-35c9f78ce6ee",
   "metadata": {},
   "outputs": [],
   "source": [
    "cnv = tf.keras.layers.Conv2D(1,(2,2))"
   ]
  },
  {
   "cell_type": "markdown",
   "id": "17ee313a-15b7-4fbf-99b3-7fe5ba596256",
   "metadata": {},
   "source": [
    "`-` XXX생성 "
   ]
  },
  {
   "cell_type": "code",
   "execution_count": 127,
   "id": "1d6b3e52-b510-455c-b1dd-fe3f1a52c2c2",
   "metadata": {},
   "outputs": [
    {
     "data": {
      "text/plain": [
       "<tf.Tensor: shape=(1, 4, 4), dtype=float64, numpy=\n",
       "array([[[ 0.,  1.,  2.,  3.],\n",
       "        [ 4.,  5.,  6.,  7.],\n",
       "        [ 8.,  9., 10., 11.],\n",
       "        [12., 13., 14., 15.]]])>"
      ]
     },
     "execution_count": 127,
     "metadata": {},
     "output_type": "execute_result"
    }
   ],
   "source": [
    "XXX = tnp.arange(1*4*4*1,dtype=tf.float64).reshape(1,4,4,1)\n",
    "XXX.reshape(1,4,4)"
   ]
  },
  {
   "cell_type": "code",
   "execution_count": 128,
   "id": "30114419-cafa-4278-b557-c64c4f20a1a7",
   "metadata": {},
   "outputs": [
    {
     "data": {
      "text/plain": [
       "<tf.Tensor: shape=(1, 3, 3), dtype=float32, numpy=\n",
       "array([[[ 4.0450797,  5.7349434,  7.4248075],\n",
       "        [10.804535 , 12.494399 , 14.184262 ],\n",
       "        [17.56399  , 19.253855 , 20.943718 ]]], dtype=float32)>"
      ]
     },
     "execution_count": 128,
     "metadata": {},
     "output_type": "execute_result"
    }
   ],
   "source": [
    "cnv(XXX).reshape(1,3,3)"
   ]
  },
  {
   "cell_type": "markdown",
   "id": "9d6cf539-1d41-40a5-a692-ee19b9371ef1",
   "metadata": {},
   "source": [
    "- XXX에서 cnv(XXX)로 가는 맵핑을 찾는건 쉽지 않아보인다. \n",
    "- 심지어 랜덤으로 결정되는 부분도 있어보임 "
   ]
  },
  {
   "cell_type": "markdown",
   "id": "1d4167be-745e-42fa-bb2a-a2ea49aef019",
   "metadata": {},
   "source": [
    "`-` 코드정리 + 시드통일"
   ]
  },
  {
   "cell_type": "code",
   "execution_count": 136,
   "id": "615584b9-7a3a-4064-9ebd-3687a2736bc6",
   "metadata": {},
   "outputs": [],
   "source": [
    "tf.random.set_seed(43052)\n",
    "cnv = tf.keras.layers.Conv2D(1,(2,2))\n",
    "XXX = tnp.arange(1*4*4*1,dtype=tf.float64).reshape(1,4,4,1)"
   ]
  },
  {
   "cell_type": "markdown",
   "id": "d5662418-95c0-4321-8988-999292be75e5",
   "metadata": {},
   "source": [
    "`-` conv의 입출력"
   ]
  },
  {
   "cell_type": "code",
   "execution_count": 137,
   "id": "9cb0f4cb-3312-475c-a15c-30581e030e1e",
   "metadata": {},
   "outputs": [
    {
     "name": "stdout",
     "output_type": "stream",
     "text": [
      "tf.Tensor(\n",
      "[[[ 0.  1.  2.  3.]\n",
      "  [ 4.  5.  6.  7.]\n",
      "  [ 8.  9. 10. 11.]\n",
      "  [12. 13. 14. 15.]]], shape=(1, 4, 4), dtype=float64)\n",
      "tf.Tensor(\n",
      "[[[ -4.125754   -5.312817   -6.4998803]\n",
      "  [ -8.874006  -10.0610695 -11.248133 ]\n",
      "  [-13.622259  -14.809322  -15.996386 ]]], shape=(1, 3, 3), dtype=float32)\n"
     ]
    }
   ],
   "source": [
    "print(XXX.reshape(1,4,4))\n",
    "print(cnv(XXX).reshape(1,3,3))"
   ]
  },
  {
   "cell_type": "markdown",
   "id": "e683e00e-3ace-45fc-a68d-29b7362dac79",
   "metadata": {},
   "source": [
    "`-` conv연산 추론"
   ]
  },
  {
   "cell_type": "code",
   "execution_count": 142,
   "id": "fb8240bc-4f38-4d35-9eed-b971503ab0e3",
   "metadata": {},
   "outputs": [
    {
     "data": {
      "text/plain": [
       "<tf.Tensor: shape=(2, 2), dtype=float32, numpy=\n",
       "array([[-0.13014299, -0.23927206],\n",
       "       [-0.20175874, -0.6158894 ]], dtype=float32)>"
      ]
     },
     "execution_count": 142,
     "metadata": {},
     "output_type": "execute_result"
    }
   ],
   "source": [
    "tf.reshape(cnv.weights[0],(2,2))"
   ]
  },
  {
   "cell_type": "code",
   "execution_count": 146,
   "id": "22a81c5d-6fb5-4b1f-8469-ac003c1d0997",
   "metadata": {},
   "outputs": [
    {
     "data": {
      "text/plain": [
       "-4.1257540200000005"
      ]
     },
     "execution_count": 146,
     "metadata": {},
     "output_type": "execute_result"
    }
   ],
   "source": [
    "0 * -0.13014299 + 1 * -0.23927206 + 4 * -0.20175874 + 5 * -0.6158894 + 0 "
   ]
  },
  {
   "cell_type": "markdown",
   "id": "01dd1fc6-0fec-46b8-aa6d-a5e0b8785e4b",
   "metadata": {},
   "source": [
    "`-` 내가 정의한 weights를 대입하여 conv 연산 확인"
   ]
  },
  {
   "cell_type": "code",
   "execution_count": 153,
   "id": "661a2dd8-6e85-4d0c-8d6f-d1e89d1221f5",
   "metadata": {},
   "outputs": [
    {
     "data": {
      "text/plain": [
       "(2, 2, 1, 1)"
      ]
     },
     "execution_count": 153,
     "metadata": {},
     "output_type": "execute_result"
    }
   ],
   "source": [
    "cnv.get_weights()[0].shape"
   ]
  },
  {
   "cell_type": "code",
   "execution_count": 166,
   "id": "8a049192-d97f-40dd-845f-61bde27ee392",
   "metadata": {},
   "outputs": [],
   "source": [
    "w = np.array([1/4,1/4,1/4,1/4],dtype=np.float32).reshape(2, 2, 1, 1)\n",
    "b = np.array([3],dtype=np.float32)"
   ]
  },
  {
   "cell_type": "code",
   "execution_count": 167,
   "id": "3f691bc3-d9d2-4506-83ac-1ad69685d5b4",
   "metadata": {},
   "outputs": [],
   "source": [
    "cnv.set_weights([w,b])"
   ]
  },
  {
   "cell_type": "code",
   "execution_count": 172,
   "id": "d0a02431-b115-4e72-8aac-c6ba035f2cdf",
   "metadata": {},
   "outputs": [
    {
     "data": {
      "text/plain": [
       "<tf.Tensor: shape=(1, 4, 4), dtype=float64, numpy=\n",
       "array([[[ 0.,  1.,  2.,  3.],\n",
       "        [ 4.,  5.,  6.,  7.],\n",
       "        [ 8.,  9., 10., 11.],\n",
       "        [12., 13., 14., 15.]]])>"
      ]
     },
     "execution_count": 172,
     "metadata": {},
     "output_type": "execute_result"
    }
   ],
   "source": [
    "XXX.reshape(1,4,4)"
   ]
  },
  {
   "cell_type": "code",
   "execution_count": 170,
   "id": "d85618cb-e820-4fd4-a679-9708be4070d5",
   "metadata": {},
   "outputs": [
    {
     "data": {
      "text/plain": [
       "<tf.Tensor: shape=(1, 3, 3), dtype=float32, numpy=\n",
       "array([[[ 5.5,  6.5,  7.5],\n",
       "        [ 9.5, 10.5, 11.5],\n",
       "        [13.5, 14.5, 15.5]]], dtype=float32)>"
      ]
     },
     "execution_count": 170,
     "metadata": {},
     "output_type": "execute_result"
    }
   ],
   "source": [
    "cnv(XXX).reshape(1,3,3)"
   ]
  },
  {
   "cell_type": "code",
   "execution_count": 176,
   "id": "548b9b81-85dc-4008-82a5-f14eb3708a75",
   "metadata": {},
   "outputs": [
    {
     "data": {
      "text/plain": [
       "(5.5, 6.5, 7.5)"
      ]
     },
     "execution_count": 176,
     "metadata": {},
     "output_type": "execute_result"
    }
   ],
   "source": [
    "np.mean([0,1,4,5])+3, np.mean([1,2,5,6])+3, np.mean([2,3,6,7])+3 "
   ]
  },
  {
   "cell_type": "markdown",
   "id": "19e4460f-9944-46dc-a017-6f4f056572e2",
   "metadata": {},
   "source": [
    "#### tf.keras.layers.Conv2D(1,kernel_size=(2,2)) 요약"
   ]
  },
  {
   "cell_type": "markdown",
   "id": "02656331-13c4-43c3-a33b-5317c4866e9a",
   "metadata": {},
   "source": [
    "`-` 요약"
   ]
  },
  {
   "cell_type": "markdown",
   "id": "c6575f7c-f2c5-4ebc-86df-66479b5d2bd2",
   "metadata": {},
   "source": [
    "(1) size=(2,2)인 윈도우를 만듬. \n",
    "\n",
    "(2) XXX에 윈도우를 통과시켜서 (2,2)크기의 sub XXX 를 얻음. sub XXX의 각 원소에 conv2d.weights[0]의 각 원소를 element-wise하게 곱한다. \n",
    "\n",
    "(3) (2)의 결과를 모두 더한다. 그리고 그 결과에 다시 conv2d.weights[1]을 수행 \n",
    "\n",
    "(4) 윈도우를 이동시키면서 반복!"
   ]
  },
  {
   "cell_type": "markdown",
   "id": "01c7db47-6485-4c37-a698-0efe6e480094",
   "metadata": {
    "tags": []
   },
   "source": [
    "#### 테스트2"
   ]
  },
  {
   "cell_type": "markdown",
   "id": "a587ea00-a382-45bf-9f95-5a1b14240251",
   "metadata": {},
   "source": [
    "`-` 레이어와 XXX생성"
   ]
  },
  {
   "cell_type": "code",
   "execution_count": 178,
   "id": "7a669c76-4b8c-487c-b3cd-bad69c3537cf",
   "metadata": {},
   "outputs": [],
   "source": [
    "tf.random.set_seed(43052)\n",
    "cnv = tf.keras.layers.Conv2D(1,(3,3))\n",
    "XXX = tnp.arange(1*5*5*1,dtype=tf.float64).reshape(1,5,5,1)"
   ]
  },
  {
   "cell_type": "code",
   "execution_count": 198,
   "id": "e45c7cd8-23b4-4df2-b358-dd542d6c81b2",
   "metadata": {},
   "outputs": [
    {
     "data": {
      "text/plain": [
       "<tf.Tensor: shape=(1, 5, 5), dtype=float64, numpy=\n",
       "array([[[ 0.,  1.,  2.,  3.,  4.],\n",
       "        [ 5.,  6.,  7.,  8.,  9.],\n",
       "        [10., 11., 12., 13., 14.],\n",
       "        [15., 16., 17., 18., 19.],\n",
       "        [20., 21., 22., 23., 24.]]])>"
      ]
     },
     "execution_count": 198,
     "metadata": {},
     "output_type": "execute_result"
    }
   ],
   "source": [
    "XXX.reshape(1,5,5) ## 입력: XXX"
   ]
  },
  {
   "cell_type": "code",
   "execution_count": 199,
   "id": "53796db5-e9b9-484b-8698-75b1fd4e894d",
   "metadata": {},
   "outputs": [
    {
     "data": {
      "text/plain": [
       "<tf.Tensor: shape=(3, 3), dtype=float32, numpy=\n",
       "array([[-0.08676198, -0.1595147 , -0.13450584],\n",
       "       [-0.4105929 , -0.38366908,  0.07744962],\n",
       "       [-0.09255642,  0.4915564 ,  0.20828158]], dtype=float32)>"
      ]
     },
     "execution_count": 199,
     "metadata": {},
     "output_type": "execute_result"
    }
   ],
   "source": [
    "tf.reshape(cnv.weights[0],(3,3)) ## 커널의 가중치 "
   ]
  },
  {
   "cell_type": "code",
   "execution_count": 200,
   "id": "88b90786-2370-49c9-b02e-5cae590f1fc5",
   "metadata": {},
   "outputs": [
    {
     "data": {
      "text/plain": [
       "<tf.Tensor: shape=(1, 3, 3), dtype=float32, numpy=\n",
       "array([[[ 2.7395768 ,  2.2492635 ,  1.7589504 ],\n",
       "        [ 0.28801066, -0.20230258, -0.6926158 ],\n",
       "        [-2.1635566 , -2.6538715 , -3.1441827 ]]], dtype=float32)>"
      ]
     },
     "execution_count": 200,
     "metadata": {},
     "output_type": "execute_result"
    }
   ],
   "source": [
    "cnv(XXX).reshape(1,3,3) ## 출력: conv(XXX)"
   ]
  },
  {
   "cell_type": "code",
   "execution_count": 201,
   "id": "67a4337a-4640-4a07-8622-c55c870ade0a",
   "metadata": {},
   "outputs": [
    {
     "data": {
      "text/plain": [
       "<tf.Tensor: shape=(), dtype=float64, numpy=2.739577144384384>"
      ]
     },
     "execution_count": 201,
     "metadata": {},
     "output_type": "execute_result"
    }
   ],
   "source": [
    "tf.reduce_sum(XXX.reshape(1,5,5)[0,:3,:3] * tf.reshape(cnv.weights[0],(3,3)))"
   ]
  },
  {
   "cell_type": "markdown",
   "id": "028b335c-9542-4b20-9d4a-a9339409da18",
   "metadata": {
    "tags": []
   },
   "source": [
    "#### 테스트3"
   ]
  },
  {
   "cell_type": "markdown",
   "id": "b4f11523-6f72-4b0d-83bf-cba40d02f7f4",
   "metadata": {},
   "source": [
    "![](https://github.com/guebin/2021BDA/blob/master/_notebooks/2021-11-04-conv.png?raw=true)"
   ]
  },
  {
   "cell_type": "code",
   "execution_count": 216,
   "id": "a30e90e8-aa36-4cc7-af7e-cc79647cc9dc",
   "metadata": {},
   "outputs": [
    {
     "data": {
      "text/plain": [
       "<tf.Tensor: shape=(1, 5, 5), dtype=float64, numpy=\n",
       "array([[[3., 3., 2., 1., 0.],\n",
       "        [0., 0., 1., 3., 1.],\n",
       "        [3., 1., 2., 2., 3.],\n",
       "        [2., 0., 0., 2., 2.],\n",
       "        [2., 0., 0., 0., 1.]]])>"
      ]
     },
     "execution_count": 216,
     "metadata": {},
     "output_type": "execute_result"
    }
   ],
   "source": [
    "XXX = tf.constant([[3,3,2,1,0],[0,0,1,3,1],[3,1,2,2,3],[2,0,0,2,2],[2,0,0,0,1]],dtype=tf.float64).reshape(1,5,5,1)\n",
    "XXX.reshape(1,5,5)"
   ]
  },
  {
   "cell_type": "code",
   "execution_count": 217,
   "id": "411acaf9-6713-4a38-a4e1-92a917db70dc",
   "metadata": {},
   "outputs": [],
   "source": [
    "cnv = tf.keras.layers.Conv2D(1,(3,3))"
   ]
  },
  {
   "cell_type": "code",
   "execution_count": 218,
   "id": "6885e48b-4041-49fd-a070-dd6372c733fc",
   "metadata": {},
   "outputs": [
    {
     "data": {
      "text/plain": [
       "[]"
      ]
     },
     "execution_count": 218,
     "metadata": {},
     "output_type": "execute_result"
    }
   ],
   "source": [
    "cnv.weights"
   ]
  },
  {
   "cell_type": "code",
   "execution_count": 219,
   "id": "9f9d6290-d5a3-439e-b70e-3714b2928fbb",
   "metadata": {},
   "outputs": [
    {
     "data": {
      "text/plain": [
       "<tf.Tensor: shape=(1, 3, 3), dtype=float32, numpy=\n",
       "array([[[1.7157198, 2.9689512, 2.7728844],\n",
       "        [2.4162836, 1.8230928, 2.9890852],\n",
       "        [1.9408667, 1.2231059, 2.2712555]]], dtype=float32)>"
      ]
     },
     "execution_count": 219,
     "metadata": {},
     "output_type": "execute_result"
    }
   ],
   "source": [
    "cnv(XXX).reshape(1,3,3)"
   ]
  },
  {
   "cell_type": "code",
   "execution_count": 222,
   "id": "77c800c1-773f-4c3c-a816-4b247684bfed",
   "metadata": {},
   "outputs": [
    {
     "data": {
      "text/plain": [
       "<tf.Variable 'conv2d_13/kernel:0' shape=(3, 3, 1, 1) dtype=float32, numpy=\n",
       "array([[[[ 0.28270614]],\n",
       "\n",
       "        [[-0.13318631]],\n",
       "\n",
       "        [[ 0.21818542]]],\n",
       "\n",
       "\n",
       "       [[[ 0.23769057]],\n",
       "\n",
       "        [[ 0.40044254]],\n",
       "\n",
       "        [[ 0.38520074]]],\n",
       "\n",
       "\n",
       "       [[[ 0.15709132]],\n",
       "\n",
       "        [[ 0.48156905]],\n",
       "\n",
       "        [[-0.25362712]]]], dtype=float32)>"
      ]
     },
     "execution_count": 222,
     "metadata": {},
     "output_type": "execute_result"
    }
   ],
   "source": [
    "cnv.weights[0]"
   ]
  },
  {
   "cell_type": "code",
   "execution_count": 227,
   "id": "024913a8-7f7a-4556-8eac-e95e9fe9a335",
   "metadata": {},
   "outputs": [],
   "source": [
    "_w = tf.constant([[0,1,2],[2,2,0],[0,1,2]],dtype=tf.float64).reshape(3,3,1,1)\n",
    "_b = tf.constant([0],dtype=tf.float64)"
   ]
  },
  {
   "cell_type": "code",
   "execution_count": 228,
   "id": "7a5c9991-d011-425c-8922-e27fbe915289",
   "metadata": {},
   "outputs": [],
   "source": [
    "cnv.set_weights([_w,_b])"
   ]
  },
  {
   "cell_type": "code",
   "execution_count": 232,
   "id": "ba1bddad-9bf5-4489-a730-db41cada6197",
   "metadata": {},
   "outputs": [
    {
     "data": {
      "text/plain": [
       "<tf.Tensor: shape=(1, 3, 3), dtype=float32, numpy=\n",
       "array([[[12., 12., 17.],\n",
       "        [10., 17., 19.],\n",
       "        [ 9.,  6., 14.]]], dtype=float32)>"
      ]
     },
     "execution_count": 232,
     "metadata": {},
     "output_type": "execute_result"
    }
   ],
   "source": [
    "cnv(XXX).reshape(1,3,3)"
   ]
  },
  {
   "cell_type": "markdown",
   "id": "c59c0c72-ba78-4259-bf8d-45ff9f9247b9",
   "metadata": {},
   "source": [
    "#### 테스트4"
   ]
  },
  {
   "cell_type": "code",
   "execution_count": 250,
   "id": "d8c19f60-8f35-4cde-8b69-649d5d994322",
   "metadata": {},
   "outputs": [],
   "source": [
    "tf.random.set_seed(43052)\n",
    "cnv = tf.keras.layers.Conv2D(1,(2,2))\n",
    "XXX = tnp.arange(2*5*5*1,dtype=tf.float64).reshape(2,5,5,1)"
   ]
  },
  {
   "cell_type": "code",
   "execution_count": 254,
   "id": "493c58f5-4163-414b-a293-284882e303e8",
   "metadata": {},
   "outputs": [
    {
     "name": "stdout",
     "output_type": "stream",
     "text": [
      "tf.Tensor(\n",
      "[[[ 0.  1.  2.  3.  4.]\n",
      "  [ 5.  6.  7.  8.  9.]\n",
      "  [10. 11. 12. 13. 14.]\n",
      "  [15. 16. 17. 18. 19.]\n",
      "  [20. 21. 22. 23. 24.]]\n",
      "\n",
      " [[25. 26. 27. 28. 29.]\n",
      "  [30. 31. 32. 33. 34.]\n",
      "  [35. 36. 37. 38. 39.]\n",
      "  [40. 41. 42. 43. 44.]\n",
      "  [45. 46. 47. 48. 49.]]], shape=(2, 5, 5), dtype=float64)\n",
      "tf.Tensor(\n",
      "[[[ 6.  7.  8.  9.]\n",
      "  [11. 12. 13. 14.]\n",
      "  [16. 17. 18. 19.]\n",
      "  [21. 22. 23. 24.]]\n",
      "\n",
      " [[31. 32. 33. 34.]\n",
      "  [36. 37. 38. 39.]\n",
      "  [41. 42. 43. 44.]\n",
      "  [46. 47. 48. 49.]]], shape=(2, 4, 4), dtype=float32)\n"
     ]
    }
   ],
   "source": [
    "print(XXX.reshape(2,5,5))\n",
    "cnv(XXX) # weights를 초기화 시키기 위해서 레이어를 1회 통과 \n",
    "cnv.set_weights([w,b])\n",
    "print(cnv(XXX).reshape(2,4,4))"
   ]
  },
  {
   "cell_type": "code",
   "execution_count": 257,
   "id": "b51b503e-740c-4699-a029-7ddc841fcb86",
   "metadata": {},
   "outputs": [
    {
     "data": {
      "text/plain": [
       "(6.0, 31.0)"
      ]
     },
     "execution_count": 257,
     "metadata": {},
     "output_type": "execute_result"
    }
   ],
   "source": [
    "np.mean([0,1,5,6])+3,np.mean([25,26,30,31])+3,"
   ]
  },
  {
   "cell_type": "markdown",
   "id": "36777d0c-eb19-452b-b835-70e068a3542d",
   "metadata": {},
   "source": [
    "#### 테스트5"
   ]
  },
  {
   "cell_type": "markdown",
   "id": "e7a6ba2b-4864-4bbe-b0e6-c6c39314b5e5",
   "metadata": {},
   "source": [
    "`-` "
   ]
  },
  {
   "cell_type": "code",
   "execution_count": 324,
   "id": "f3d31496-0191-4837-a0c5-4eeec53111b5",
   "metadata": {},
   "outputs": [],
   "source": [
    "tf.random.set_seed(43052)\n",
    "cnv = tf.keras.layers.Conv2D(4,(2,2),activation='relu')\n",
    "XXX = tnp.arange(1*2*2*1,dtype=tf.float64).reshape(1,2,2,1)"
   ]
  },
  {
   "cell_type": "code",
   "execution_count": 325,
   "id": "8d18d8aa-93d7-4e58-bc9a-171551fc144e",
   "metadata": {},
   "outputs": [
    {
     "name": "stdout",
     "output_type": "stream",
     "text": [
      "tf.Tensor(\n",
      "[[[0. 1.]\n",
      "  [2. 3.]]], shape=(1, 2, 2), dtype=float64)\n"
     ]
    }
   ],
   "source": [
    "print(XXX.reshape(1,2,2))"
   ]
  },
  {
   "cell_type": "code",
   "execution_count": 326,
   "id": "59842396-9eea-4d17-b92b-82fdfdad144e",
   "metadata": {},
   "outputs": [
    {
     "data": {
      "text/plain": [
       "<tf.Tensor: shape=(1, 1, 1, 4), dtype=float32, numpy=array([[[[1.048703, 0.      , 0.      , 0.      ]]]], dtype=float32)>"
      ]
     },
     "execution_count": 326,
     "metadata": {},
     "output_type": "execute_result"
    }
   ],
   "source": [
    "cnv(XXX)"
   ]
  },
  {
   "cell_type": "code",
   "execution_count": 327,
   "id": "aafcd364-c4b4-44b5-89df-20480f566b31",
   "metadata": {},
   "outputs": [
    {
     "data": {
      "text/plain": [
       "<tf.Variable 'conv2d_27/kernel:0' shape=(2, 2, 1, 4) dtype=float32, numpy=\n",
       "array([[[[-0.08230966, -0.15132892, -0.12760344, -0.38952267]],\n",
       "\n",
       "        [[-0.36398047,  0.07347518, -0.08780673,  0.46633136]]],\n",
       "\n",
       "\n",
       "       [[[ 0.19759327, -0.46042526, -0.15406173, -0.34838456]],\n",
       "\n",
       "        [[ 0.33916563, -0.08248386,  0.11705655, -0.49948823]]]],\n",
       "      dtype=float32)>"
      ]
     },
     "execution_count": 327,
     "metadata": {},
     "output_type": "execute_result"
    }
   ],
   "source": [
    "cnv.weights[0] # (2,2) 커널의 크기 // 1은 XXX의 채널수 // 4는 conv(XXX)의 채널수 "
   ]
  },
  {
   "cell_type": "code",
   "execution_count": 281,
   "id": "6a8abf9a-a7d0-4dfd-b9f2-8c657f913683",
   "metadata": {},
   "outputs": [
    {
     "data": {
      "text/plain": [
       "<tf.Tensor: shape=(2, 2), dtype=float32, numpy=\n",
       "array([[-0.08230966, -0.36398047],\n",
       "       [ 0.19759327,  0.33916563]], dtype=float32)>"
      ]
     },
     "execution_count": 281,
     "metadata": {},
     "output_type": "execute_result"
    }
   ],
   "source": [
    "cnv.weights[0][...,0].reshape(2,2) ## conv(XXX)의 첫번째채널 출력을 얻기 위해 곱해지는 w "
   ]
  },
  {
   "cell_type": "code",
   "execution_count": 282,
   "id": "171f2ae5-06d9-450b-ac15-9723db067f63",
   "metadata": {},
   "outputs": [
    {
     "data": {
      "text/plain": [
       "<tf.Tensor: shape=(), dtype=float64, numpy=1.0487029552459717>"
      ]
     },
     "execution_count": 282,
     "metadata": {},
     "output_type": "execute_result"
    }
   ],
   "source": [
    "tf.reduce_sum(XXX.reshape(1,2,2) * cnv.weights[0][...,0].reshape(2,2)) ### conv(XXX)의 첫번째 채널 출력결과 "
   ]
  },
  {
   "cell_type": "markdown",
   "id": "f5a87294-c00c-4de3-ad54-05be7c683933",
   "metadata": {},
   "source": [
    "`-` 계산결과를 확인하기 쉽게 하기 위한 약간의 트릭"
   ]
  },
  {
   "cell_type": "code",
   "execution_count": 285,
   "id": "4937eecd-dbdc-4d14-aac1-7e9583e36494",
   "metadata": {},
   "outputs": [],
   "source": [
    "tf.random.set_seed(43052)\n",
    "cnv = tf.keras.layers.Conv2D(4,(2,2))\n",
    "XXX = tnp.array([1]*1*2*2*1,dtype=tf.float64).reshape(1,2,2,1)"
   ]
  },
  {
   "cell_type": "code",
   "execution_count": 286,
   "id": "f863a7f9-2b8a-4bbc-82fc-653b8b30aab4",
   "metadata": {},
   "outputs": [
    {
     "name": "stdout",
     "output_type": "stream",
     "text": [
      "tf.Tensor(\n",
      "[[[1. 1.]\n",
      "  [1. 1.]]], shape=(1, 2, 2), dtype=float64)\n"
     ]
    }
   ],
   "source": [
    "print(XXX.reshape(1,2,2))"
   ]
  },
  {
   "cell_type": "markdown",
   "id": "b165cd57-3ed1-43d0-bde9-1eca002b2843",
   "metadata": {},
   "source": [
    "- 이렇게 XXX를 설정하면 cnv(XXX)의 결과는 단지 cnv의 weight들의 sum이 된다. "
   ]
  },
  {
   "cell_type": "code",
   "execution_count": 287,
   "id": "24b6931e-771b-4378-9400-c531a06e806e",
   "metadata": {},
   "outputs": [
    {
     "data": {
      "text/plain": [
       "<tf.Tensor: shape=(1, 1, 1, 4), dtype=float32, numpy=\n",
       "array([[[[ 0.09046876, -0.6207629 , -0.25241536, -0.7710641 ]]]],\n",
       "      dtype=float32)>"
      ]
     },
     "execution_count": 287,
     "metadata": {},
     "output_type": "execute_result"
    }
   ],
   "source": [
    "cnv(XXX)"
   ]
  },
  {
   "cell_type": "code",
   "execution_count": 288,
   "id": "149d1945-22f0-49c9-827f-8b7f2cfab22c",
   "metadata": {},
   "outputs": [
    {
     "data": {
      "text/plain": [
       "<tf.Variable 'conv2d_24/kernel:0' shape=(2, 2, 1, 4) dtype=float32, numpy=\n",
       "array([[[[-0.08230966, -0.15132892, -0.12760344, -0.38952267]],\n",
       "\n",
       "        [[-0.36398047,  0.07347518, -0.08780673,  0.46633136]]],\n",
       "\n",
       "\n",
       "       [[[ 0.19759327, -0.46042526, -0.15406173, -0.34838456]],\n",
       "\n",
       "        [[ 0.33916563, -0.08248386,  0.11705655, -0.49948823]]]],\n",
       "      dtype=float32)>"
      ]
     },
     "execution_count": 288,
     "metadata": {},
     "output_type": "execute_result"
    }
   ],
   "source": [
    "cnv.weights[0] # (2,2) 커널의 크기 // 1은 XXX의 채널수 // 4는 conv(XXX)의 채널수 "
   ]
  },
  {
   "cell_type": "code",
   "execution_count": 289,
   "id": "8cbe2c4d-a2ac-4e39-8c1d-729cd67df45b",
   "metadata": {},
   "outputs": [
    {
     "data": {
      "text/plain": [
       "<tf.Tensor: shape=(2, 2), dtype=float32, numpy=\n",
       "array([[-0.08230966, -0.36398047],\n",
       "       [ 0.19759327,  0.33916563]], dtype=float32)>"
      ]
     },
     "execution_count": 289,
     "metadata": {},
     "output_type": "execute_result"
    }
   ],
   "source": [
    "cnv.weights[0][...,0].reshape(2,2) ## conv(XXX)의 첫번째채널 출력을 얻기 위해 곱해지는 w "
   ]
  },
  {
   "cell_type": "code",
   "execution_count": 294,
   "id": "e856dd07-3bc6-4559-976a-41519708c305",
   "metadata": {},
   "outputs": [
    {
     "data": {
      "text/plain": [
       "<tf.Tensor: shape=(), dtype=float32, numpy=0.090468764>"
      ]
     },
     "execution_count": 294,
     "metadata": {},
     "output_type": "execute_result"
    }
   ],
   "source": [
    "tf.reduce_sum(cnv.weights[0][...,0])\n",
    "#tf.reduce_sum(XXX.reshape(1,2,2) * cnv.weights[0][...,0].reshape(2,2)) ### conv(XXX)의 첫번째 채널 출력결과 "
   ]
  },
  {
   "cell_type": "markdown",
   "id": "0d41505d-3b6d-452c-af0b-b00d973de695",
   "metadata": {},
   "source": [
    "#### 테스트6"
   ]
  },
  {
   "cell_type": "markdown",
   "id": "5cb495db-bc84-4e9f-b2c7-3bf0a7170559",
   "metadata": {},
   "source": [
    "`-` 결과확인을 쉽게하기 위해서 XXX를 1로 통일"
   ]
  },
  {
   "cell_type": "code",
   "execution_count": 344,
   "id": "f3f12488-e6af-477a-ba2b-5fe1dbb14e97",
   "metadata": {},
   "outputs": [],
   "source": [
    "tf.random.set_seed(43052)\n",
    "cnv = tf.keras.layers.Conv2D(4,(2,2))\n",
    "XXX = tnp.array([1]*1*2*2*3,dtype=tf.float64).reshape(1,2,2,3)"
   ]
  },
  {
   "cell_type": "code",
   "execution_count": 345,
   "id": "c11e8203-092e-4970-89e6-c3183c6ae2b5",
   "metadata": {},
   "outputs": [
    {
     "data": {
      "text/plain": [
       "<tf.Tensor: shape=(1, 1, 1, 4), dtype=float32, numpy=\n",
       "array([[[[ 0.3297621, -0.4498347, -1.0487393, -1.580095 ]]]],\n",
       "      dtype=float32)>"
      ]
     },
     "execution_count": 345,
     "metadata": {},
     "output_type": "execute_result"
    }
   ],
   "source": [
    "cnv(XXX)"
   ]
  },
  {
   "cell_type": "code",
   "execution_count": 346,
   "id": "92d999eb-148c-4bc5-a11d-a53e90c560c1",
   "metadata": {},
   "outputs": [
    {
     "data": {
      "text/plain": [
       "<tf.Variable 'conv2d_33/kernel:0' shape=(2, 2, 3, 4) dtype=float32, numpy=\n",
       "array([[[[-0.06956434, -0.12789628, -0.10784459, -0.32920673],\n",
       "         [-0.30761963,  0.06209785, -0.07421023,  0.3941219 ],\n",
       "         [ 0.16699678, -0.38913035, -0.13020593, -0.29443866]],\n",
       "\n",
       "        [[ 0.28664726, -0.0697116 ,  0.09893084, -0.4221446 ],\n",
       "         [-0.23161241, -0.16410837, -0.36420006,  0.12424195],\n",
       "         [-0.14245945,  0.36286396, -0.10751781,  0.1733647 ]]],\n",
       "\n",
       "\n",
       "       [[[ 0.02764335,  0.15547717, -0.42024496, -0.31893867],\n",
       "         [ 0.22414821,  0.3619454 , -0.00282967, -0.3503708 ],\n",
       "         [ 0.4610079 , -0.17417148,  0.00401336, -0.29777044]],\n",
       "\n",
       "        [[-0.1620284 , -0.42066965, -0.01578814, -0.4240524 ],\n",
       "         [ 0.37925082,  0.24236053,  0.3949356 , -0.20996472],\n",
       "         [-0.30264795, -0.28889188, -0.3237777 ,  0.37506342]]]],\n",
       "      dtype=float32)>"
      ]
     },
     "execution_count": 346,
     "metadata": {},
     "output_type": "execute_result"
    }
   ],
   "source": [
    "cnv.weights[0] ## (2,2)는 커널의 사이즈 // 3은 XXX의채널 // 4는 cnv(XXX)의 채널 "
   ]
  },
  {
   "cell_type": "code",
   "execution_count": 347,
   "id": "c0bdec5e-4dfe-428a-bd34-03808c230243",
   "metadata": {},
   "outputs": [
    {
     "data": {
      "text/plain": [
       "<tf.Tensor: shape=(2, 2, 3), dtype=float32, numpy=\n",
       "array([[[-0.06956434, -0.30761963,  0.16699678],\n",
       "        [ 0.28664726, -0.23161241, -0.14245945]],\n",
       "\n",
       "       [[ 0.02764335,  0.22414821,  0.4610079 ],\n",
       "        [-0.1620284 ,  0.37925082, -0.30264795]]], dtype=float32)>"
      ]
     },
     "execution_count": 347,
     "metadata": {},
     "output_type": "execute_result"
    }
   ],
   "source": [
    "cnv.weights[0][...,0] ## cnv(XXX)의 첫번째 채널결과를 얻기 위해서 사용하는 w "
   ]
  },
  {
   "cell_type": "code",
   "execution_count": 348,
   "id": "04d9bee0-6efc-48f0-aca9-6fe5b1eb9b68",
   "metadata": {},
   "outputs": [
    {
     "data": {
      "text/plain": [
       "<tf.Tensor: shape=(), dtype=float32, numpy=0.32976213>"
      ]
     },
     "execution_count": 348,
     "metadata": {},
     "output_type": "execute_result"
    }
   ],
   "source": [
    "tf.reduce_sum(cnv.weights[0][...,0]) ### cnv(XXX)의 첫번째 채널의 결과 "
   ]
  },
  {
   "cell_type": "code",
   "execution_count": 349,
   "id": "f45cb0dc-36c7-495d-a260-5134667ea78e",
   "metadata": {},
   "outputs": [
    {
     "name": "stdout",
     "output_type": "stream",
     "text": [
      "tf.Tensor(0.32976213, shape=(), dtype=float32)\n",
      "tf.Tensor(-0.44983464, shape=(), dtype=float32)\n",
      "tf.Tensor(-1.0487392, shape=(), dtype=float32)\n",
      "tf.Tensor(-1.5800952, shape=(), dtype=float32)\n"
     ]
    }
   ],
   "source": [
    "print(tf.reduce_sum(cnv.weights[0][...,0]))\n",
    "print(tf.reduce_sum(cnv.weights[0][...,1]))\n",
    "print(tf.reduce_sum(cnv.weights[0][...,2]))\n",
    "print(tf.reduce_sum(cnv.weights[0][...,3])) ### cnv(XXX)의 결과 "
   ]
  },
  {
   "cell_type": "code",
   "execution_count": 350,
   "id": "31045978-ddae-4bf4-9cc3-19b6dd1e521c",
   "metadata": {},
   "outputs": [],
   "source": [
    "w_red = cnv.weights[0][...,0][...,0] \n",
    "w_green = cnv.weights[0][...,0][...,1] \n",
    "w_blue = cnv.weights[0][...,0][...,2] "
   ]
  },
  {
   "cell_type": "code",
   "execution_count": 351,
   "id": "10923f38-bc02-4338-9a26-d2a49820e74c",
   "metadata": {},
   "outputs": [
    {
     "data": {
      "text/plain": [
       "<tf.Tensor: shape=(), dtype=float64, numpy=0.32976213097572327>"
      ]
     },
     "execution_count": 351,
     "metadata": {},
     "output_type": "execute_result"
    }
   ],
   "source": [
    "tf.reduce_sum(XXX[...,0] * w_red + XXX[...,1] * w_green + XXX[...,2] * w_blue) ## cnv(XXX)의 첫채널 출력결과 "
   ]
  }
 ],
 "metadata": {
  "kernelspec": {
   "display_name": "Python 3 (ipykernel)",
   "language": "python",
   "name": "python3"
  },
  "language_info": {
   "codemirror_mode": {
    "name": "ipython",
    "version": 3
   },
   "file_extension": ".py",
   "mimetype": "text/x-python",
   "name": "python",
   "nbconvert_exporter": "python",
   "pygments_lexer": "ipython3",
   "version": "3.10.2"
  }
 },
 "nbformat": 4,
 "nbformat_minor": 5
}
