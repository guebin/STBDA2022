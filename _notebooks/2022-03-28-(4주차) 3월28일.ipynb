{
 "cells": [
  {
   "cell_type": "markdown",
   "id": "4a733813-1b35-4d41-839e-0efdb1da5c6e",
   "metadata": {},
   "source": [
    "# (4주차) 3월28일 -- draft\n",
    "\n",
    "- toc:true\n",
    "- branch: master\n",
    "- badges: true\n",
    "- comments: true\n",
    "- author: 최규빈"
   ]
  },
  {
   "cell_type": "markdown",
   "id": "a9756b93-8999-4711-9404-09f229e799b7",
   "metadata": {},
   "source": [
    "### 강의영상 "
   ]
  },
  {
   "cell_type": "markdown",
   "id": "e241d038-9ab8-45fd-ac7c-b5deb1c0dbdf",
   "metadata": {},
   "source": [
    "### imports"
   ]
  },
  {
   "cell_type": "code",
   "execution_count": 55,
   "id": "05b74a23-b10e-46ad-ad82-59f8711c6f14",
   "metadata": {},
   "outputs": [],
   "source": [
    "import tensorflow as tf \n",
    "import numpy as np \n",
    "import matplotlib.pyplot as plt "
   ]
  },
  {
   "cell_type": "code",
   "execution_count": 2,
   "id": "5486130e-62ce-4df8-84d0-a1da7472589a",
   "metadata": {},
   "outputs": [],
   "source": [
    "import tensorflow.experimental.numpy as tnp "
   ]
  },
  {
   "cell_type": "code",
   "execution_count": 3,
   "id": "3719560d-2cf6-4462-bc8c-8da753f52312",
   "metadata": {},
   "outputs": [],
   "source": [
    "tnp.experimental_enable_numpy_behavior() "
   ]
  },
  {
   "cell_type": "markdown",
   "id": "0f2afc92-f05c-4dfa-b202-30bd166f54a5",
   "metadata": {},
   "source": [
    "### 미분 "
   ]
  },
  {
   "cell_type": "markdown",
   "id": "d800db5c-6c4a-4e44-9b6c-73e2ecd06c7e",
   "metadata": {},
   "source": [
    "#### tf.GradientTape() 사용방법"
   ]
  },
  {
   "cell_type": "markdown",
   "id": "cbd7d77f-4b57-48fb-8520-b4b86722c973",
   "metadata": {},
   "source": [
    "`-` 예제9: 카페예제로 돌아오자. "
   ]
  },
  {
   "cell_type": "code",
   "execution_count": 6,
   "id": "69518cb3-15d9-47aa-9fd0-aeea0569ee3a",
   "metadata": {},
   "outputs": [],
   "source": [
    "x= tnp.array([20.1, 22.2, 22.7, 23.3, 24.4, 25.1, 26.2, 27.3, 28.4, 30.4])"
   ]
  },
  {
   "cell_type": "code",
   "execution_count": 7,
   "id": "e9ecdf4f-49dd-4051-9081-1d6aa5853eb6",
   "metadata": {},
   "outputs": [],
   "source": [
    "tf.random.set_seed(43052)\n",
    "epsilon=tf.random.normal([10])\n",
    "y=10.2 + 2.2*x + epsilon"
   ]
  },
  {
   "cell_type": "code",
   "execution_count": 8,
   "id": "2c592ae2-9f1c-494d-b6ac-cc2ccf6e9fe2",
   "metadata": {},
   "outputs": [
    {
     "data": {
      "text/plain": [
       "<tf.Tensor: shape=(10,), dtype=float64, numpy=\n",
       "array([55.4183651 , 58.19427589, 61.23082496, 62.31255873, 63.1070028 ,\n",
       "       63.69569103, 67.24704918, 71.43650092, 73.10130336, 77.84988286])>"
      ]
     },
     "execution_count": 8,
     "metadata": {},
     "output_type": "execute_result"
    }
   ],
   "source": [
    "y"
   ]
  },
  {
   "cell_type": "code",
   "execution_count": 9,
   "id": "ac202812-c858-4de0-84e8-0e2a19e137e0",
   "metadata": {},
   "outputs": [],
   "source": [
    "beta0 = tf.Variable(9.0) \n",
    "beta1 = tf.Variable(2.0)  "
   ]
  },
  {
   "cell_type": "code",
   "execution_count": 10,
   "id": "dd8f1f17-494e-47df-b32f-958f7ec070fd",
   "metadata": {},
   "outputs": [],
   "source": [
    "with tf.GradientTape(persistent=True) as tape: \n",
    "    loss = sum((y-beta0-beta1*x)**2)"
   ]
  },
  {
   "cell_type": "code",
   "execution_count": 11,
   "id": "bb476516-7824-4aac-9fcd-1022e8e58e6a",
   "metadata": {},
   "outputs": [
    {
     "data": {
      "text/plain": [
       "(<tf.Tensor: shape=(), dtype=float32, numpy=-126.78691>,\n",
       " <tf.Tensor: shape=(), dtype=float32, numpy=-3208.8396>)"
      ]
     },
     "execution_count": 11,
     "metadata": {},
     "output_type": "execute_result"
    }
   ],
   "source": [
    "tape.gradient(loss,beta0), tape.gradient(loss,beta1)"
   ]
  },
  {
   "cell_type": "markdown",
   "id": "9a8e8dd5-d515-4327-98ad-8d7c36edf0d1",
   "metadata": {},
   "source": [
    "`-` 예제10: 카페예제의 매트릭스 버전 "
   ]
  },
  {
   "cell_type": "code",
   "execution_count": 12,
   "id": "48af28cf-a29c-4b68-ba5c-db4ba7aa2c7c",
   "metadata": {},
   "outputs": [
    {
     "data": {
      "text/plain": [
       "<tf.Tensor: shape=(10, 2), dtype=float64, numpy=\n",
       "array([[ 1. , 20.1],\n",
       "       [ 1. , 22.2],\n",
       "       [ 1. , 22.7],\n",
       "       [ 1. , 23.3],\n",
       "       [ 1. , 24.4],\n",
       "       [ 1. , 25.1],\n",
       "       [ 1. , 26.2],\n",
       "       [ 1. , 27.3],\n",
       "       [ 1. , 28.4],\n",
       "       [ 1. , 30.4]])>"
      ]
     },
     "execution_count": 12,
     "metadata": {},
     "output_type": "execute_result"
    }
   ],
   "source": [
    "X= tnp.array([1]*10 +[20.1, 22.2, 22.7, 23.3, 24.4, 25.1, 26.2, 27.3, 28.4, 30.4]).reshape(2,10).T\n",
    "X"
   ]
  },
  {
   "cell_type": "code",
   "execution_count": 13,
   "id": "6dec20e1-6f76-42f1-a7b1-abb4383a9738",
   "metadata": {},
   "outputs": [
    {
     "data": {
      "text/plain": [
       "<tf.Tensor: shape=(2, 1), dtype=float64, numpy=\n",
       "array([[9.],\n",
       "       [2.]])>"
      ]
     },
     "execution_count": 13,
     "metadata": {},
     "output_type": "execute_result"
    }
   ],
   "source": [
    "beta= tnp.array([9.0,2.0]).reshape(2,1)\n",
    "beta"
   ]
  },
  {
   "cell_type": "code",
   "execution_count": 14,
   "id": "4173addc-2cc1-49c9-ade0-f54c3f6add74",
   "metadata": {},
   "outputs": [
    {
     "data": {
      "text/plain": [
       "<tf.Tensor: shape=(10, 1), dtype=float64, numpy=\n",
       "array([[49.2],\n",
       "       [53.4],\n",
       "       [54.4],\n",
       "       [55.6],\n",
       "       [57.8],\n",
       "       [59.2],\n",
       "       [61.4],\n",
       "       [63.6],\n",
       "       [65.8],\n",
       "       [69.8]])>"
      ]
     },
     "execution_count": 14,
     "metadata": {},
     "output_type": "execute_result"
    }
   ],
   "source": [
    "X@beta"
   ]
  },
  {
   "cell_type": "code",
   "execution_count": 16,
   "id": "a3a71fd7-e711-46ca-9f3e-e8ebc4f5a572",
   "metadata": {},
   "outputs": [
    {
     "data": {
      "text/plain": [
       "<tf.Tensor: shape=(10, 1), dtype=float64, numpy=\n",
       "array([[55.4183651 ],\n",
       "       [58.19427589],\n",
       "       [61.23082496],\n",
       "       [62.31255873],\n",
       "       [63.1070028 ],\n",
       "       [63.69569103],\n",
       "       [67.24704918],\n",
       "       [71.43650092],\n",
       "       [73.10130336],\n",
       "       [77.84988286]])>"
      ]
     },
     "execution_count": 16,
     "metadata": {},
     "output_type": "execute_result"
    }
   ],
   "source": [
    "beta_true= tnp.array([10.2,2.2]).reshape(2,1)\n",
    "y= X@beta_true+epsilon.reshape(10,1) \n",
    "y"
   ]
  },
  {
   "cell_type": "code",
   "execution_count": 19,
   "id": "3f667008-96ca-43d0-b31a-20960ffa3b07",
   "metadata": {},
   "outputs": [],
   "source": [
    "with tf.GradientTape(persistent=True) as tape: \n",
    "    tape.watch(beta)\n",
    "    yhat= X@beta\n",
    "    loss= (y-yhat).T @(y-yhat) "
   ]
  },
  {
   "cell_type": "code",
   "execution_count": 20,
   "id": "845d77d9-6245-4cd4-9b09-aa0cf8d8adc7",
   "metadata": {},
   "outputs": [
    {
     "data": {
      "text/plain": [
       "<tf.Tensor: shape=(2, 1), dtype=float64, numpy=\n",
       "array([[ -126.78690968],\n",
       "       [-3208.83947922]])>"
      ]
     },
     "execution_count": 20,
     "metadata": {},
     "output_type": "execute_result"
    }
   ],
   "source": [
    "tape.gradient(loss,beta)"
   ]
  },
  {
   "cell_type": "markdown",
   "id": "43f02721-f6d5-41cf-ac6e-16aa8622d9b8",
   "metadata": {},
   "source": [
    "`-` 이론적인 값을 확인하면 "
   ]
  },
  {
   "cell_type": "code",
   "execution_count": 21,
   "id": "2f1ddcd9-c58d-4ecb-b624-2d1fca7f1f72",
   "metadata": {},
   "outputs": [
    {
     "data": {
      "text/plain": [
       "<tf.Tensor: shape=(2, 1), dtype=float64, numpy=\n",
       "array([[ -126.78690968],\n",
       "       [-3208.83947922]])>"
      ]
     },
     "execution_count": 21,
     "metadata": {},
     "output_type": "execute_result"
    }
   ],
   "source": [
    "-2*X.T @ y + 2*X.T@X@beta "
   ]
  },
  {
   "cell_type": "markdown",
   "id": "61f3450d-65d3-469a-af17-ee5caf4824f0",
   "metadata": {},
   "source": [
    "`-` 예제11: 위의 예제에서 이론적인 $\\boldsymbol{\\beta}$의 최적값을 찾아보고 (즉 $\\boldsymbol{\\hat\\beta}$을 찾고) 그 지점에서 loss의 미분값(=접선의 기울기)를 구하라. 결과가 $\\bf{0}$인지 확인하라. (단 ${\\bf 0}$은 길이가 2이고 각 원소가 0인 벡터)"
   ]
  },
  {
   "cell_type": "markdown",
   "id": "05635f9a-0550-4c9f-b6f9-47453966743a",
   "metadata": {},
   "source": [
    "$\\beta$의 최적값은 $(X'X)^{-1}X'y$이다. "
   ]
  },
  {
   "cell_type": "code",
   "execution_count": 26,
   "id": "b537135b-884d-40b0-af66-b1043cdce8dc",
   "metadata": {},
   "outputs": [],
   "source": [
    "beta_optimal = tf.linalg.inv(X.T @ X) @ X.T  @y "
   ]
  },
  {
   "cell_type": "code",
   "execution_count": 27,
   "id": "67008c03-c6c4-4202-a642-42d2701e3770",
   "metadata": {},
   "outputs": [],
   "source": [
    "with tf.GradientTape(persistent=True) as tape: \n",
    "    tape.watch(beta_optimal)\n",
    "    yhat= X@beta_optimal\n",
    "    loss= (y-yhat).T @(y-yhat) "
   ]
  },
  {
   "cell_type": "code",
   "execution_count": 28,
   "id": "d7478cc4-a016-470b-b0b0-9744b22c0529",
   "metadata": {},
   "outputs": [
    {
     "data": {
      "text/plain": [
       "<tf.Tensor: shape=(2, 1), dtype=float64, numpy=\n",
       "array([[-6.67910172e-12],\n",
       "       [-1.67774636e-10]])>"
      ]
     },
     "execution_count": 28,
     "metadata": {},
     "output_type": "execute_result"
    }
   ],
   "source": [
    "tape.gradient(loss,beta_optimal)"
   ]
  },
  {
   "cell_type": "markdown",
   "id": "493fbd48-1833-46ec-9b86-671851e87e17",
   "metadata": {},
   "source": [
    "`-` beta_true에서의 기울기도 계산해보자. "
   ]
  },
  {
   "cell_type": "code",
   "execution_count": 33,
   "id": "5ca7ab62-07ba-4cb8-b728-1ad5627bfe15",
   "metadata": {},
   "outputs": [],
   "source": [
    "with tf.GradientTape(persistent=True) as tape: \n",
    "    tape.watch(beta_true)\n",
    "    yhat= X@beta_true\n",
    "    loss= (y-yhat).T @(y-yhat) "
   ]
  },
  {
   "cell_type": "code",
   "execution_count": 34,
   "id": "37c87619-6c70-44a7-9fef-c7fa8cde7dc5",
   "metadata": {},
   "outputs": [
    {
     "data": {
      "text/plain": [
       "<tf.Tensor: shape=(2, 1), dtype=float64, numpy=\n",
       "array([[ -2.74690968],\n",
       "       [-71.45947922]])>"
      ]
     },
     "execution_count": 34,
     "metadata": {},
     "output_type": "execute_result"
    }
   ],
   "source": [
    "tape.gradient(loss,beta_true)"
   ]
  },
  {
   "cell_type": "markdown",
   "id": "ef3c2dd6-0fa2-4bfc-b904-fa82b1d23100",
   "metadata": {},
   "source": [
    "- 샘플사이즈가 커진다면 `tape.gradient(loss,beta_true)` $\\approx$ `tape.gradient(loss,beta_optimal)` \n",
    "- 샘플사이즈가 커진다면 `beta_true` $\\approx$ `beta_optimal`"
   ]
  },
  {
   "cell_type": "markdown",
   "id": "1bdd3374-7884-485a-acb9-3ffba10e4aed",
   "metadata": {},
   "source": [
    "## 경사하강법 "
   ]
  },
  {
   "cell_type": "markdown",
   "id": "2533e309-a267-4807-aa6c-fee7efb873f9",
   "metadata": {},
   "source": [
    "### 최적화문제 "
   ]
  },
  {
   "cell_type": "markdown",
   "id": "34c07436-0452-4003-b565-9d6d923f4a3b",
   "metadata": {},
   "source": [
    "`-` $loss=(\\frac{1}{2}\\beta-1)^2$를 최소하는 $\\beta$를 컴퓨터를 활용하여 구하는 문제를 생각해보자. \n",
    "- 답은 $\\beta=2$임을 알고 있다. "
   ]
  },
  {
   "cell_type": "markdown",
   "id": "77d075a4-3d9a-4a65-91ad-72bbc7beb98b",
   "metadata": {},
   "source": [
    "### 방법1: grid search"
   ]
  },
  {
   "cell_type": "markdown",
   "id": "c62a0eec-a902-467c-bdc7-8055ffce0be7",
   "metadata": {
    "tags": []
   },
   "source": [
    "#### 알고리즘 "
   ]
  },
  {
   "cell_type": "markdown",
   "id": "6d3888ac-4d5d-4a0e-a9bc-c3f9d4b1ba4a",
   "metadata": {},
   "source": [
    "(1) beta = [-10.00,-9.99,...,10.00] 와 같은 리스트를 만든다. \n",
    "\n",
    "(2) (1)의 리스트의 각원소에 해당하는 loss를 구한다. \n",
    "\n",
    "(3) (2)에서 구한 loss를 제일 작게 만드는 beta를 찾는다. "
   ]
  },
  {
   "cell_type": "markdown",
   "id": "da611891-726e-4ed9-aed4-b573ce16dccd",
   "metadata": {},
   "source": [
    "#### 구현코드 "
   ]
  },
  {
   "cell_type": "code",
   "execution_count": 40,
   "id": "cb870413-cb89-493c-8694-855af907e345",
   "metadata": {},
   "outputs": [],
   "source": [
    "beta = np.linspace(-10,10,100) \n",
    "loss = (beta/2 -1)**2 "
   ]
  },
  {
   "cell_type": "code",
   "execution_count": 42,
   "id": "a7374a43-0c69-4483-a1e1-18cba86fafb4",
   "metadata": {},
   "outputs": [
    {
     "data": {
      "text/plain": [
       "<tf.Tensor: shape=(), dtype=int64, numpy=2>"
      ]
     },
     "execution_count": 42,
     "metadata": {},
     "output_type": "execute_result"
    }
   ],
   "source": [
    "tnp.argmin([1,2,-3,3,4])"
   ]
  },
  {
   "cell_type": "code",
   "execution_count": 43,
   "id": "60e97bc7-9811-41ad-b793-d85523177309",
   "metadata": {},
   "outputs": [
    {
     "data": {
      "text/plain": [
       "<tf.Tensor: shape=(), dtype=int64, numpy=3>"
      ]
     },
     "execution_count": 43,
     "metadata": {},
     "output_type": "execute_result"
    }
   ],
   "source": [
    "tnp.argmin([1,2,3,-3,4])"
   ]
  },
  {
   "cell_type": "code",
   "execution_count": 44,
   "id": "75cdc6d3-ce5d-42e4-bbe9-24c88e789d12",
   "metadata": {},
   "outputs": [
    {
     "data": {
      "text/plain": [
       "<tf.Tensor: shape=(), dtype=int64, numpy=59>"
      ]
     },
     "execution_count": 44,
     "metadata": {},
     "output_type": "execute_result"
    }
   ],
   "source": [
    "tnp.argmin(loss)"
   ]
  },
  {
   "cell_type": "code",
   "execution_count": 49,
   "id": "55167e91-bf4c-4bce-bbef-821bc4e46f13",
   "metadata": {},
   "outputs": [
    {
     "data": {
      "text/plain": [
       "1.9191919191919187"
      ]
     },
     "execution_count": 49,
     "metadata": {},
     "output_type": "execute_result"
    }
   ],
   "source": [
    "beta[59]"
   ]
  },
  {
   "cell_type": "markdown",
   "id": "77a4415a-b109-4a24-a4df-93165d411d61",
   "metadata": {},
   "source": [
    "#### 그리드서치의 문제점 "
   ]
  },
  {
   "cell_type": "markdown",
   "id": "98ce2838-514c-4df2-bb70-1444deb88e7b",
   "metadata": {},
   "source": [
    "`-` 비판1: [-10,10]이외에 해가 존재하면? \n",
    "- 이 예제의 경우는 운좋게 [-10,10]에서 해가 존재했음\n",
    "- 하지만 임의의 고정된 $x,y$에 대하여 $loss(\\beta)=(x\\beta-y)^2$ 의 형태의 해가 항상 [-10,10]에서 존재한다는 보장은 없음\n",
    "- 해결책: 더 넓게 많은 범위를 탐색하자? "
   ]
  },
  {
   "cell_type": "markdown",
   "id": "aafe2234-aab7-4d4e-961c-ad8751bd1ee5",
   "metadata": {},
   "source": [
    "`-` 비판2: 효율적이지 않음\n",
    "- 알고리즘을 요약하면 결국 -10부터 10까지 작은 간격으로 조금씩 이동하며 loss를 조사하는 것이 grid search의 아이디어 \n",
    "- $\\to$ 생각해보니까 $\\beta=2$인 순간 $loss=(\\frac{1}{2}\\beta-1)^2=0$이 되어서 이것보다 작은 최소값은 존재하지 않는다(제곱은 항상 양수이어야 하므로)\n",
    "- $\\to$ 따라서 $\\beta=2$ 이후로는 탐색할 필요가 없다 "
   ]
  },
  {
   "cell_type": "markdown",
   "id": "635f0538-144e-40f9-9dbd-ef1b15e07cf4",
   "metadata": {
    "tags": []
   },
   "source": [
    "### 방법2: gradient descent"
   ]
  },
  {
   "cell_type": "markdown",
   "id": "3f08788e-94cf-4bc1-ac35-4272cf0ab67f",
   "metadata": {},
   "source": [
    "#### 알고리즘!"
   ]
  },
  {
   "cell_type": "markdown",
   "id": "2a6faece-e6b1-4970-968c-f22307aa179e",
   "metadata": {},
   "source": [
    "(1) beta = -5 로 셋팅한다. "
   ]
  },
  {
   "cell_type": "code",
   "execution_count": 50,
   "id": "29a4976c-b9cc-426a-9ca9-96c74c1b4008",
   "metadata": {},
   "outputs": [
    {
     "data": {
      "text/plain": [
       "12.25"
      ]
     },
     "execution_count": 50,
     "metadata": {},
     "output_type": "execute_result"
    }
   ],
   "source": [
    "(-5/2-1)**2"
   ]
  },
  {
   "cell_type": "markdown",
   "id": "242074fe-7c60-42f5-9a3e-e72bff0e6025",
   "metadata": {},
   "source": [
    "(2) beta=-5 근처에서 조금씩 이동하여 loss를 조사해본다. "
   ]
  },
  {
   "cell_type": "code",
   "execution_count": 51,
   "id": "6195f842-8f87-45ff-bbf9-e6422a103674",
   "metadata": {},
   "outputs": [
    {
     "data": {
      "text/plain": [
       "12.215025"
      ]
     },
     "execution_count": 51,
     "metadata": {},
     "output_type": "execute_result"
    }
   ],
   "source": [
    "(-4.99/2-1)**2 ## 오른쪽으로 0.01 이동하고 loss조사"
   ]
  },
  {
   "cell_type": "code",
   "execution_count": 52,
   "id": "a20314b8-c793-4c12-a9bd-f423c67e5062",
   "metadata": {},
   "outputs": [
    {
     "data": {
      "text/plain": [
       "12.285025"
      ]
     },
     "execution_count": 52,
     "metadata": {},
     "output_type": "execute_result"
    }
   ],
   "source": [
    "(-5.01/2-1)**2 ## 왼쪽으로 0.01 이동하고 l`oss조사"
   ]
  },
  {
   "cell_type": "markdown",
   "id": "80bcf091-c05a-4e6b-be4e-9ca08a3f2318",
   "metadata": {},
   "source": [
    "(3) (2)의 결과를 잘 해석하고 더 유리한 쪽으로 이동 "
   ]
  },
  {
   "cell_type": "markdown",
   "id": "2cddc60d-504f-4bc2-9d23-7c2a9d02a5b0",
   "metadata": {},
   "source": [
    "(4) 위의 과정을 반복하고 왼쪽, 오른쪽 어느쪽으로 움직여도 이득이 없다면 멈춘다. "
   ]
  },
  {
   "cell_type": "markdown",
   "id": "74f370cb-6acb-4f84-be83-7cffdb706a97",
   "metadata": {},
   "source": [
    "#### 알고리즘 분석 "
   ]
  },
  {
   "cell_type": "markdown",
   "id": "71bfcc12-6e41-4a34-857f-6c8e63c9d36b",
   "metadata": {},
   "source": [
    "`-` (2)-(3)의 과정은 `beta=-5 에서 미분계수를 구하고 미분계수가 양수이면 왼쪽으로 움직이고 음수이면 오른쪽으로 움직인다`고 해석가능. 아래그림을 보면 더 잘 이해가 된다. "
   ]
  },
  {
   "cell_type": "code",
   "execution_count": 56,
   "id": "8f551c84-150d-4ba4-a016-bdb643d35653",
   "metadata": {},
   "outputs": [
    {
     "data": {
      "text/plain": [
       "[<matplotlib.lines.Line2D at 0x7f69383364d0>]"
      ]
     },
     "execution_count": 56,
     "metadata": {},
     "output_type": "execute_result"
    },
    {
     "data": {
      "image/png": "[encoded data removed]",
      "text/plain": [
       "<Figure size 432x288 with 1 Axes>"
      ]
     },
     "metadata": {
      "needs_background": "light"
     },
     "output_type": "display_data"
    }
   ],
   "source": [
    "plt.plot(beta,loss)"
   ]
  },
  {
   "cell_type": "markdown",
   "id": "2cc8d193-d0d1-4441-94c7-03cf3c461b45",
   "metadata": {},
   "source": [
    "#### 왼쪽/오른쪽중에 어디로 갈지 어떻게 판단하는 과정을 수식화?"
   ]
  },
  {
   "cell_type": "markdown",
   "id": "a4e370e4-d132-4f34-bb16-7ba9ce09b9f1",
   "metadata": {},
   "source": [
    "`-` 아래와 같이 해석가능 \n",
    "\n",
    "- 오른쪽으로 0.01 간다 = beta_old에 0.01을 더함. (if, 미분계수가 음수) \n",
    "- 왼쪽으로 0.01 간다. = beta_old에 0.01을 뺀다. (if, 미분계수가 양수) "
   ]
  },
  {
   "cell_type": "markdown",
   "id": "577a28d4-c22b-4779-b28f-76e7731d31a5",
   "metadata": {},
   "source": [
    "`-` 그렇다면 \n",
    "$\\beta_{new} = \n",
    "\\begin{cases}\n",
    "\\beta_{old} + 0.01, & loss'(\\beta_{old})< 0  \\\\ \n",
    "\\beta_{old} - 0.01, & loss'(\\beta_{old})> 0 \n",
    "\\end{cases}\n",
    "$"
   ]
  },
  {
   "cell_type": "markdown",
   "id": "a0647403-dbd6-4bcf-8c8b-162177997a40",
   "metadata": {},
   "source": [
    "#### 혹시 알고리즘을 좀 개선할수 있을까?"
   ]
  },
  {
   "cell_type": "markdown",
   "id": "d00e86f2-624b-4019-8018-8226dcc11e33",
   "metadata": {},
   "source": [
    "`-` 항상 0.01씩 움직여야 하는가? "
   ]
  },
  {
   "cell_type": "code",
   "execution_count": 57,
   "id": "e7ba5b5e-277e-444b-a6ef-9e5f8a1cd8b5",
   "metadata": {},
   "outputs": [
    {
     "data": {
      "text/plain": [
       "[<matplotlib.lines.Line2D at 0x7f69383efd90>]"
      ]
     },
     "execution_count": 57,
     "metadata": {},
     "output_type": "execute_result"
    },
    {
     "data": {
      "image/png": "[encoded data removed]",
      "text/plain": [
       "<Figure size 432x288 with 1 Axes>"
      ]
     },
     "metadata": {
      "needs_background": "light"
     },
     "output_type": "display_data"
    }
   ],
   "source": [
    "plt.plot(beta,loss)"
   ]
  },
  {
   "cell_type": "markdown",
   "id": "19784e62-0182-4adc-8e57-1a8bda7367c9",
   "metadata": {},
   "source": [
    "`-` $\\beta=-10$ 일 경우의 접선의 기울기? $\\beta=-4$ 일때 접선의 기울기?\n",
    "\n",
    "- $\\beta=-10$ => 기울기는 -6 \n",
    "- $\\beta=-4$ => 기울기는 -3 "
   ]
  },
  {
   "cell_type": "markdown",
   "id": "32714574-8b84-4ddb-96f0-46d2a8828c43",
   "metadata": {},
   "source": [
    "`-` 실제로 6,3씩 이동할순 없으니 적당한 $\\alpha$ (예를들면 $\\alpha=0.01$) 를 잡아서 곱한만큼 이동하자. "
   ]
  },
  {
   "cell_type": "markdown",
   "id": "fb9e0792-cd06-40cc-be38-555f378494e6",
   "metadata": {},
   "source": [
    "`-` 수식화하면 \n",
    "\n",
    "- $\\beta_{new} = \\beta_{old} - \\alpha~ loss'(\\beta_{old})$ \n",
    "- $\\beta_{new} = \\beta_{old} - \\alpha~ \\left[\\frac{\\partial}{\\partial \\beta }loss(\\beta)\\right]_{\\beta=\\beta_{old}}$ "
   ]
  },
  {
   "cell_type": "markdown",
   "id": "188bd65b-9dc6-421b-9605-56ba28b02a2b",
   "metadata": {},
   "source": [
    "`-` $\\alpha$의 의미\n",
    "- $\\alpha$가 크면 크게크게 움직이고 작으면 작게작게 움직인다. \n",
    "- $\\alpha>0$ 이어야 한다. "
   ]
  },
  {
   "cell_type": "markdown",
   "id": "2b4a1de3-6c6b-457c-9907-a3c8c23bebb5",
   "metadata": {},
   "source": [
    "#### 구현코드 "
   ]
  },
  {
   "cell_type": "markdown",
   "id": "7cba94b5-1e2b-46c8-ac6b-c31e26d385c1",
   "metadata": {},
   "source": [
    "`-` **iter 1**"
   ]
  },
  {
   "cell_type": "markdown",
   "id": "31f694ab-9cce-4d4f-a95e-3d87db2c57a9",
   "metadata": {},
   "source": [
    "$\\beta=-10$이라고 하자. "
   ]
  },
  {
   "cell_type": "code",
   "execution_count": 59,
   "id": "fa5a5ca7-66a2-4e33-a03d-5f449a1731fb",
   "metadata": {},
   "outputs": [],
   "source": [
    "beta = tf.Variable(-10.0) "
   ]
  },
  {
   "cell_type": "code",
   "execution_count": 60,
   "id": "965ff2bb-ef01-4345-a534-d2018514a50c",
   "metadata": {},
   "outputs": [],
   "source": [
    "with tf.GradientTape(persistent=True) as tape: \n",
    "    loss = (beta/2-1)**2 "
   ]
  },
  {
   "cell_type": "code",
   "execution_count": 61,
   "id": "d8ebd6b2-5b0f-4aef-a3ce-08eef111cd56",
   "metadata": {},
   "outputs": [
    {
     "data": {
      "text/plain": [
       "<tf.Tensor: shape=(), dtype=float32, numpy=-6.0>"
      ]
     },
     "execution_count": 61,
     "metadata": {},
     "output_type": "execute_result"
    }
   ],
   "source": [
    "tape.gradient(loss,beta)"
   ]
  },
  {
   "cell_type": "markdown",
   "id": "0b192fa8-a622-494c-b026-dd9960472428",
   "metadata": {},
   "source": [
    "$\\beta = -10$ 에서 0.01만큼 움직이고 싶음 "
   ]
  },
  {
   "cell_type": "code",
   "execution_count": 62,
   "id": "3ffc5d1d-f1e6-4901-938a-c6631ea0fb98",
   "metadata": {},
   "outputs": [],
   "source": [
    "alpha= 0.01/6"
   ]
  },
  {
   "cell_type": "code",
   "execution_count": 63,
   "id": "a361edbd-56a9-4f4e-b5a2-701011f8c7a7",
   "metadata": {},
   "outputs": [
    {
     "data": {
      "text/plain": [
       "<tf.Tensor: shape=(), dtype=float32, numpy=-0.01>"
      ]
     },
     "execution_count": 63,
     "metadata": {},
     "output_type": "execute_result"
    }
   ],
   "source": [
    "alpha * tape.gradient(loss,beta)"
   ]
  },
  {
   "cell_type": "code",
   "execution_count": 65,
   "id": "422e7355-8350-498b-8720-9d76d41d9e12",
   "metadata": {},
   "outputs": [
    {
     "data": {
      "text/plain": [
       "<tf.Variable 'UnreadVariable' shape=() dtype=float32, numpy=-9.99>"
      ]
     },
     "execution_count": 65,
     "metadata": {},
     "output_type": "execute_result"
    }
   ],
   "source": [
    "beta.assign_sub(alpha * tape.gradient(loss,beta))"
   ]
  },
  {
   "cell_type": "code",
   "execution_count": 66,
   "id": "0733faa1-bbb7-406c-a676-d4fd61b94215",
   "metadata": {},
   "outputs": [
    {
     "data": {
      "text/plain": [
       "<tf.Variable 'Variable:0' shape=() dtype=float32, numpy=-9.99>"
      ]
     },
     "execution_count": 66,
     "metadata": {},
     "output_type": "execute_result"
    }
   ],
   "source": [
    "beta"
   ]
  },
  {
   "cell_type": "markdown",
   "id": "4540e93f-d8c2-44a3-9329-7c050c4b50eb",
   "metadata": {},
   "source": [
    "`-` **iter2**"
   ]
  },
  {
   "cell_type": "code",
   "execution_count": 67,
   "id": "62711499-8636-40ca-bf9f-e6006a369e51",
   "metadata": {},
   "outputs": [],
   "source": [
    "with tf.GradientTape(persistent=True) as tape: \n",
    "    loss = (beta/2-1)**2 "
   ]
  },
  {
   "cell_type": "code",
   "execution_count": 69,
   "id": "a867351c-c39e-4f8c-a23b-96a8e8db771b",
   "metadata": {},
   "outputs": [
    {
     "data": {
      "text/plain": [
       "<tf.Variable 'UnreadVariable' shape=() dtype=float32, numpy=-9.980008>"
      ]
     },
     "execution_count": 69,
     "metadata": {},
     "output_type": "execute_result"
    }
   ],
   "source": [
    "beta.assign_sub(tape.gradient(loss,beta)*alpha)"
   ]
  },
  {
   "cell_type": "markdown",
   "id": "7741381f-8807-48a3-90f0-40558c2d94ff",
   "metadata": {},
   "source": [
    "`-` for 문을 이용하자.  "
   ]
  },
  {
   "cell_type": "markdown",
   "id": "387bacce-db04-49b1-b863-59e9cf6cef87",
   "metadata": {},
   "source": [
    "(강의용) "
   ]
  },
  {
   "cell_type": "code",
   "execution_count": 74,
   "id": "c8c3467b-8356-4dee-828b-876d8508abf6",
   "metadata": {},
   "outputs": [],
   "source": [
    "beta = tf.Variable(-10.0) "
   ]
  },
  {
   "cell_type": "code",
   "execution_count": 75,
   "id": "23cffeba-30e8-48de-b2f4-6735d5fd0b17",
   "metadata": {},
   "outputs": [],
   "source": [
    "for k in range(10000): \n",
    "    with tf.GradientTape(persistent=True) as tape: \n",
    "        loss = (beta/2-1)**2 \n",
    "    beta.assign_sub(tape.gradient(loss,beta)*alpha)"
   ]
  },
  {
   "cell_type": "code",
   "execution_count": 76,
   "id": "a144a26b-29de-41d0-a127-54638ef6ea0f",
   "metadata": {},
   "outputs": [
    {
     "data": {
      "text/plain": [
       "<tf.Variable 'Variable:0' shape=() dtype=float32, numpy=1.997125>"
      ]
     },
     "execution_count": 76,
     "metadata": {},
     "output_type": "execute_result"
    }
   ],
   "source": [
    "beta"
   ]
  },
  {
   "cell_type": "markdown",
   "id": "af880867-51bd-4ece-88cc-446e87230ce0",
   "metadata": {},
   "source": [
    "(시도1)"
   ]
  },
  {
   "cell_type": "code",
   "execution_count": 77,
   "id": "aca836e0-05eb-44ef-8075-066727163930",
   "metadata": {},
   "outputs": [],
   "source": [
    "beta = tf.Variable(-10.0) "
   ]
  },
  {
   "cell_type": "code",
   "execution_count": 78,
   "id": "643dc9f0-a28c-4bfe-a753-f0ceb6bae651",
   "metadata": {},
   "outputs": [],
   "source": [
    "for k in range(100): \n",
    "    with tf.GradientTape(persistent=True) as tape: \n",
    "        loss = (beta/2-1)**2 \n",
    "    beta.assign_sub(tape.gradient(loss,beta)*alpha)"
   ]
  },
  {
   "cell_type": "code",
   "execution_count": 79,
   "id": "8d78bec1-03dc-4daa-868d-b01bd4f69939",
   "metadata": {},
   "outputs": [
    {
     "data": {
      "text/plain": [
       "<tf.Variable 'Variable:0' shape=() dtype=float32, numpy=-9.040152>"
      ]
     },
     "execution_count": 79,
     "metadata": {},
     "output_type": "execute_result"
    }
   ],
   "source": [
    "beta"
   ]
  },
  {
   "cell_type": "markdown",
   "id": "b33694ee-c979-4fce-9c3a-d244c8953404",
   "metadata": {},
   "source": [
    "(시도2)"
   ]
  },
  {
   "cell_type": "code",
   "execution_count": 80,
   "id": "67ad9330-839d-4459-8b92-3dc0a3b405cb",
   "metadata": {},
   "outputs": [],
   "source": [
    "beta = tf.Variable(-10.0) "
   ]
  },
  {
   "cell_type": "code",
   "execution_count": 81,
   "id": "58838059-bb85-427b-b96a-bc73dae9d782",
   "metadata": {},
   "outputs": [],
   "source": [
    "for k in range(1000): \n",
    "    with tf.GradientTape(persistent=True) as tape: \n",
    "        loss = (beta/2-1)**2 \n",
    "    beta.assign_sub(tape.gradient(loss,beta)*alpha)"
   ]
  },
  {
   "cell_type": "code",
   "execution_count": 82,
   "id": "52c70f85-7695-4cfd-80a5-3a5846c17d8f",
   "metadata": {},
   "outputs": [
    {
     "data": {
      "text/plain": [
       "<tf.Variable 'Variable:0' shape=() dtype=float32, numpy=-3.2133687>"
      ]
     },
     "execution_count": 82,
     "metadata": {},
     "output_type": "execute_result"
    }
   ],
   "source": [
    "beta"
   ]
  },
  {
   "cell_type": "markdown",
   "id": "ae495352-aed4-4ecb-87fa-c04e93cf9a68",
   "metadata": {},
   "source": [
    "`-` 너무 느린 것 같다? $\\to$ $\\alpha$를 키워보자!"
   ]
  },
  {
   "cell_type": "markdown",
   "id": "d9b46b9e-2b52-4150-b27d-0d3ca503a113",
   "metadata": {},
   "source": [
    "#### 학습률 "
   ]
  },
  {
   "cell_type": "markdown",
   "id": "0fbed905-4dc4-4ba7-920c-4d0b1ae64eb6",
   "metadata": {},
   "source": [
    "`-` $\\alpha$에 따라서 수렴과정이 어떻게 달라지는 시각화해보자. "
   ]
  },
  {
   "cell_type": "markdown",
   "id": "b7bc1884-f99d-446c-9260-ebf41f9b6541",
   "metadata": {},
   "source": [
    "##### [시각화 코드 예비학습] "
   ]
  },
  {
   "cell_type": "code",
   "execution_count": 130,
   "id": "7a678fda-1dad-4157-9020-3d09f7ee6a22",
   "metadata": {},
   "outputs": [
    {
     "data": {
      "text/plain": [
       "<Figure size 432x288 with 0 Axes>"
      ]
     },
     "metadata": {},
     "output_type": "display_data"
    }
   ],
   "source": [
    "fig = plt.figure() # 도화지가 만들어지고 fig라는 이름을 붙인다. "
   ]
  },
  {
   "cell_type": "code",
   "execution_count": 131,
   "id": "11c2aad9-3365-46c5-b1a3-ea1ef9e9234a",
   "metadata": {},
   "outputs": [],
   "source": [
    "ax = fig.add_subplot() # fig는 ax라는 물체를 만든다. "
   ]
  },
  {
   "cell_type": "code",
   "execution_count": 132,
   "id": "701ca296-cdb3-403a-b648-c48b2d899f85",
   "metadata": {},
   "outputs": [
    {
     "data": {
      "text/plain": [
       "140064801700208"
      ]
     },
     "execution_count": 132,
     "metadata": {},
     "output_type": "execute_result"
    }
   ],
   "source": [
    "id(fig.axes[0])"
   ]
  },
  {
   "cell_type": "code",
   "execution_count": 133,
   "id": "5883f648-5974-4f86-8a40-ea85a779e80b",
   "metadata": {},
   "outputs": [
    {
     "data": {
      "text/plain": [
       "140064801700208"
      ]
     },
     "execution_count": 133,
     "metadata": {},
     "output_type": "execute_result"
    }
   ],
   "source": [
    "id(ax)"
   ]
  },
  {
   "cell_type": "code",
   "execution_count": 134,
   "id": "ea0cfe90-317c-44d4-9367-9809bc1e565a",
   "metadata": {},
   "outputs": [
    {
     "data": {
      "text/plain": [
       "<matplotlib.lines.Line2D at 0x7f63605e3580>"
      ]
     },
     "execution_count": 134,
     "metadata": {},
     "output_type": "execute_result"
    }
   ],
   "source": [
    "pnts, = ax.plot([1,2,3],[4,5,6],'or')\n",
    "pnts"
   ]
  },
  {
   "cell_type": "code",
   "execution_count": 135,
   "id": "7dcd43c2-6124-4c5e-b136-051eed5a9c09",
   "metadata": {},
   "outputs": [
    {
     "data": {
      "text/plain": [
       "array([1, 2, 3])"
      ]
     },
     "execution_count": 135,
     "metadata": {},
     "output_type": "execute_result"
    }
   ],
   "source": [
    "pnts.get_xdata()"
   ]
  },
  {
   "cell_type": "code",
   "execution_count": 136,
   "id": "a22a16ca-86b4-4d37-a66a-2b36d05fd041",
   "metadata": {},
   "outputs": [
    {
     "data": {
      "text/plain": [
       "array([4, 5, 6])"
      ]
     },
     "execution_count": 136,
     "metadata": {},
     "output_type": "execute_result"
    }
   ],
   "source": [
    "pnts.get_ydata()"
   ]
  },
  {
   "cell_type": "code",
   "execution_count": 137,
   "id": "9b0d14b6-941e-42b7-a602-83a07c3b3ada",
   "metadata": {},
   "outputs": [
    {
     "data": {
      "image/png": "[encoded data removed]",
      "text/plain": [
       "<Figure size 432x288 with 1 Axes>"
      ]
     },
     "execution_count": 137,
     "metadata": {},
     "output_type": "execute_result"
    }
   ],
   "source": [
    "fig"
   ]
  },
  {
   "cell_type": "code",
   "execution_count": 138,
   "id": "ee661d7c-ebac-44f7-b3f9-ed93f290da28",
   "metadata": {},
   "outputs": [],
   "source": [
    "pnts.set_ydata([5,5,5])"
   ]
  },
  {
   "cell_type": "code",
   "execution_count": 139,
   "id": "30473b14-9341-4b35-a883-56d516fa4229",
   "metadata": {},
   "outputs": [
    {
     "data": {
      "text/plain": [
       "[5, 5, 5]"
      ]
     },
     "execution_count": 139,
     "metadata": {},
     "output_type": "execute_result"
    }
   ],
   "source": [
    "pnts.get_ydata()"
   ]
  },
  {
   "cell_type": "code",
   "execution_count": 140,
   "id": "9adf2d6a-7637-4ab2-acae-fd387e1033e1",
   "metadata": {},
   "outputs": [
    {
     "data": {
      "image/png": "[encoded data removed]",
      "text/plain": [
       "<Figure size 432x288 with 1 Axes>"
      ]
     },
     "execution_count": 140,
     "metadata": {},
     "output_type": "execute_result"
    }
   ],
   "source": [
    "fig"
   ]
  },
  {
   "cell_type": "markdown",
   "id": "3a363e2b-be0f-443f-b515-e6a98f342ccb",
   "metadata": {},
   "source": [
    "`-` 응용 "
   ]
  },
  {
   "cell_type": "code",
   "execution_count": 143,
   "id": "1b38d7b5-1e11-4f72-bab8-89b024d657ad",
   "metadata": {},
   "outputs": [],
   "source": [
    "## 20분 "
   ]
  },
  {
   "cell_type": "code",
   "execution_count": null,
   "id": "3df59ce6-bc19-41cf-bd2c-c5c8a846777e",
   "metadata": {},
   "outputs": [],
   "source": []
  }
 ],
 "metadata": {
  "kernelspec": {
   "display_name": "Python 3 (ipykernel)",
   "language": "python",
   "name": "python3"
  },
  "language_info": {
   "codemirror_mode": {
    "name": "ipython",
    "version": 3
   },
   "file_extension": ".py",
   "mimetype": "text/x-python",
   "name": "python",
   "nbconvert_exporter": "python",
   "pygments_lexer": "ipython3",
   "version": "3.10.0"
  }
 },
 "nbformat": 4,
 "nbformat_minor": 5
}
