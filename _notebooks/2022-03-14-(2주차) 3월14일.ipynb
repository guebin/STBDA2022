{
 "cells": [
  {
   "cell_type": "markdown",
   "id": "904c2d8f-accf-4a4a-86b3-e9a6361ba29a",
   "metadata": {},
   "source": [
    "# (2주차) 3월14일, draft\n",
    "\n",
    "- toc:true\n",
    "- branch: master\n",
    "- badges: true\n",
    "- comments: true\n",
    "- author: 최규빈"
   ]
  },
  {
   "cell_type": "code",
   "execution_count": 1,
   "id": "e18d4288-4668-45c2-a66f-5bb76f5b9ca2",
   "metadata": {},
   "outputs": [],
   "source": [
    "import tensorflow as tf\n",
    "import numpy as np"
   ]
  },
  {
   "cell_type": "code",
   "execution_count": 2,
   "id": "c4a78936-73df-4a20-8041-0d76aa07fd0f",
   "metadata": {},
   "outputs": [
    {
     "name": "stderr",
     "output_type": "stream",
     "text": [
      "2022-03-14 19:12:57.243901: I tensorflow/stream_executor/cuda/cuda_gpu_executor.cc:939] successful NUMA node read from SysFS had negative value (-1), but there must be at least one NUMA node, so returning NUMA node zero\n"
     ]
    },
    {
     "data": {
      "text/plain": [
       "[PhysicalDevice(name='/physical_device:GPU:0', device_type='GPU')]"
      ]
     },
     "execution_count": 2,
     "metadata": {},
     "output_type": "execute_result"
    }
   ],
   "source": [
    "tf.config.experimental.list_physical_devices('GPU')"
   ]
  },
  {
   "cell_type": "markdown",
   "id": "1f7d8172-8b82-4777-b922-aa46ea9e5a48",
   "metadata": {},
   "source": [
    "### tf.constant "
   ]
  },
  {
   "cell_type": "markdown",
   "id": "19d1b4f6-91ae-4638-b332-103dadaf6473",
   "metadata": {},
   "source": [
    "#### 예비학습: 중첩리스트 "
   ]
  },
  {
   "cell_type": "markdown",
   "id": "988425c2-1d49-456f-946b-c7e770458016",
   "metadata": {},
   "source": [
    "`-` 리스트"
   ]
  },
  {
   "cell_type": "code",
   "execution_count": 7,
   "id": "8ce62ead-2002-4e4c-b9c6-faef7c87e3a9",
   "metadata": {},
   "outputs": [
    {
     "data": {
      "text/plain": [
       "[1, 2, 4, 5, 6]"
      ]
     },
     "execution_count": 7,
     "metadata": {},
     "output_type": "execute_result"
    }
   ],
   "source": [
    "lst = [1,2,4,5,6]\n",
    "lst "
   ]
  },
  {
   "cell_type": "code",
   "execution_count": 8,
   "id": "640326fb-ac17-4f52-8fb6-f10d15dfc8c2",
   "metadata": {},
   "outputs": [
    {
     "data": {
      "text/plain": [
       "2"
      ]
     },
     "execution_count": 8,
     "metadata": {},
     "output_type": "execute_result"
    }
   ],
   "source": [
    "lst[1] # 두번쨰원소 "
   ]
  },
  {
   "cell_type": "code",
   "execution_count": 10,
   "id": "c8e2ee14-9ae9-4e4c-8995-f935bd33cbe2",
   "metadata": {},
   "outputs": [
    {
     "data": {
      "text/plain": [
       "6"
      ]
     },
     "execution_count": 10,
     "metadata": {},
     "output_type": "execute_result"
    }
   ],
   "source": [
    "lst[-1] # 마지막원소 "
   ]
  },
  {
   "cell_type": "markdown",
   "id": "6d2dbe9f-74c2-455a-afb0-341aebc9531a",
   "metadata": {},
   "source": [
    "`-` (2,2) matrix 느낌의 list"
   ]
  },
  {
   "cell_type": "code",
   "execution_count": 16,
   "id": "94f4135c-5c14-4145-8c29-5a91f3d6bf62",
   "metadata": {},
   "outputs": [
    {
     "data": {
      "text/plain": [
       "[[1, 2], [3, 4]]"
      ]
     },
     "execution_count": 16,
     "metadata": {},
     "output_type": "execute_result"
    }
   ],
   "source": [
    "lst= [[1,2],[3,4]]\n",
    "lst"
   ]
  },
  {
   "cell_type": "markdown",
   "id": "eec78e89-0206-487f-a7b9-ef3c0785fb7d",
   "metadata": {},
   "source": [
    "위를 아래와 같은 매트릭스로 생각할수 있다. \n",
    "\n",
    "```\n",
    "1 2 \n",
    "3 4 \n",
    "```"
   ]
  },
  {
   "cell_type": "code",
   "execution_count": 22,
   "id": "1633ffe1-7530-4f4b-9b83-d63288f62776",
   "metadata": {},
   "outputs": [
    {
     "name": "stdout",
     "output_type": "stream",
     "text": [
      "1\n",
      "2\n",
      "3\n",
      "4\n"
     ]
    }
   ],
   "source": [
    "print(lst[0][0]) # (1,1) \n",
    "print(lst[0][1]) # (1,2) \n",
    "print(lst[1][0]) # (2,1) \n",
    "print(lst[1][1]) # (2,2) "
   ]
  },
  {
   "cell_type": "markdown",
   "id": "94ad7902-0710-4d6e-8bc1-490a3033b3b4",
   "metadata": {},
   "source": [
    "`-` (4,1) matrix 느낌의 list "
   ]
  },
  {
   "cell_type": "code",
   "execution_count": 28,
   "id": "c85cff1f-ee24-495a-98bf-6ca14b2fad7c",
   "metadata": {},
   "outputs": [
    {
     "data": {
      "text/plain": [
       "[[1], [2], [3], [4]]"
      ]
     },
     "execution_count": 28,
     "metadata": {},
     "output_type": "execute_result"
    }
   ],
   "source": [
    "lst=[[1],[2],[3],[4]] # (4,1) matrix = 길이가 4인 col-vector\n",
    "lst"
   ]
  },
  {
   "cell_type": "markdown",
   "id": "74c7d4ca-1ce1-4eb6-ac69-9cd62e736f37",
   "metadata": {},
   "source": [
    "`-` (1,4) matrix 느낌의 list "
   ]
  },
  {
   "cell_type": "code",
   "execution_count": 36,
   "id": "5e1a530e-afa6-430d-b7bd-ff78958483bc",
   "metadata": {},
   "outputs": [
    {
     "data": {
      "text/plain": [
       "[[1, 2, 3, 4]]"
      ]
     },
     "execution_count": 36,
     "metadata": {},
     "output_type": "execute_result"
    }
   ],
   "source": [
    "lst=[[1,2,3,4]] # (1,4) matrix = 길이가 4인 row-vector \n",
    "lst"
   ]
  },
  {
   "cell_type": "markdown",
   "id": "6a4dd379-e9c5-4e5d-a3ec-c2383ae1ac56",
   "metadata": {},
   "source": [
    "#### 선언"
   ]
  },
  {
   "cell_type": "markdown",
   "id": "679e7366-50a9-4034-87b4-962d1aa64090",
   "metadata": {},
   "source": [
    "`-` 스칼라 "
   ]
  },
  {
   "cell_type": "code",
   "execution_count": 39,
   "id": "43e60a45-17d6-4d2e-809a-9efe4ebec72c",
   "metadata": {},
   "outputs": [
    {
     "data": {
      "text/plain": [
       "<tf.Tensor: shape=(), dtype=float32, numpy=3.14>"
      ]
     },
     "execution_count": 39,
     "metadata": {},
     "output_type": "execute_result"
    }
   ],
   "source": [
    "tf.constant(3.14)"
   ]
  },
  {
   "cell_type": "code",
   "execution_count": 40,
   "id": "df80b9d7-4cc8-42d1-a32c-503170307103",
   "metadata": {},
   "outputs": [
    {
     "data": {
      "text/plain": [
       "<tf.Tensor: shape=(), dtype=float32, numpy=6.28>"
      ]
     },
     "execution_count": 40,
     "metadata": {},
     "output_type": "execute_result"
    }
   ],
   "source": [
    "tf.constant(3.14)+tf.constant(3.14)"
   ]
  },
  {
   "cell_type": "markdown",
   "id": "82978720-7a2d-4e6a-a601-1c983ba2156b",
   "metadata": {},
   "source": [
    "`-` 벡터"
   ]
  },
  {
   "cell_type": "code",
   "execution_count": 43,
   "id": "3501b056-7453-4904-96cd-d1fdb58bbc37",
   "metadata": {},
   "outputs": [],
   "source": [
    "_vector=tf.constant([1,2,3])"
   ]
  },
  {
   "cell_type": "code",
   "execution_count": 46,
   "id": "489f0cf0-2ca4-4e9c-8d15-8a7d9b907788",
   "metadata": {},
   "outputs": [
    {
     "data": {
      "text/plain": [
       "<tf.Tensor: shape=(), dtype=int32, numpy=3>"
      ]
     },
     "execution_count": 46,
     "metadata": {},
     "output_type": "execute_result"
    }
   ],
   "source": [
    "_vector[-1]"
   ]
  },
  {
   "cell_type": "markdown",
   "id": "b66e0cca-27d7-4891-89b8-82dee75a0176",
   "metadata": {},
   "source": [
    "`-` 매트릭스"
   ]
  },
  {
   "cell_type": "code",
   "execution_count": 48,
   "id": "2f85c204-a946-4b36-b843-0a46cdefba76",
   "metadata": {},
   "outputs": [
    {
     "data": {
      "text/plain": [
       "<tf.Tensor: shape=(2, 2), dtype=int32, numpy=\n",
       "array([[1, 0],\n",
       "       [0, 1]], dtype=int32)>"
      ]
     },
     "execution_count": 48,
     "metadata": {},
     "output_type": "execute_result"
    }
   ],
   "source": [
    "_matrix= tf.constant([[1,0],[0,1]])\n",
    "_matrix"
   ]
  },
  {
   "cell_type": "markdown",
   "id": "9707518f-e69e-4734-a1cb-70bbf11697b0",
   "metadata": {},
   "source": [
    "`-` array"
   ]
  },
  {
   "cell_type": "code",
   "execution_count": 53,
   "id": "d1e10f35-6e03-4ca2-8c06-dcb691cde56c",
   "metadata": {},
   "outputs": [
    {
     "data": {
      "text/plain": [
       "<tf.Tensor: shape=(2, 2, 3), dtype=int32, numpy=\n",
       "array([[[ 0,  1,  1],\n",
       "        [ 1,  2, -1]],\n",
       "\n",
       "       [[ 0,  1,  2],\n",
       "        [ 1,  2, -1]]], dtype=int32)>"
      ]
     },
     "execution_count": 53,
     "metadata": {},
     "output_type": "execute_result"
    }
   ],
   "source": [
    "tf.constant([[[0,1,1],[1,2,-1]],[[0,1,2],[1,2,-1]]])"
   ]
  },
  {
   "cell_type": "markdown",
   "id": "db79211f-706f-4388-9e10-6b057ec840fb",
   "metadata": {},
   "source": [
    "#### 타입"
   ]
  },
  {
   "cell_type": "code",
   "execution_count": 54,
   "id": "6fbb7e42-32dc-452e-97f1-eb8f4cd7e53d",
   "metadata": {},
   "outputs": [
    {
     "data": {
      "text/plain": [
       "tensorflow.python.framework.ops.EagerTensor"
      ]
     },
     "execution_count": 54,
     "metadata": {},
     "output_type": "execute_result"
    }
   ],
   "source": [
    "type(tf.constant(3.14))"
   ]
  },
  {
   "cell_type": "markdown",
   "id": "f06b1e19-16d1-4667-b881-5aabf63c84d9",
   "metadata": {},
   "source": [
    "#### 인덱싱 "
   ]
  },
  {
   "cell_type": "code",
   "execution_count": 55,
   "id": "1843d446-7d13-449a-a49a-f7863d452ef8",
   "metadata": {},
   "outputs": [
    {
     "data": {
      "text/plain": [
       "<tf.Tensor: shape=(2, 2), dtype=int32, numpy=\n",
       "array([[1, 2],\n",
       "       [3, 4]], dtype=int32)>"
      ]
     },
     "execution_count": 55,
     "metadata": {},
     "output_type": "execute_result"
    }
   ],
   "source": [
    "_matrix = tf.constant([[1,2],[3,4]])\n",
    "_matrix"
   ]
  },
  {
   "cell_type": "code",
   "execution_count": 56,
   "id": "607a83e5-ac70-407d-9246-8fa650d16e2f",
   "metadata": {},
   "outputs": [
    {
     "data": {
      "text/plain": [
       "<tf.Tensor: shape=(), dtype=int32, numpy=1>"
      ]
     },
     "execution_count": 56,
     "metadata": {},
     "output_type": "execute_result"
    }
   ],
   "source": [
    "_matrix[0][0]"
   ]
  },
  {
   "cell_type": "code",
   "execution_count": 57,
   "id": "0b78e746-e6ac-4d19-a9ea-825abdfbbf28",
   "metadata": {},
   "outputs": [
    {
     "data": {
      "text/plain": [
       "<tf.Tensor: shape=(2,), dtype=int32, numpy=array([1, 2], dtype=int32)>"
      ]
     },
     "execution_count": 57,
     "metadata": {},
     "output_type": "execute_result"
    }
   ],
   "source": [
    "_matrix[0]"
   ]
  },
  {
   "cell_type": "code",
   "execution_count": 61,
   "id": "64cc08c4-088c-4e16-9be1-98395e7075b6",
   "metadata": {},
   "outputs": [
    {
     "data": {
      "text/plain": [
       "<tf.Tensor: shape=(2,), dtype=int32, numpy=array([1, 2], dtype=int32)>"
      ]
     },
     "execution_count": 61,
     "metadata": {},
     "output_type": "execute_result"
    }
   ],
   "source": [
    "_matrix[0,:]"
   ]
  },
  {
   "cell_type": "code",
   "execution_count": 62,
   "id": "1aaa7862-1ccc-4f48-bc0d-191a95ef773b",
   "metadata": {},
   "outputs": [
    {
     "data": {
      "text/plain": [
       "<tf.Tensor: shape=(2,), dtype=int32, numpy=array([1, 3], dtype=int32)>"
      ]
     },
     "execution_count": 62,
     "metadata": {},
     "output_type": "execute_result"
    }
   ],
   "source": [
    "_matrix[:,0]"
   ]
  },
  {
   "cell_type": "markdown",
   "id": "cebc2e49-6c71-47bf-a884-e8556c3198cf",
   "metadata": {},
   "source": [
    "#### tf.constant는 불편하다. "
   ]
  },
  {
   "cell_type": "markdown",
   "id": "3f0d5c88-8aeb-4163-a0e8-a04c26ebd64e",
   "metadata": {},
   "source": [
    "`-` 불편한점\n",
    "1. 모든 원소가 같은 dtype을 가지고 있어야함. \n",
    "2. 원소 수정이 불가능함. \n",
    "3. 묵시적 형변환이 불가능하다. "
   ]
  },
  {
   "cell_type": "markdown",
   "id": "665ca8fb-0d51-44cc-aac9-f8884808f78f",
   "metadata": {},
   "source": [
    "`-` 원소수정이 불가능함 "
   ]
  },
  {
   "cell_type": "code",
   "execution_count": 63,
   "id": "0e82d6a5-9004-44be-b50e-5ffbe8384597",
   "metadata": {},
   "outputs": [
    {
     "data": {
      "text/plain": [
       "<tf.Tensor: shape=(3,), dtype=int32, numpy=array([ 1, 22, 33], dtype=int32)>"
      ]
     },
     "execution_count": 63,
     "metadata": {},
     "output_type": "execute_result"
    }
   ],
   "source": [
    "a=tf.constant([1,22,33])\n",
    "a"
   ]
  },
  {
   "cell_type": "code",
   "execution_count": 65,
   "id": "5fc80571-5c93-498c-bc68-1f7e8c14d238",
   "metadata": {},
   "outputs": [
    {
     "ename": "TypeError",
     "evalue": "'tensorflow.python.framework.ops.EagerTensor' object does not support item assignment",
     "output_type": "error",
     "traceback": [
      "\u001b[0;31m---------------------------------------------------------------------------\u001b[0m",
      "\u001b[0;31mTypeError\u001b[0m                                 Traceback (most recent call last)",
      "Input \u001b[0;32mIn [65]\u001b[0m, in \u001b[0;36m<cell line: 1>\u001b[0;34m()\u001b[0m\n\u001b[0;32m----> 1\u001b[0m a[\u001b[38;5;241m0\u001b[39m]\u001b[38;5;241m=\u001b[39m\u001b[38;5;241m11\u001b[39m\n",
      "\u001b[0;31mTypeError\u001b[0m: 'tensorflow.python.framework.ops.EagerTensor' object does not support item assignment"
     ]
    }
   ],
   "source": [
    "a[0]=11"
   ]
  },
  {
   "cell_type": "markdown",
   "id": "d2c51e51-36ed-4453-afd6-f2b9029fa0d1",
   "metadata": {},
   "source": [
    "`-` 묵시적 형변환이 불가능하다 "
   ]
  },
  {
   "cell_type": "code",
   "execution_count": 74,
   "id": "30a9382d-cb1a-4e3f-ab24-7870d0b77b5a",
   "metadata": {},
   "outputs": [
    {
     "ename": "InvalidArgumentError",
     "evalue": "cannot compute AddV2 as input #1(zero-based) was expected to be a int32 tensor but is a float tensor [Op:AddV2]",
     "output_type": "error",
     "traceback": [
      "\u001b[0;31m---------------------------------------------------------------------------\u001b[0m",
      "\u001b[0;31mInvalidArgumentError\u001b[0m                      Traceback (most recent call last)",
      "Input \u001b[0;32mIn [74]\u001b[0m, in \u001b[0;36m<cell line: 1>\u001b[0;34m()\u001b[0m\n\u001b[0;32m----> 1\u001b[0m \u001b[43mtf\u001b[49m\u001b[38;5;241;43m.\u001b[39;49m\u001b[43mconstant\u001b[49m\u001b[43m(\u001b[49m\u001b[38;5;241;43m1\u001b[39;49m\u001b[43m)\u001b[49m\u001b[38;5;241;43m+\u001b[39;49m\u001b[43mtf\u001b[49m\u001b[38;5;241;43m.\u001b[39;49m\u001b[43mconstant\u001b[49m\u001b[43m(\u001b[49m\u001b[38;5;241;43m3.14\u001b[39;49m\u001b[43m)\u001b[49m\n",
      "File \u001b[0;32m~/anaconda3/envs/py310/lib/python3.10/site-packages/tensorflow/python/util/traceback_utils.py:153\u001b[0m, in \u001b[0;36mfilter_traceback.<locals>.error_handler\u001b[0;34m(*args, **kwargs)\u001b[0m\n\u001b[1;32m    151\u001b[0m \u001b[38;5;28;01mexcept\u001b[39;00m \u001b[38;5;167;01mException\u001b[39;00m \u001b[38;5;28;01mas\u001b[39;00m e:\n\u001b[1;32m    152\u001b[0m   filtered_tb \u001b[38;5;241m=\u001b[39m _process_traceback_frames(e\u001b[38;5;241m.\u001b[39m__traceback__)\n\u001b[0;32m--> 153\u001b[0m   \u001b[38;5;28;01mraise\u001b[39;00m e\u001b[38;5;241m.\u001b[39mwith_traceback(filtered_tb) \u001b[38;5;28;01mfrom\u001b[39;00m \u001b[38;5;28mNone\u001b[39m\n\u001b[1;32m    154\u001b[0m \u001b[38;5;28;01mfinally\u001b[39;00m:\n\u001b[1;32m    155\u001b[0m   \u001b[38;5;28;01mdel\u001b[39;00m filtered_tb\n",
      "File \u001b[0;32m~/anaconda3/envs/py310/lib/python3.10/site-packages/tensorflow/python/framework/ops.py:7107\u001b[0m, in \u001b[0;36mraise_from_not_ok_status\u001b[0;34m(e, name)\u001b[0m\n\u001b[1;32m   7105\u001b[0m \u001b[38;5;28;01mdef\u001b[39;00m \u001b[38;5;21mraise_from_not_ok_status\u001b[39m(e, name):\n\u001b[1;32m   7106\u001b[0m   e\u001b[38;5;241m.\u001b[39mmessage \u001b[38;5;241m+\u001b[39m\u001b[38;5;241m=\u001b[39m (\u001b[38;5;124m\"\u001b[39m\u001b[38;5;124m name: \u001b[39m\u001b[38;5;124m\"\u001b[39m \u001b[38;5;241m+\u001b[39m name \u001b[38;5;28;01mif\u001b[39;00m name \u001b[38;5;129;01mis\u001b[39;00m \u001b[38;5;129;01mnot\u001b[39;00m \u001b[38;5;28;01mNone\u001b[39;00m \u001b[38;5;28;01melse\u001b[39;00m \u001b[38;5;124m\"\u001b[39m\u001b[38;5;124m\"\u001b[39m)\n\u001b[0;32m-> 7107\u001b[0m   \u001b[38;5;28;01mraise\u001b[39;00m core\u001b[38;5;241m.\u001b[39m_status_to_exception(e) \u001b[38;5;28;01mfrom\u001b[39;00m \u001b[38;5;28mNone\u001b[39m\n",
      "\u001b[0;31mInvalidArgumentError\u001b[0m: cannot compute AddV2 as input #1(zero-based) was expected to be a int32 tensor but is a float tensor [Op:AddV2]"
     ]
    }
   ],
   "source": [
    "tf.constant(1)+tf.constant(3.14)"
   ]
  },
  {
   "cell_type": "code",
   "execution_count": 75,
   "id": "253e4106-9c73-440e-ab39-470305770bf8",
   "metadata": {},
   "outputs": [
    {
     "data": {
      "text/plain": [
       "<tf.Tensor: shape=(), dtype=float32, numpy=4.1400003>"
      ]
     },
     "execution_count": 75,
     "metadata": {},
     "output_type": "execute_result"
    }
   ],
   "source": [
    "tf.constant(1.0)+tf.constant(3.14)"
   ]
  },
  {
   "cell_type": "markdown",
   "id": "51f12a82-3ffa-45ea-8718-fd78146a0e62",
   "metadata": {},
   "source": [
    "`-` 같은 float도 안되는 경우가 있음 "
   ]
  },
  {
   "cell_type": "code",
   "execution_count": 78,
   "id": "c4e854b9-7e32-4322-bb18-7634c6e71b1b",
   "metadata": {},
   "outputs": [
    {
     "data": {
      "text/plain": [
       "<tf.Tensor: shape=(), dtype=float64, numpy=1.0>"
      ]
     },
     "execution_count": 78,
     "metadata": {},
     "output_type": "execute_result"
    }
   ],
   "source": [
    "tf.constant(1.0,dtype=tf.float64)"
   ]
  },
  {
   "cell_type": "code",
   "execution_count": 79,
   "id": "71a0d05d-5190-4055-93d7-7c93903ab04a",
   "metadata": {},
   "outputs": [
    {
     "data": {
      "text/plain": [
       "<tf.Tensor: shape=(), dtype=float32, numpy=3.14>"
      ]
     },
     "execution_count": 79,
     "metadata": {},
     "output_type": "execute_result"
    }
   ],
   "source": [
    "tf.constant(3.14)"
   ]
  },
  {
   "cell_type": "code",
   "execution_count": 80,
   "id": "d95be72f-599e-42bc-a98a-1d39d4deedb2",
   "metadata": {},
   "outputs": [
    {
     "ename": "InvalidArgumentError",
     "evalue": "cannot compute AddV2 as input #1(zero-based) was expected to be a double tensor but is a float tensor [Op:AddV2]",
     "output_type": "error",
     "traceback": [
      "\u001b[0;31m---------------------------------------------------------------------------\u001b[0m",
      "\u001b[0;31mInvalidArgumentError\u001b[0m                      Traceback (most recent call last)",
      "Input \u001b[0;32mIn [80]\u001b[0m, in \u001b[0;36m<cell line: 1>\u001b[0;34m()\u001b[0m\n\u001b[0;32m----> 1\u001b[0m \u001b[43mtf\u001b[49m\u001b[38;5;241;43m.\u001b[39;49m\u001b[43mconstant\u001b[49m\u001b[43m(\u001b[49m\u001b[38;5;241;43m1.0\u001b[39;49m\u001b[43m,\u001b[49m\u001b[43mdtype\u001b[49m\u001b[38;5;241;43m=\u001b[39;49m\u001b[43mtf\u001b[49m\u001b[38;5;241;43m.\u001b[39;49m\u001b[43mfloat64\u001b[49m\u001b[43m)\u001b[49m\u001b[38;5;241;43m+\u001b[39;49m\u001b[43mtf\u001b[49m\u001b[38;5;241;43m.\u001b[39;49m\u001b[43mconstant\u001b[49m\u001b[43m(\u001b[49m\u001b[38;5;241;43m3.14\u001b[39;49m\u001b[43m)\u001b[49m\n",
      "File \u001b[0;32m~/anaconda3/envs/py310/lib/python3.10/site-packages/tensorflow/python/util/traceback_utils.py:153\u001b[0m, in \u001b[0;36mfilter_traceback.<locals>.error_handler\u001b[0;34m(*args, **kwargs)\u001b[0m\n\u001b[1;32m    151\u001b[0m \u001b[38;5;28;01mexcept\u001b[39;00m \u001b[38;5;167;01mException\u001b[39;00m \u001b[38;5;28;01mas\u001b[39;00m e:\n\u001b[1;32m    152\u001b[0m   filtered_tb \u001b[38;5;241m=\u001b[39m _process_traceback_frames(e\u001b[38;5;241m.\u001b[39m__traceback__)\n\u001b[0;32m--> 153\u001b[0m   \u001b[38;5;28;01mraise\u001b[39;00m e\u001b[38;5;241m.\u001b[39mwith_traceback(filtered_tb) \u001b[38;5;28;01mfrom\u001b[39;00m \u001b[38;5;28mNone\u001b[39m\n\u001b[1;32m    154\u001b[0m \u001b[38;5;28;01mfinally\u001b[39;00m:\n\u001b[1;32m    155\u001b[0m   \u001b[38;5;28;01mdel\u001b[39;00m filtered_tb\n",
      "File \u001b[0;32m~/anaconda3/envs/py310/lib/python3.10/site-packages/tensorflow/python/framework/ops.py:7107\u001b[0m, in \u001b[0;36mraise_from_not_ok_status\u001b[0;34m(e, name)\u001b[0m\n\u001b[1;32m   7105\u001b[0m \u001b[38;5;28;01mdef\u001b[39;00m \u001b[38;5;21mraise_from_not_ok_status\u001b[39m(e, name):\n\u001b[1;32m   7106\u001b[0m   e\u001b[38;5;241m.\u001b[39mmessage \u001b[38;5;241m+\u001b[39m\u001b[38;5;241m=\u001b[39m (\u001b[38;5;124m\"\u001b[39m\u001b[38;5;124m name: \u001b[39m\u001b[38;5;124m\"\u001b[39m \u001b[38;5;241m+\u001b[39m name \u001b[38;5;28;01mif\u001b[39;00m name \u001b[38;5;129;01mis\u001b[39;00m \u001b[38;5;129;01mnot\u001b[39;00m \u001b[38;5;28;01mNone\u001b[39;00m \u001b[38;5;28;01melse\u001b[39;00m \u001b[38;5;124m\"\u001b[39m\u001b[38;5;124m\"\u001b[39m)\n\u001b[0;32m-> 7107\u001b[0m   \u001b[38;5;28;01mraise\u001b[39;00m core\u001b[38;5;241m.\u001b[39m_status_to_exception(e) \u001b[38;5;28;01mfrom\u001b[39;00m \u001b[38;5;28mNone\u001b[39m\n",
      "\u001b[0;31mInvalidArgumentError\u001b[0m: cannot compute AddV2 as input #1(zero-based) was expected to be a double tensor but is a float tensor [Op:AddV2]"
     ]
    }
   ],
   "source": [
    "tf.constant(1.0,dtype=tf.float64)+tf.constant(3.14)"
   ]
  },
  {
   "cell_type": "markdown",
   "id": "0f7a75ed-b984-4f27-9440-d57253cb89bd",
   "metadata": {},
   "source": [
    "#### tf.constant $\\to$ 넘파이 "
   ]
  },
  {
   "cell_type": "code",
   "execution_count": 85,
   "id": "b0f01b69-4a9a-46d3-94f3-5e26bcf48ac8",
   "metadata": {},
   "outputs": [
    {
     "data": {
      "text/plain": [
       "array(1, dtype=int32)"
      ]
     },
     "execution_count": 85,
     "metadata": {},
     "output_type": "execute_result"
    }
   ],
   "source": [
    "np.array(tf.constant(1)) # 방법1"
   ]
  },
  {
   "cell_type": "code",
   "execution_count": 89,
   "id": "4e97a26f-6d2b-48d8-aa77-34ad2d2d748a",
   "metadata": {},
   "outputs": [
    {
     "data": {
      "text/plain": [
       "tensorflow.python.framework.ops.EagerTensor"
      ]
     },
     "execution_count": 89,
     "metadata": {},
     "output_type": "execute_result"
    }
   ],
   "source": [
    "a=tf.constant([3.14,-3.14])\n",
    "type(a)"
   ]
  },
  {
   "cell_type": "code",
   "execution_count": 90,
   "id": "8dbd0c41-9d05-459c-8347-ea25d92798ba",
   "metadata": {},
   "outputs": [
    {
     "data": {
      "text/plain": [
       "array([ 3.14, -3.14], dtype=float32)"
      ]
     },
     "execution_count": 90,
     "metadata": {},
     "output_type": "execute_result"
    }
   ],
   "source": [
    "a.numpy()"
   ]
  },
  {
   "cell_type": "markdown",
   "id": "b1e11f1e-122d-4de3-95e8-e8eda9dac045",
   "metadata": {
    "tags": []
   },
   "source": [
    "#### 연산"
   ]
  },
  {
   "cell_type": "code",
   "execution_count": null,
   "id": "5bb395b3-3a2c-4080-b459-c8c5047ac8ca",
   "metadata": {},
   "outputs": [],
   "source": []
  },
  {
   "cell_type": "markdown",
   "id": "36eb6964-8d92-469c-b4fd-5e9ae19bf9af",
   "metadata": {
    "tags": []
   },
   "source": [
    "#### 형태변환"
   ]
  },
  {
   "cell_type": "markdown",
   "id": "327eb735-9f41-40d5-8837-1ff630860b58",
   "metadata": {},
   "source": [
    "#### 선언고급 "
   ]
  },
  {
   "cell_type": "markdown",
   "id": "2d0f27b7-688e-437a-856a-7ebb6d6a4a27",
   "metadata": {},
   "source": [
    "#### tf.concat "
   ]
  },
  {
   "cell_type": "markdown",
   "id": "fd8402bf-ccef-414e-a574-22524b02b593",
   "metadata": {},
   "source": [
    "#### tf.stack "
   ]
  },
  {
   "cell_type": "markdown",
   "id": "57cefe0a-61fa-451a-8b7c-cf27ceb750b6",
   "metadata": {
    "tags": []
   },
   "source": [
    "#### tf.einsum"
   ]
  },
  {
   "cell_type": "markdown",
   "id": "d314cfb7-f3f1-496d-b5cb-ac6f57eaa503",
   "metadata": {},
   "source": [
    "### tnp"
   ]
  },
  {
   "cell_type": "markdown",
   "id": "de010dbc-4294-4a4f-a861-c13799fe1eb6",
   "metadata": {},
   "source": [
    "#### tnp 사용방법 (불만해결방법)"
   ]
  },
  {
   "cell_type": "markdown",
   "id": "a7e4538a-52ff-4f84-8ac9-5381e0970fef",
   "metadata": {},
   "source": [
    "#### 선언, 선언고급"
   ]
  },
  {
   "cell_type": "markdown",
   "id": "c1a84f81-fff4-4a5a-b8b2-8045ba3943fe",
   "metadata": {},
   "source": [
    "#### 타입"
   ]
  },
  {
   "cell_type": "markdown",
   "id": "bb759864-ef75-4ba0-9a11-d10cca6669f3",
   "metadata": {},
   "source": [
    "#### tf.contant로 만들어도 마치 넘파이인듯 쓰는 기능들"
   ]
  },
  {
   "cell_type": "markdown",
   "id": "8426767e-976c-4e35-a390-7f2943ec4e8d",
   "metadata": {},
   "source": [
    "#### 그렇지만 np.array는 아님 "
   ]
  },
  {
   "cell_type": "markdown",
   "id": "134e8dc9-4dcf-4802-b6c8-ca0178d2792d",
   "metadata": {},
   "source": [
    "### tf.Variable"
   ]
  },
  {
   "cell_type": "markdown",
   "id": "da5a80db-9fe7-4c46-b210-dd10a07fef3b",
   "metadata": {},
   "source": [
    "#### 선언 "
   ]
  },
  {
   "cell_type": "markdown",
   "id": "e60dd0db-f157-4def-802d-613b2bd20804",
   "metadata": {},
   "source": [
    "#### 타입"
   ]
  },
  {
   "cell_type": "markdown",
   "id": "ea5946ae-2c9a-4d31-8720-5c136a024eca",
   "metadata": {},
   "source": [
    "#### 인덱싱 "
   ]
  },
  {
   "cell_type": "markdown",
   "id": "7e469d06-98f9-4470-a654-299a97383706",
   "metadata": {},
   "source": [
    "#### tf.Variable $\\to$ 넘파이 "
   ]
  },
  {
   "cell_type": "markdown",
   "id": "065ea0b5-16ea-4884-b640-ac074d0c44ce",
   "metadata": {},
   "source": [
    "#### tf.Variable 도 불편하다. "
   ]
  },
  {
   "cell_type": "markdown",
   "id": "6f802f8d-2562-4af8-b386-199fb01461c5",
   "metadata": {},
   "source": [
    "#### 연산 "
   ]
  },
  {
   "cell_type": "markdown",
   "id": "5ae73107-074f-4c65-8ebb-4bf54e889b4c",
   "metadata": {},
   "source": [
    "#### 형태변환 "
   ]
  },
  {
   "cell_type": "markdown",
   "id": "a9b7e7eb-aeb9-491b-83d7-4a3d26334364",
   "metadata": {},
   "source": [
    "#### 선언고급 "
   ]
  },
  {
   "cell_type": "markdown",
   "id": "ac9fb364-db20-4174-8b1d-5a476436fe77",
   "metadata": {},
   "source": [
    "#### tf.concat "
   ]
  },
  {
   "cell_type": "markdown",
   "id": "fc96fc7a-a57e-4eee-9931-88bca5d3e0f6",
   "metadata": {},
   "source": [
    "#### tf.stack"
   ]
  },
  {
   "cell_type": "markdown",
   "id": "43844a72-d627-49f1-8146-36859459a654",
   "metadata": {},
   "source": [
    "#### 심지어 tf.Variable()로 만들어진 오브젝트는 tnp의 효과(은총)도 받지 못함"
   ]
  }
 ],
 "metadata": {
  "kernelspec": {
   "display_name": "Python 3 (ipykernel)",
   "language": "python",
   "name": "python3"
  },
  "language_info": {
   "codemirror_mode": {
    "name": "ipython",
    "version": 3
   },
   "file_extension": ".py",
   "mimetype": "text/x-python",
   "name": "python",
   "nbconvert_exporter": "python",
   "pygments_lexer": "ipython3",
   "version": "3.10.0"
  }
 },
 "nbformat": 4,
 "nbformat_minor": 5
}
