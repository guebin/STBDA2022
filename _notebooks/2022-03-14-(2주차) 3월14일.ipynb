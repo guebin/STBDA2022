{
 "cells": [
  {
   "cell_type": "markdown",
   "id": "904c2d8f-accf-4a4a-86b3-e9a6361ba29a",
   "metadata": {},
   "source": [
    "# (1주차) 3월14일 \n",
    "\n",
    "- toc:true\n",
    "- branch: master\n",
    "- badges: true\n",
    "- comments: true\n",
    "- author: 최규빈"
   ]
  },
  {
   "cell_type": "code",
   "execution_count": 1,
   "id": "e18d4288-4668-45c2-a66f-5bb76f5b9ca2",
   "metadata": {},
   "outputs": [],
   "source": [
    "import tensorflow as tf\n",
    "import numpy as np"
   ]
  },
  {
   "cell_type": "code",
   "execution_count": 3,
   "id": "c4a78936-73df-4a20-8041-0d76aa07fd0f",
   "metadata": {},
   "outputs": [
    {
     "data": {
      "text/plain": [
       "[PhysicalDevice(name='/physical_device:GPU:0', device_type='GPU')]"
      ]
     },
     "execution_count": 3,
     "metadata": {},
     "output_type": "execute_result"
    }
   ],
   "source": [
    "tf.config.experimental.list_physical_devices('GPU')"
   ]
  },
  {
   "cell_type": "markdown",
   "id": "1f7d8172-8b82-4777-b922-aa46ea9e5a48",
   "metadata": {},
   "source": [
    "### tf.constant "
   ]
  },
  {
   "cell_type": "markdown",
   "id": "19d1b4f6-91ae-4638-b332-103dadaf6473",
   "metadata": {},
   "source": [
    "#### 예비학습: 중첩리스트 "
   ]
  },
  {
   "cell_type": "markdown",
   "id": "6a4dd379-e9c5-4e5d-a3ec-c2383ae1ac56",
   "metadata": {},
   "source": [
    "#### 선언"
   ]
  },
  {
   "cell_type": "markdown",
   "id": "db79211f-706f-4388-9e10-6b057ec840fb",
   "metadata": {},
   "source": [
    "#### 타입"
   ]
  },
  {
   "cell_type": "markdown",
   "id": "f06b1e19-16d1-4667-b881-5aabf63c84d9",
   "metadata": {},
   "source": [
    "#### 인덱싱 "
   ]
  },
  {
   "cell_type": "markdown",
   "id": "cebc2e49-6c71-47bf-a884-e8556c3198cf",
   "metadata": {},
   "source": [
    "#### tf.constant는 불편하다. "
   ]
  },
  {
   "cell_type": "markdown",
   "id": "0f7a75ed-b984-4f27-9440-d57253cb89bd",
   "metadata": {},
   "source": [
    "#### tf.constant $\\to$ 넘파이 "
   ]
  },
  {
   "cell_type": "markdown",
   "id": "b1e11f1e-122d-4de3-95e8-e8eda9dac045",
   "metadata": {},
   "source": [
    "#### 연산"
   ]
  },
  {
   "cell_type": "markdown",
   "id": "36eb6964-8d92-469c-b4fd-5e9ae19bf9af",
   "metadata": {
    "tags": []
   },
   "source": [
    "#### 형태변환"
   ]
  },
  {
   "cell_type": "markdown",
   "id": "327eb735-9f41-40d5-8837-1ff630860b58",
   "metadata": {},
   "source": [
    "#### 선언고급 "
   ]
  },
  {
   "cell_type": "markdown",
   "id": "2d0f27b7-688e-437a-856a-7ebb6d6a4a27",
   "metadata": {},
   "source": [
    "#### tf.concat "
   ]
  },
  {
   "cell_type": "markdown",
   "id": "fd8402bf-ccef-414e-a574-22524b02b593",
   "metadata": {},
   "source": [
    "#### tf.stack "
   ]
  },
  {
   "cell_type": "markdown",
   "id": "57cefe0a-61fa-451a-8b7c-cf27ceb750b6",
   "metadata": {
    "tags": []
   },
   "source": [
    "#### tf.einsum"
   ]
  },
  {
   "cell_type": "markdown",
   "id": "d314cfb7-f3f1-496d-b5cb-ac6f57eaa503",
   "metadata": {},
   "source": [
    "### tnp"
   ]
  },
  {
   "cell_type": "markdown",
   "id": "de010dbc-4294-4a4f-a861-c13799fe1eb6",
   "metadata": {},
   "source": [
    "#### tnp 사용방법 (불만해결방법)"
   ]
  },
  {
   "cell_type": "markdown",
   "id": "a7e4538a-52ff-4f84-8ac9-5381e0970fef",
   "metadata": {},
   "source": [
    "#### 선언, 선언고급"
   ]
  },
  {
   "cell_type": "markdown",
   "id": "c1a84f81-fff4-4a5a-b8b2-8045ba3943fe",
   "metadata": {},
   "source": [
    "#### 타입"
   ]
  },
  {
   "cell_type": "markdown",
   "id": "bb759864-ef75-4ba0-9a11-d10cca6669f3",
   "metadata": {},
   "source": [
    "#### tf.contant로 만들어도 마치 넘파이인듯 쓰는 기능들"
   ]
  },
  {
   "cell_type": "markdown",
   "id": "8426767e-976c-4e35-a390-7f2943ec4e8d",
   "metadata": {},
   "source": [
    "#### 그렇지만 np.array는 아님 "
   ]
  },
  {
   "cell_type": "markdown",
   "id": "134e8dc9-4dcf-4802-b6c8-ca0178d2792d",
   "metadata": {},
   "source": [
    "### tf.Variable"
   ]
  },
  {
   "cell_type": "markdown",
   "id": "da5a80db-9fe7-4c46-b210-dd10a07fef3b",
   "metadata": {},
   "source": [
    "#### 선언 "
   ]
  },
  {
   "cell_type": "markdown",
   "id": "e60dd0db-f157-4def-802d-613b2bd20804",
   "metadata": {},
   "source": [
    "#### 타입"
   ]
  },
  {
   "cell_type": "markdown",
   "id": "ea5946ae-2c9a-4d31-8720-5c136a024eca",
   "metadata": {},
   "source": [
    "#### 인덱싱 "
   ]
  },
  {
   "cell_type": "markdown",
   "id": "7e469d06-98f9-4470-a654-299a97383706",
   "metadata": {},
   "source": [
    "#### tf.Variable $\\to$ 넘파이 "
   ]
  },
  {
   "cell_type": "markdown",
   "id": "065ea0b5-16ea-4884-b640-ac074d0c44ce",
   "metadata": {},
   "source": [
    "#### tf.Variable 도 불편하다. "
   ]
  },
  {
   "cell_type": "markdown",
   "id": "6f802f8d-2562-4af8-b386-199fb01461c5",
   "metadata": {},
   "source": [
    "#### 연산 "
   ]
  },
  {
   "cell_type": "markdown",
   "id": "5ae73107-074f-4c65-8ebb-4bf54e889b4c",
   "metadata": {},
   "source": [
    "#### 형태변환 "
   ]
  },
  {
   "cell_type": "markdown",
   "id": "a9b7e7eb-aeb9-491b-83d7-4a3d26334364",
   "metadata": {},
   "source": [
    "#### 선언고급 "
   ]
  },
  {
   "cell_type": "markdown",
   "id": "ac9fb364-db20-4174-8b1d-5a476436fe77",
   "metadata": {},
   "source": [
    "#### tf.concat "
   ]
  },
  {
   "cell_type": "markdown",
   "id": "fc96fc7a-a57e-4eee-9931-88bca5d3e0f6",
   "metadata": {},
   "source": [
    "#### tf.stack"
   ]
  },
  {
   "cell_type": "markdown",
   "id": "43844a72-d627-49f1-8146-36859459a654",
   "metadata": {},
   "source": [
    "#### 심지어 tf.Variable()로 만들어진 오브젝트는 tnp의 효과(은총)도 받지 못함"
   ]
  }
 ],
 "metadata": {
  "kernelspec": {
   "display_name": "Python 3 (ipykernel)",
   "language": "python",
   "name": "python3"
  },
  "language_info": {
   "codemirror_mode": {
    "name": "ipython",
    "version": 3
   },
   "file_extension": ".py",
   "mimetype": "text/x-python",
   "name": "python",
   "nbconvert_exporter": "python",
   "pygments_lexer": "ipython3",
   "version": "3.10.0"
  }
 },
 "nbformat": 4,
 "nbformat_minor": 5
}
